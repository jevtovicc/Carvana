{
 "cells": [
  {
   "cell_type": "markdown",
   "metadata": {},
   "source": [
    "# Data and Preprocessing"
   ]
  },
  {
   "cell_type": "code",
   "execution_count": 163,
   "metadata": {},
   "outputs": [
    {
     "data": {
      "text/html": [
       "<div>\n",
       "<style scoped>\n",
       "    .dataframe tbody tr th:only-of-type {\n",
       "        vertical-align: middle;\n",
       "    }\n",
       "\n",
       "    .dataframe tbody tr th {\n",
       "        vertical-align: top;\n",
       "    }\n",
       "\n",
       "    .dataframe thead th {\n",
       "        text-align: right;\n",
       "    }\n",
       "</style>\n",
       "<table border=\"1\" class=\"dataframe\">\n",
       "  <thead>\n",
       "    <tr style=\"text-align: right;\">\n",
       "      <th></th>\n",
       "      <th>RefId</th>\n",
       "      <th>PurchDate</th>\n",
       "      <th>Auction</th>\n",
       "      <th>VehYear</th>\n",
       "      <th>VehicleAge</th>\n",
       "      <th>Make</th>\n",
       "      <th>Model</th>\n",
       "      <th>Trim</th>\n",
       "      <th>SubModel</th>\n",
       "      <th>Color</th>\n",
       "      <th>...</th>\n",
       "      <th>MMRCurrentRetailCleanPrice</th>\n",
       "      <th>PRIMEUNIT</th>\n",
       "      <th>AUCGUART</th>\n",
       "      <th>BYRNO</th>\n",
       "      <th>VNZIP1</th>\n",
       "      <th>VNST</th>\n",
       "      <th>VehBCost</th>\n",
       "      <th>IsOnlineSale</th>\n",
       "      <th>WarrantyCost</th>\n",
       "      <th>IsBadBuy</th>\n",
       "    </tr>\n",
       "  </thead>\n",
       "  <tbody>\n",
       "    <tr>\n",
       "      <th>0</th>\n",
       "      <td>1</td>\n",
       "      <td>1/7/2009 0:12</td>\n",
       "      <td>ADESA</td>\n",
       "      <td>2005</td>\n",
       "      <td>4</td>\n",
       "      <td>DODGE</td>\n",
       "      <td>STRATUS V6</td>\n",
       "      <td>SXT</td>\n",
       "      <td>4D SEDAN SXT FFV</td>\n",
       "      <td>MAROON</td>\n",
       "      <td>...</td>\n",
       "      <td>8702.0</td>\n",
       "      <td>NaN</td>\n",
       "      <td>NaN</td>\n",
       "      <td>19638</td>\n",
       "      <td>33619</td>\n",
       "      <td>FL</td>\n",
       "      <td>4900.0</td>\n",
       "      <td>0</td>\n",
       "      <td>1389</td>\n",
       "      <td>0</td>\n",
       "    </tr>\n",
       "    <tr>\n",
       "      <th>1</th>\n",
       "      <td>2</td>\n",
       "      <td>1/7/2009 0:12</td>\n",
       "      <td>ADESA</td>\n",
       "      <td>2004</td>\n",
       "      <td>5</td>\n",
       "      <td>DODGE</td>\n",
       "      <td>NEON</td>\n",
       "      <td>SXT</td>\n",
       "      <td>4D SEDAN</td>\n",
       "      <td>SILVER</td>\n",
       "      <td>...</td>\n",
       "      <td>5518.0</td>\n",
       "      <td>NaN</td>\n",
       "      <td>NaN</td>\n",
       "      <td>19638</td>\n",
       "      <td>33619</td>\n",
       "      <td>FL</td>\n",
       "      <td>4100.0</td>\n",
       "      <td>0</td>\n",
       "      <td>630</td>\n",
       "      <td>0</td>\n",
       "    </tr>\n",
       "    <tr>\n",
       "      <th>2</th>\n",
       "      <td>3</td>\n",
       "      <td>1/7/2009 0:12</td>\n",
       "      <td>ADESA</td>\n",
       "      <td>2005</td>\n",
       "      <td>4</td>\n",
       "      <td>FORD</td>\n",
       "      <td>FOCUS</td>\n",
       "      <td>ZX3</td>\n",
       "      <td>2D COUPE ZX3</td>\n",
       "      <td>SILVER</td>\n",
       "      <td>...</td>\n",
       "      <td>7911.0</td>\n",
       "      <td>NaN</td>\n",
       "      <td>NaN</td>\n",
       "      <td>19638</td>\n",
       "      <td>33619</td>\n",
       "      <td>FL</td>\n",
       "      <td>4000.0</td>\n",
       "      <td>0</td>\n",
       "      <td>1020</td>\n",
       "      <td>0</td>\n",
       "    </tr>\n",
       "    <tr>\n",
       "      <th>3</th>\n",
       "      <td>4</td>\n",
       "      <td>1/7/2009 0:12</td>\n",
       "      <td>ADESA</td>\n",
       "      <td>2004</td>\n",
       "      <td>5</td>\n",
       "      <td>MITSUBISHI</td>\n",
       "      <td>GALANT 4C</td>\n",
       "      <td>ES</td>\n",
       "      <td>4D SEDAN ES</td>\n",
       "      <td>WHITE</td>\n",
       "      <td>...</td>\n",
       "      <td>9451.0</td>\n",
       "      <td>NaN</td>\n",
       "      <td>NaN</td>\n",
       "      <td>19638</td>\n",
       "      <td>33619</td>\n",
       "      <td>FL</td>\n",
       "      <td>5600.0</td>\n",
       "      <td>0</td>\n",
       "      <td>594</td>\n",
       "      <td>0</td>\n",
       "    </tr>\n",
       "    <tr>\n",
       "      <th>4</th>\n",
       "      <td>5</td>\n",
       "      <td>1/21/2009 0:12</td>\n",
       "      <td>ADESA</td>\n",
       "      <td>2004</td>\n",
       "      <td>5</td>\n",
       "      <td>DODGE</td>\n",
       "      <td>1500 RAM PICKUP 2WD</td>\n",
       "      <td>ST</td>\n",
       "      <td>QUAD CAB 4.7L SLT</td>\n",
       "      <td>WHITE</td>\n",
       "      <td>...</td>\n",
       "      <td>12560.0</td>\n",
       "      <td>NaN</td>\n",
       "      <td>NaN</td>\n",
       "      <td>19638</td>\n",
       "      <td>33619</td>\n",
       "      <td>FL</td>\n",
       "      <td>8800.0</td>\n",
       "      <td>0</td>\n",
       "      <td>920</td>\n",
       "      <td>0</td>\n",
       "    </tr>\n",
       "  </tbody>\n",
       "</table>\n",
       "<p>5 rows × 34 columns</p>\n",
       "</div>"
      ],
      "text/plain": [
       "   RefId       PurchDate Auction  VehYear  VehicleAge        Make  \\\n",
       "0      1   1/7/2009 0:12   ADESA     2005           4       DODGE   \n",
       "1      2   1/7/2009 0:12   ADESA     2004           5       DODGE   \n",
       "2      3   1/7/2009 0:12   ADESA     2005           4        FORD   \n",
       "3      4   1/7/2009 0:12   ADESA     2004           5  MITSUBISHI   \n",
       "4      5  1/21/2009 0:12   ADESA     2004           5       DODGE   \n",
       "\n",
       "                 Model Trim           SubModel   Color  ...  \\\n",
       "0           STRATUS V6  SXT   4D SEDAN SXT FFV  MAROON  ...   \n",
       "1                 NEON  SXT           4D SEDAN  SILVER  ...   \n",
       "2                FOCUS  ZX3       2D COUPE ZX3  SILVER  ...   \n",
       "3            GALANT 4C   ES        4D SEDAN ES   WHITE  ...   \n",
       "4  1500 RAM PICKUP 2WD   ST  QUAD CAB 4.7L SLT   WHITE  ...   \n",
       "\n",
       "  MMRCurrentRetailCleanPrice  PRIMEUNIT AUCGUART  BYRNO VNZIP1 VNST VehBCost  \\\n",
       "0                     8702.0        NaN      NaN  19638  33619   FL   4900.0   \n",
       "1                     5518.0        NaN      NaN  19638  33619   FL   4100.0   \n",
       "2                     7911.0        NaN      NaN  19638  33619   FL   4000.0   \n",
       "3                     9451.0        NaN      NaN  19638  33619   FL   5600.0   \n",
       "4                    12560.0        NaN      NaN  19638  33619   FL   8800.0   \n",
       "\n",
       "   IsOnlineSale  WarrantyCost  IsBadBuy  \n",
       "0             0          1389         0  \n",
       "1             0           630         0  \n",
       "2             0          1020         0  \n",
       "3             0           594         0  \n",
       "4             0           920         0  \n",
       "\n",
       "[5 rows x 34 columns]"
      ]
     },
     "execution_count": 163,
     "metadata": {},
     "output_type": "execute_result"
    }
   ],
   "source": [
    "import numpy as np\n",
    "import pandas as pd\n",
    "import warnings\n",
    "warnings.filterwarnings('ignore')\n",
    "\n",
    "df = pd.read_csv('carvana.csv')\n",
    "df.head()"
   ]
  },
  {
   "cell_type": "code",
   "execution_count": 164,
   "metadata": {},
   "outputs": [
    {
     "data": {
      "text/plain": [
       "(6798, 34)"
      ]
     },
     "execution_count": 164,
     "metadata": {},
     "output_type": "execute_result"
    }
   ],
   "source": [
    "df.shape"
   ]
  },
  {
   "cell_type": "code",
   "execution_count": 165,
   "metadata": {},
   "outputs": [
    {
     "data": {
      "text/plain": [
       "RefId                                  int64\n",
       "PurchDate                             object\n",
       "Auction                               object\n",
       "VehYear                                int64\n",
       "VehicleAge                             int64\n",
       "Make                                  object\n",
       "Model                                 object\n",
       "Trim                                  object\n",
       "SubModel                              object\n",
       "Color                                 object\n",
       "Transmission                          object\n",
       "WheelTypeID                          float64\n",
       "WheelType                             object\n",
       "VehOdo                                 int64\n",
       "Nationality                           object\n",
       "Size                                  object\n",
       "TopThreeAmericanName                  object\n",
       "MMRAcquisitionAuctionAveragePrice    float64\n",
       "MMRAcquisitionAuctionCleanPrice      float64\n",
       "MMRAcquisitionRetailAveragePrice     float64\n",
       "MMRAcquisitonRetailCleanPrice        float64\n",
       "MMRCurrentAuctionAveragePrice        float64\n",
       "MMRCurrentAuctionCleanPrice          float64\n",
       "MMRCurrentRetailAveragePrice         float64\n",
       "MMRCurrentRetailCleanPrice           float64\n",
       "PRIMEUNIT                             object\n",
       "AUCGUART                              object\n",
       "BYRNO                                  int64\n",
       "VNZIP1                                 int64\n",
       "VNST                                  object\n",
       "VehBCost                             float64\n",
       "IsOnlineSale                           int64\n",
       "WarrantyCost                           int64\n",
       "IsBadBuy                               int64\n",
       "dtype: object"
      ]
     },
     "execution_count": 165,
     "metadata": {},
     "output_type": "execute_result"
    }
   ],
   "source": [
    "df.dtypes"
   ]
  },
  {
   "cell_type": "code",
   "execution_count": 166,
   "metadata": {},
   "outputs": [],
   "source": [
    "df['BYRNO'] = df['BYRNO'].astype('object')\n",
    "df['VNZIP1'] = df['VNZIP1'].astype('object')"
   ]
  },
  {
   "cell_type": "markdown",
   "metadata": {},
   "source": [
    "\n",
    "Since features 'AUCGUART' and 'PRIMEUNIT' have huge number of NA values, we will drop those features"
   ]
  },
  {
   "cell_type": "code",
   "execution_count": 167,
   "metadata": {},
   "outputs": [],
   "source": [
    "df.drop(['AUCGUART', 'PRIMEUNIT'], axis = 1, inplace = True)"
   ]
  },
  {
   "cell_type": "code",
   "execution_count": 168,
   "metadata": {},
   "outputs": [
    {
     "data": {
      "text/plain": [
       "RefId                                   0\n",
       "PurchDate                               0\n",
       "Auction                              3815\n",
       "VehYear                                 0\n",
       "VehicleAge                              0\n",
       "Make                                    0\n",
       "Model                                   0\n",
       "Trim                                  232\n",
       "SubModel                                0\n",
       "Color                                   0\n",
       "Transmission                            0\n",
       "WheelTypeID                           283\n",
       "WheelType                             339\n",
       "VehOdo                                  0\n",
       "Nationality                             1\n",
       "Size                                    1\n",
       "TopThreeAmericanName                    1\n",
       "MMRAcquisitionAuctionAveragePrice       1\n",
       "MMRAcquisitionAuctionCleanPrice         1\n",
       "MMRAcquisitionRetailAveragePrice        1\n",
       "MMRAcquisitonRetailCleanPrice           1\n",
       "MMRCurrentAuctionAveragePrice          21\n",
       "MMRCurrentAuctionCleanPrice            21\n",
       "MMRCurrentRetailAveragePrice           21\n",
       "MMRCurrentRetailCleanPrice             21\n",
       "BYRNO                                   0\n",
       "VNZIP1                                  0\n",
       "VNST                                 5667\n",
       "VehBCost                                0\n",
       "IsOnlineSale                            0\n",
       "WarrantyCost                            0\n",
       "IsBadBuy                                0\n",
       "dtype: int64"
      ]
     },
     "execution_count": 168,
     "metadata": {},
     "output_type": "execute_result"
    }
   ],
   "source": [
    "df.isna().sum()"
   ]
  },
  {
   "cell_type": "code",
   "execution_count": 169,
   "metadata": {},
   "outputs": [],
   "source": [
    "# Since the same observation have NA values for multiple features, we will drop that observation\n",
    "df = df.loc[~df['Nationality'].isna(), :]\n",
    "df = df.loc[~df['MMRAcquisitionAuctionAveragePrice'].isna(), :]\n",
    "df = df.loc[~df['MMRCurrentAuctionAveragePrice'].isna(), :]\n",
    "# Since features 'Auction' and 'VNST' have huge number of NA values, we will drop those features\n",
    "df.drop(['Auction', 'VNST'], axis = 1, inplace = True)\n",
    "# WheelTypeID is numerical representation of WheelType, so it will be droped\n",
    "df.drop('WheelTypeID', axis = 1, inplace = True)"
   ]
  },
  {
   "cell_type": "code",
   "execution_count": 170,
   "metadata": {},
   "outputs": [
    {
     "data": {
      "text/plain": [
       "RefId                                  0\n",
       "PurchDate                              0\n",
       "VehYear                                0\n",
       "VehicleAge                             0\n",
       "Make                                   0\n",
       "Model                                  0\n",
       "Trim                                 232\n",
       "SubModel                               0\n",
       "Color                                  0\n",
       "Transmission                           0\n",
       "WheelType                            339\n",
       "VehOdo                                 0\n",
       "Nationality                            0\n",
       "Size                                   0\n",
       "TopThreeAmericanName                   0\n",
       "MMRAcquisitionAuctionAveragePrice      0\n",
       "MMRAcquisitionAuctionCleanPrice        0\n",
       "MMRAcquisitionRetailAveragePrice       0\n",
       "MMRAcquisitonRetailCleanPrice          0\n",
       "MMRCurrentAuctionAveragePrice          0\n",
       "MMRCurrentAuctionCleanPrice            0\n",
       "MMRCurrentRetailAveragePrice           0\n",
       "MMRCurrentRetailCleanPrice             0\n",
       "BYRNO                                  0\n",
       "VNZIP1                                 0\n",
       "VehBCost                               0\n",
       "IsOnlineSale                           0\n",
       "WarrantyCost                           0\n",
       "IsBadBuy                               0\n",
       "dtype: int64"
      ]
     },
     "execution_count": 170,
     "metadata": {},
     "output_type": "execute_result"
    }
   ],
   "source": [
    "df.isna().sum()"
   ]
  },
  {
   "cell_type": "code",
   "execution_count": 171,
   "metadata": {},
   "outputs": [],
   "source": [
    "df = df.set_index('RefId')\n",
    "# Purchase Date is irrelevant since we have Vehicle Year and Vehicle Age\n",
    "df = df.drop('PurchDate', axis = 1)"
   ]
  },
  {
   "cell_type": "code",
   "execution_count": 172,
   "metadata": {},
   "outputs": [],
   "source": [
    "X = df.drop('IsBadBuy', axis = 1)\n",
    "y = df['IsBadBuy']"
   ]
  },
  {
   "cell_type": "markdown",
   "metadata": {},
   "source": [
    "### Exploring the distribution of outcome variable"
   ]
  },
  {
   "cell_type": "code",
   "execution_count": 173,
   "metadata": {},
   "outputs": [
    {
     "data": {
      "text/plain": [
       "0    5911\n",
       "1     865\n",
       "Name: IsBadBuy, dtype: int64"
      ]
     },
     "execution_count": 173,
     "metadata": {},
     "output_type": "execute_result"
    }
   ],
   "source": [
    "y.value_counts()"
   ]
  },
  {
   "cell_type": "code",
   "execution_count": 174,
   "metadata": {},
   "outputs": [
    {
     "data": {
      "text/plain": [
       "0    0.872344\n",
       "1    0.127656\n",
       "Name: IsBadBuy, dtype: float64"
      ]
     },
     "execution_count": 174,
     "metadata": {},
     "output_type": "execute_result"
    }
   ],
   "source": [
    "y.value_counts(normalize = True)"
   ]
  },
  {
   "cell_type": "markdown",
   "metadata": {},
   "source": [
    "### We can see that data is highly inbalanced, so we will use various techniques in further analyisis to solve that problem"
   ]
  },
  {
   "cell_type": "markdown",
   "metadata": {},
   "source": [
    "# Splitting data into train and test set"
   ]
  },
  {
   "cell_type": "code",
   "execution_count": 175,
   "metadata": {},
   "outputs": [],
   "source": [
    "from sklearn.model_selection import train_test_split\n",
    "\n",
    "RAND_STATE = 42\n",
    "\n",
    "X_train, X_test, y_train, y_test = train_test_split(X, y, test_size = 0.2, random_state = RAND_STATE, stratify=y)"
   ]
  },
  {
   "cell_type": "code",
   "execution_count": 176,
   "metadata": {},
   "outputs": [],
   "source": [
    "from sklearn.metrics import roc_auc_score, accuracy_score\n",
    "from sklearn.tree import DecisionTreeClassifier\n",
    "from sklearn.linear_model import LogisticRegression\n",
    "from sklearn.neighbors import KNeighborsClassifier\n",
    "from sklearn.compose import ColumnTransformer\n",
    "from sklearn.pipeline import Pipeline\n",
    "from sklearn.impute import SimpleImputer\n",
    "from sklearn.preprocessing import OneHotEncoder, StandardScaler\n",
    "from sklearn.model_selection import cross_validate"
   ]
  },
  {
   "cell_type": "markdown",
   "metadata": {},
   "source": [
    "# Building predictive models with default parameters through pipeline"
   ]
  },
  {
   "cell_type": "markdown",
   "metadata": {},
   "source": [
    "### KNN"
   ]
  },
  {
   "cell_type": "code",
   "execution_count": 177,
   "metadata": {},
   "outputs": [
    {
     "name": "stdout",
     "output_type": "stream",
     "text": [
      "KNN\n",
      "Accuracy: 0.8579335793357933\n",
      "ROC AUC: 0.5632689238513369\n"
     ]
    }
   ],
   "source": [
    "categorical_pipeline = Pipeline([('imputer', SimpleImputer(strategy = 'most_frequent')),\n",
    "                                 ('encoder', OneHotEncoder(handle_unknown = 'ignore', min_frequency=5))])\n",
    "\n",
    "numerical_pipeline = Pipeline([('imputer', SimpleImputer()), ('standardization', StandardScaler())])\n",
    "\n",
    "preprocessor = ColumnTransformer([('num', numerical_pipeline, X.select_dtypes('number').columns),\n",
    "                                  ('cat', categorical_pipeline, X.select_dtypes('object').columns)])\n",
    "\n",
    "pipe = Pipeline([('preprocessing', preprocessor), ('knn', KNeighborsClassifier(n_neighbors=5))])\n",
    "\n",
    "knn_dict = cross_validate(pipe, X_train, y_train, scoring = ['accuracy', 'roc_auc'], cv = 10)\n",
    "print('KNN')\n",
    "print('Accuracy:', knn_dict['test_accuracy'].mean())\n",
    "print('ROC AUC:', knn_dict['test_roc_auc'].mean())"
   ]
  },
  {
   "cell_type": "markdown",
   "metadata": {},
   "source": [
    "Testing KNN model on out of sample data"
   ]
  },
  {
   "cell_type": "code",
   "execution_count": 178,
   "metadata": {},
   "outputs": [
    {
     "name": "stdout",
     "output_type": "stream",
     "text": [
      "KNN on Out of Sample data\n",
      "Accuracy: 0.8591445427728613\n",
      "ROC AUC: 0.5121323762942259\n"
     ]
    }
   ],
   "source": [
    "pipe.fit(X_train, y_train)\n",
    "y_hat = pipe.predict(X_test)\n",
    "print('KNN on Out of Sample data')\n",
    "print('Accuracy:', accuracy_score(y_test, y_hat))\n",
    "print('ROC AUC:', roc_auc_score(y_test, y_hat))"
   ]
  },
  {
   "cell_type": "markdown",
   "metadata": {},
   "source": [
    "### Logistic Regression"
   ]
  },
  {
   "cell_type": "code",
   "execution_count": 179,
   "metadata": {},
   "outputs": [
    {
     "name": "stdout",
     "output_type": "stream",
     "text": [
      "Logistic Regression\n",
      "Accuracy: 0.8619926199261994\n",
      "ROC AUC: 0.6460073877625632\n"
     ]
    }
   ],
   "source": [
    "pipe.steps[1] = ('lr', LogisticRegression(random_state=42, solver = 'liblinear'))\n",
    "\n",
    "lr_dict = cross_validate(pipe, X_train, y_train, scoring = ['accuracy', 'roc_auc'], cv = 10)\n",
    "print('Logistic Regression')\n",
    "print('Accuracy:', lr_dict['test_accuracy'].mean())\n",
    "print('ROC AUC:', lr_dict['test_roc_auc'].mean())"
   ]
  },
  {
   "cell_type": "markdown",
   "metadata": {},
   "source": [
    "Testing LR model on out of sample data"
   ]
  },
  {
   "cell_type": "code",
   "execution_count": 180,
   "metadata": {},
   "outputs": [
    {
     "name": "stdout",
     "output_type": "stream",
     "text": [
      "LR on Out of Sample data\n",
      "Accuracy: 0.8657817109144543\n",
      "ROC AUC: 0.5134687455719025\n"
     ]
    }
   ],
   "source": [
    "pipe.fit(X_train, y_train)\n",
    "y_hat = pipe.predict(X_test)\n",
    "print('LR on Out of Sample data')\n",
    "print('Accuracy:', accuracy_score(y_test, y_hat))\n",
    "print('ROC AUC:', roc_auc_score(y_test, y_hat))"
   ]
  },
  {
   "cell_type": "markdown",
   "metadata": {},
   "source": [
    "### Decision Tree"
   ]
  },
  {
   "cell_type": "code",
   "execution_count": 181,
   "metadata": {},
   "outputs": [
    {
     "name": "stdout",
     "output_type": "stream",
     "text": [
      "Decision Tree\n",
      "Accuracy: 0.7894833948339484\n",
      "ROC AUC: 0.5241135053087077\n"
     ]
    }
   ],
   "source": [
    "pipe.steps[1] = ('dt', DecisionTreeClassifier(random_state=42))\n",
    "\n",
    "dt_dict = cross_validate(pipe, X_train, y_train, scoring = ['accuracy', 'roc_auc'], cv = 10)\n",
    "print('Decision Tree')\n",
    "print('Accuracy:', dt_dict['test_accuracy'].mean())\n",
    "print('ROC AUC:', dt_dict['test_roc_auc'].mean())"
   ]
  },
  {
   "cell_type": "markdown",
   "metadata": {},
   "source": [
    "Testing DT model on out of sample data"
   ]
  },
  {
   "cell_type": "code",
   "execution_count": 182,
   "metadata": {},
   "outputs": [
    {
     "name": "stdout",
     "output_type": "stream",
     "text": [
      "DT on Out of Sample data\n",
      "Accuracy: 0.7912979351032449\n",
      "ROC AUC: 0.5127284898294235\n"
     ]
    }
   ],
   "source": [
    "pipe.fit(X_train, y_train)\n",
    "y_hat = pipe.predict(X_test)\n",
    "print('DT on Out of Sample data')\n",
    "print('Accuracy:', accuracy_score(y_test, y_hat))\n",
    "print('ROC AUC:', roc_auc_score(y_test, y_hat))"
   ]
  },
  {
   "cell_type": "markdown",
   "metadata": {},
   "source": [
    "### With each model we get low roc_auc_score, so obviously we need to balance the distribution of the class variable"
   ]
  },
  {
   "cell_type": "markdown",
   "metadata": {},
   "source": [
    "## Undersampling"
   ]
  },
  {
   "cell_type": "code",
   "execution_count": 183,
   "metadata": {},
   "outputs": [
    {
     "name": "stdout",
     "output_type": "stream",
     "text": [
      "KNN RUS\n",
      "Accuracy: 0.5612546125461254\n",
      "ROC AUC: 0.5853433368806821\n"
     ]
    }
   ],
   "source": [
    "from imblearn.under_sampling import RandomUnderSampler\n",
    "from imblearn.pipeline import make_pipeline\n",
    "\n",
    "pipe = make_pipeline(preprocessor, RandomUnderSampler(random_state=RAND_STATE), KNeighborsClassifier(n_neighbors=5))\n",
    "\n",
    "knn_rus_dict = cross_validate(pipe, X_train, y_train, scoring = ['accuracy', 'roc_auc'], cv = 10)\n",
    "print('KNN RUS')\n",
    "print('Accuracy:', knn_rus_dict['test_accuracy'].mean())\n",
    "print('ROC AUC:', knn_rus_dict['test_roc_auc'].mean())"
   ]
  },
  {
   "cell_type": "code",
   "execution_count": 184,
   "metadata": {},
   "outputs": [
    {
     "name": "stdout",
     "output_type": "stream",
     "text": [
      "KNN on out of sample data\n",
      "Accuracy: 0.5811209439528023\n",
      "ROC AUC: 0.5970761119716211\n"
     ]
    }
   ],
   "source": [
    "pipe.fit(X_train, y_train)\n",
    "y_hat = pipe.predict(X_test)\n",
    "print('KNN on out of sample data')\n",
    "print('Accuracy:', accuracy_score(y_test, y_hat))\n",
    "print('ROC AUC:', roc_auc_score(y_test, y_hat))"
   ]
  },
  {
   "cell_type": "code",
   "execution_count": 185,
   "metadata": {},
   "outputs": [
    {
     "name": "stdout",
     "output_type": "stream",
     "text": [
      "LR RUS\n",
      "Accuracy: 0.5977859778597786\n",
      "ROC AUC: 0.6375068960561926\n"
     ]
    }
   ],
   "source": [
    "pipe.steps[2] = ('lr', LogisticRegression(random_state=RAND_STATE, solver = 'liblinear'))\n",
    "\n",
    "lr_rus_dict = cross_validate(pipe, X_train, y_train, scoring = ['accuracy', 'roc_auc'], cv = 10)\n",
    "print('LR RUS')\n",
    "print('Accuracy:', lr_rus_dict['test_accuracy'].mean())\n",
    "print('ROC AUC:', lr_rus_dict['test_roc_auc'].mean())"
   ]
  },
  {
   "cell_type": "code",
   "execution_count": 186,
   "metadata": {},
   "outputs": [
    {
     "name": "stdout",
     "output_type": "stream",
     "text": [
      "LogisticRegression on out of sample data\n",
      "Accuracy: 0.6061946902654868\n",
      "ROC AUC: 0.6114463571110971\n"
     ]
    }
   ],
   "source": [
    "pipe.fit(X_train, y_train)\n",
    "y_hat = pipe.predict(X_test)\n",
    "print('LogisticRegression on out of sample data')\n",
    "print('Accuracy:', accuracy_score(y_test, y_hat))\n",
    "print('ROC AUC:', roc_auc_score(y_test, y_hat))"
   ]
  },
  {
   "cell_type": "code",
   "execution_count": 187,
   "metadata": {},
   "outputs": [
    {
     "name": "stdout",
     "output_type": "stream",
     "text": [
      "dt RUS\n",
      "Accuracy: 0.5607011070110701\n",
      "ROC AUC: 0.5570033575545692\n"
     ]
    }
   ],
   "source": [
    "pipe.steps[2] = ('dt', DecisionTreeClassifier(random_state=RAND_STATE))\n",
    "\n",
    "dt_rus_dict = cross_validate(pipe, X_train, y_train, scoring = ['accuracy', 'roc_auc'], cv = 10)\n",
    "print('dt RUS')\n",
    "print('Accuracy:', dt_rus_dict['test_accuracy'].mean())\n",
    "print('ROC AUC:', dt_rus_dict['test_roc_auc'].mean())"
   ]
  },
  {
   "cell_type": "code",
   "execution_count": 188,
   "metadata": {},
   "outputs": [
    {
     "name": "stdout",
     "output_type": "stream",
     "text": [
      "Decision Tree on out of sample data\n",
      "Accuracy: 0.5833333333333334\n",
      "ROC AUC: 0.5958765556364489\n"
     ]
    }
   ],
   "source": [
    "pipe.fit(X_train, y_train)\n",
    "y_hat = pipe.predict(X_test)\n",
    "print('Decision Tree on out of sample data')\n",
    "print('Accuracy:', accuracy_score(y_test, y_hat))\n",
    "print('ROC AUC:', roc_auc_score(y_test, y_hat))"
   ]
  },
  {
   "cell_type": "markdown",
   "metadata": {},
   "source": [
    "## Oversampling"
   ]
  },
  {
   "cell_type": "code",
   "execution_count": 189,
   "metadata": {},
   "outputs": [
    {
     "name": "stdout",
     "output_type": "stream",
     "text": [
      "KNN ROS\n",
      "Accuracy: 0.6601476014760148\n",
      "ROC AUC: 0.5581495296767636\n"
     ]
    }
   ],
   "source": [
    "from imblearn.over_sampling import RandomOverSampler\n",
    "\n",
    "pipe = make_pipeline(preprocessor, RandomOverSampler(random_state=RAND_STATE), KNeighborsClassifier(n_neighbors=5))\n",
    "\n",
    "knn_ros_dict = cross_validate(pipe, X_train, y_train, scoring = ['accuracy', 'roc_auc'], cv = 10)\n",
    "print('KNN ROS')\n",
    "print('Accuracy:', knn_ros_dict['test_accuracy'].mean())\n",
    "print('ROC AUC:', knn_ros_dict['test_roc_auc'].mean())"
   ]
  },
  {
   "cell_type": "code",
   "execution_count": 190,
   "metadata": {},
   "outputs": [
    {
     "name": "stdout",
     "output_type": "stream",
     "text": [
      "LR ros\n",
      "Accuracy: 0.6785977859778598\n",
      "ROC AUC: 0.612675037804877\n"
     ]
    }
   ],
   "source": [
    "pipe.steps[2] = ('lr', LogisticRegression(random_state=RAND_STATE, solver = 'liblinear'))\n",
    "\n",
    "lr_ros_dict = cross_validate(pipe, X_train, y_train, scoring = ['accuracy', 'roc_auc'], cv = 10)\n",
    "print('LR ros')\n",
    "print('Accuracy:', lr_ros_dict['test_accuracy'].mean())\n",
    "print('ROC AUC:', lr_ros_dict['test_roc_auc'].mean())"
   ]
  },
  {
   "cell_type": "code",
   "execution_count": 191,
   "metadata": {},
   "outputs": [
    {
     "name": "stdout",
     "output_type": "stream",
     "text": [
      "dt ros\n",
      "Accuracy: 0.7756457564575645\n",
      "ROC AUC: 0.5395712995937929\n"
     ]
    }
   ],
   "source": [
    "pipe.steps[2] = ('dt', DecisionTreeClassifier(random_state=RAND_STATE))\n",
    "\n",
    "dt_ros_dict = cross_validate(pipe, X_train, y_train, scoring = ['accuracy', 'roc_auc'], cv = 10)\n",
    "print('dt ros')\n",
    "print('Accuracy:', dt_ros_dict['test_accuracy'].mean())\n",
    "print('ROC AUC:', dt_ros_dict['test_roc_auc'].mean())"
   ]
  },
  {
   "cell_type": "markdown",
   "metadata": {},
   "source": [
    "# Feature Selection"
   ]
  },
  {
   "cell_type": "code",
   "execution_count": 192,
   "metadata": {},
   "outputs": [
    {
     "name": "stdout",
     "output_type": "stream",
     "text": [
      "KNN ROS with Feature Selection\n",
      "Accuracy: 0.6564575645756456\n",
      "ROC AUC: 0.5813712262727704\n"
     ]
    }
   ],
   "source": [
    "from sklearn.feature_selection import f_classif\n",
    "from sklearn.feature_selection import SelectKBest\n",
    "\n",
    "pipe = make_pipeline(preprocessor, RandomOverSampler(random_state=RAND_STATE), SelectKBest(k = 20, score_func = f_classif), KNeighborsClassifier(n_neighbors=5))\n",
    "\n",
    "knn_ros_dict = cross_validate(pipe, X_train, y_train, scoring = ['accuracy', 'roc_auc'], cv = 10)\n",
    "print('KNN ROS with Feature Selection')\n",
    "print('Accuracy:', knn_ros_dict['test_accuracy'].mean())\n",
    "print('ROC AUC:', knn_ros_dict['test_roc_auc'].mean())"
   ]
  },
  {
   "cell_type": "code",
   "execution_count": 193,
   "metadata": {},
   "outputs": [
    {
     "name": "stdout",
     "output_type": "stream",
     "text": [
      "LR ros with Feature Selection\n",
      "Accuracy: 0.6252767527675277\n",
      "ROC AUC: 0.6767654697675606\n"
     ]
    }
   ],
   "source": [
    "pipe.steps[-1] = ('lr', LogisticRegression(random_state=RAND_STATE, solver = 'liblinear'))\n",
    "\n",
    "lr_ros_dict = cross_validate(pipe, X_train, y_train, scoring = ['accuracy', 'roc_auc'], cv = 10)\n",
    "print('LR ros with Feature Selection')\n",
    "print('Accuracy:', lr_ros_dict['test_accuracy'].mean())\n",
    "print('ROC AUC:', lr_ros_dict['test_roc_auc'].mean())"
   ]
  },
  {
   "cell_type": "code",
   "execution_count": 194,
   "metadata": {},
   "outputs": [
    {
     "name": "stdout",
     "output_type": "stream",
     "text": [
      "LogisticRegression on out of sample data\n",
      "Accuracy: 0.6393805309734514\n",
      "ROC AUC: 0.6156606843578831\n"
     ]
    }
   ],
   "source": [
    "pipe.fit(X_train, y_train)\n",
    "y_hat = pipe.predict(X_test)\n",
    "print('LogisticRegression on out of sample data')\n",
    "print('Accuracy:', accuracy_score(y_test, y_hat))\n",
    "print('ROC AUC:', roc_auc_score(y_test, y_hat))"
   ]
  },
  {
   "cell_type": "code",
   "execution_count": 195,
   "metadata": {},
   "outputs": [
    {
     "name": "stdout",
     "output_type": "stream",
     "text": [
      "dt ros with Feature Selection\n",
      "Accuracy: 0.7904059040590405\n",
      "ROC AUC: 0.5375943495331766\n"
     ]
    }
   ],
   "source": [
    "pipe.steps[-1] = ('dt', DecisionTreeClassifier(random_state=RAND_STATE))\n",
    "\n",
    "dt_ros_dict = cross_validate(pipe, X_train, y_train, scoring = ['accuracy', 'roc_auc'], cv = 10)\n",
    "print('dt ros with Feature Selection')\n",
    "print('Accuracy:', dt_ros_dict['test_accuracy'].mean())\n",
    "print('ROC AUC:', dt_ros_dict['test_roc_auc'].mean())"
   ]
  },
  {
   "cell_type": "markdown",
   "metadata": {},
   "source": [
    "# Hyperparameter tuning"
   ]
  },
  {
   "cell_type": "code",
   "execution_count": 196,
   "metadata": {},
   "outputs": [],
   "source": [
    "# from sklearn.model_selection import GridSearchCV\n",
    "\n",
    "# grid_params = {'logisticregression__C': list(np.linspace(0.1, 2, 50)) + [1],\n",
    "#                'logisticregression__penalty': ['l1', 'l2'],\n",
    "#                'selectkbest__k': [10, 15, 20, 25, 30]}\n",
    "\n",
    "# pipe = make_pipeline(preprocessor, \n",
    "#                      RandomOverSampler(random_state=RAND_STATE), \n",
    "#                      SelectKBest(k = 20, score_func = f_classif), \n",
    "#                      LogisticRegression(random_state=RAND_STATE, solver='liblinear'))\n",
    "\n",
    "# lr_grid = GridSearchCV(pipe, grid_params, scoring = 'roc_auc', cv = 5, n_jobs = -1)\n",
    "\n",
    "# lr_grid.fit(X_train, y_train)\n",
    "# print('Best Params:', lr_grid.best_params_)\n",
    "# print('Best ROC_AUC:', lr_grid.best_score_)\n"
   ]
  },
  {
   "cell_type": "code",
   "execution_count": 197,
   "metadata": {},
   "outputs": [
    {
     "name": "stdout",
     "output_type": "stream",
     "text": [
      "LogisticRegression on out of sample data\n",
      "Accuracy: 0.6511799410029498\n",
      "ROC AUC: 0.6396957866499886\n"
     ]
    }
   ],
   "source": [
    "pipe = make_pipeline(preprocessor, \n",
    "                     RandomOverSampler(random_state=RAND_STATE), \n",
    "                     SelectKBest(k = 25, score_func = f_classif), \n",
    "                     LogisticRegression(random_state=RAND_STATE, solver='liblinear', penalty = 'l1', C = 0.1))\n",
    "\n",
    "pipe.fit(X_train, y_train)\n",
    "y_hat = pipe.predict(X_test)\n",
    "print('LogisticRegression on out of sample data')\n",
    "print('Accuracy:', accuracy_score(y_test, y_hat))\n",
    "print('ROC AUC:', roc_auc_score(y_test, y_hat))"
   ]
  },
  {
   "cell_type": "code",
   "execution_count": 198,
   "metadata": {},
   "outputs": [
    {
     "name": "stdout",
     "output_type": "stream",
     "text": [
      "LogisticRegression on out of sample data\n",
      "Accuracy: 0.6548672566371682\n",
      "ROC AUC: 0.641809057994029\n"
     ]
    }
   ],
   "source": [
    "from imblearn.over_sampling import SMOTE\n",
    "\n",
    "pipe = make_pipeline(preprocessor, \n",
    "                     SMOTE(random_state=RAND_STATE), \n",
    "                     SelectKBest(k = 25, score_func = f_classif), \n",
    "                     LogisticRegression(random_state=RAND_STATE, solver='liblinear', penalty = 'l1', C = 0.1))\n",
    "\n",
    "pipe.fit(X_train, y_train)\n",
    "y_hat = pipe.predict(X_test)\n",
    "print('LogisticRegression on out of sample data')\n",
    "print('Accuracy:', accuracy_score(y_test, y_hat))\n",
    "print('ROC AUC:', roc_auc_score(y_test, y_hat))"
   ]
  },
  {
   "cell_type": "markdown",
   "metadata": {},
   "source": [
    "# Ansambli"
   ]
  },
  {
   "cell_type": "markdown",
   "metadata": {},
   "source": [
    "### Random Forest"
   ]
  },
  {
   "cell_type": "code",
   "execution_count": 199,
   "metadata": {},
   "outputs": [
    {
     "name": "stdout",
     "output_type": "stream",
     "text": [
      "rf\n",
      "Accuracy: 0.8230627306273062\n",
      "ROC AUC: 0.6400649485008004\n"
     ]
    }
   ],
   "source": [
    "from sklearn.ensemble import RandomForestClassifier\n",
    "\n",
    "pipe = make_pipeline(preprocessor, \n",
    "                     SMOTE(random_state=RAND_STATE), \n",
    "                     SelectKBest(k = 25, score_func = f_classif), \n",
    "                     RandomForestClassifier(n_estimators=100, random_state = RAND_STATE))\n",
    "\n",
    "rf_ros_dict = cross_validate(pipe, X_train, y_train, scoring = ['accuracy', 'roc_auc'], cv = 5, n_jobs = -1)\n",
    "print('rf')\n",
    "print('Accuracy:', rf_ros_dict['test_accuracy'].mean())\n",
    "print('ROC AUC:', rf_ros_dict['test_roc_auc'].mean())\n"
   ]
  },
  {
   "cell_type": "code",
   "execution_count": 200,
   "metadata": {},
   "outputs": [
    {
     "name": "stdout",
     "output_type": "stream",
     "text": [
      "Random Forest on out of sample data\n",
      "Accuracy: 0.8325958702064897\n",
      "ROC AUC: 0.5437996863074676\n"
     ]
    }
   ],
   "source": [
    "pipe.fit(X_train, y_train)\n",
    "y_hat = pipe.predict(X_test)\n",
    "print('Random Forest on out of sample data')\n",
    "print('Accuracy:', accuracy_score(y_test, y_hat))\n",
    "print('ROC AUC:', roc_auc_score(y_test, y_hat))"
   ]
  },
  {
   "cell_type": "markdown",
   "metadata": {},
   "source": [
    "### Bagging"
   ]
  },
  {
   "cell_type": "code",
   "execution_count": 201,
   "metadata": {},
   "outputs": [
    {
     "name": "stdout",
     "output_type": "stream",
     "text": [
      "Accuracy: 0.6263837638376384\n",
      "Auc: 0.6785151286916751\n"
     ]
    }
   ],
   "source": [
    "from sklearn.ensemble import BaggingClassifier\n",
    "\n",
    "model_bagging = BaggingClassifier(base_estimator = LogisticRegression(random_state=RAND_STATE, solver='liblinear', penalty='l1', C = 0.1), \n",
    "                                  n_estimators=100,\n",
    "                                  random_state = RAND_STATE)\n",
    "                                  \n",
    "\n",
    "pipe = make_pipeline(preprocessor, \n",
    "                     RandomOverSampler(random_state=RAND_STATE), \n",
    "                     SelectKBest(k = 25, score_func = f_classif), \n",
    "                     model_bagging)\n",
    "\n",
    "cv_dict = cross_validate(pipe, X_train, y_train, cv=5, scoring=['accuracy', 'roc_auc'], n_jobs=-1)\n",
    "print(f\"Accuracy: {cv_dict['test_accuracy'].mean()}\")\n",
    "print(f\"Auc: {cv_dict['test_roc_auc'].mean()}\")"
   ]
  },
  {
   "cell_type": "code",
   "execution_count": 202,
   "metadata": {},
   "outputs": [
    {
     "name": "stdout",
     "output_type": "stream",
     "text": [
      "Random Forest on out of sample data\n",
      "Accuracy: 0.6511799410029498\n",
      "ROC AUC: 0.642163305791585\n"
     ]
    }
   ],
   "source": [
    "pipe.fit(X_train, y_train)\n",
    "y_hat = pipe.predict(X_test)\n",
    "print('Random Forest on out of sample data')\n",
    "print('Accuracy:', accuracy_score(y_test, y_hat))\n",
    "print('ROC AUC:', roc_auc_score(y_test, y_hat))"
   ]
  },
  {
   "cell_type": "markdown",
   "metadata": {},
   "source": [
    "### AdaBoost"
   ]
  },
  {
   "cell_type": "code",
   "execution_count": 203,
   "metadata": {},
   "outputs": [
    {
     "name": "stdout",
     "output_type": "stream",
     "text": [
      "Accuracy: 0.6287822878228783\n",
      "Auc: 0.6766298151320447\n"
     ]
    }
   ],
   "source": [
    "from sklearn.ensemble import AdaBoostClassifier\n",
    "\n",
    "model_boost = AdaBoostClassifier(n_estimators = 100, \n",
    "                                 base_estimator=LogisticRegression(random_state=RAND_STATE, solver = 'liblinear'), \n",
    "                                 learning_rate=0.6, \n",
    "                                 random_state=RAND_STATE)\n",
    "\n",
    "pipe = make_pipeline(preprocessor, \n",
    "                     RandomOverSampler(random_state=RAND_STATE), \n",
    "                     SelectKBest(k = 25, score_func = f_classif), \n",
    "                     model_boost)\n",
    "\n",
    "cv_dict = cross_validate(pipe, X_train, y_train, cv=5, scoring=['accuracy', 'roc_auc'], n_jobs=-1)\n",
    "print(f\"Accuracy: {cv_dict['test_accuracy'].mean()}\")\n",
    "print(f\"Auc: {cv_dict['test_roc_auc'].mean()}\")"
   ]
  },
  {
   "cell_type": "code",
   "execution_count": 204,
   "metadata": {},
   "outputs": [
    {
     "name": "stdout",
     "output_type": "stream",
     "text": [
      "Ada Boost on out of sample data\n",
      "Accuracy: 0.6497050147492626\n",
      "ROC AUC: 0.6289804015459863\n"
     ]
    }
   ],
   "source": [
    "pipe.fit(X_train, y_train)\n",
    "y_hat = pipe.predict(X_test)\n",
    "print('Ada Boost on out of sample data')\n",
    "print('Accuracy:', accuracy_score(y_test, y_hat))\n",
    "print('ROC AUC:', roc_auc_score(y_test, y_hat))"
   ]
  },
  {
   "cell_type": "code",
   "execution_count": 205,
   "metadata": {},
   "outputs": [],
   "source": [
    "# param_grid = {\n",
    "#     'adaboostclassifier__n_estimators': [50, 100],\n",
    "#     'adaboostclassifier__base_estimator': [LogisticRegression(random_state=RAND_STATE), \n",
    "#                                            DecisionTreeClassifier(random_state=RAND_STATE),\n",
    "#                                            KNeighborsClassifier()],\n",
    "#     'adaboostclassifier__learning_rate': np.linspace(0.1, 2, 25)\n",
    "# }\n",
    "\n",
    "\n",
    "# pipe = make_pipeline(preprocessor, \n",
    "#                      RandomOverSampler(random_state=RAND_STATE), \n",
    "#                      SelectKBest(k = 25, score_func = f_classif), \n",
    "#                      AdaBoostClassifier(random_state=RAND_STATE))\n",
    "\n",
    "# grid = GridSearchCV(pipe, param_grid, scoring = 'roc_auc', cv = 5, n_jobs = -1)\n",
    "# grid.fit(X_train, y_train)\n",
    "\n",
    "# print('Best Params:', grid.best_params_)\n",
    "# print('Best ROC_AUC:', grid.best_score_)"
   ]
  },
  {
   "cell_type": "code",
   "execution_count": 156,
   "metadata": {},
   "outputs": [
    {
     "name": "stdout",
     "output_type": "stream",
     "text": [
      "Ada Boost on out of sample data\n",
      "Accuracy: 0.6460176991150443\n",
      "ROC AUC: 0.6342696876267352\n"
     ]
    }
   ],
   "source": [
    "pipe = make_pipeline(preprocessor, \n",
    "                     RandomOverSampler(random_state=RAND_STATE), \n",
    "                     SelectKBest(k = 25, score_func = f_classif), \n",
    "                     AdaBoostClassifier(random_state=RAND_STATE, \n",
    "                                        n_estimators = 100, \n",
    "                                        base_estimator = LogisticRegression(random_state=42), \n",
    "                                        learning_rate=1.2875))\n",
    "\n",
    "pipe.fit(X_train, y_train)\n",
    "y_hat = pipe.predict(X_test)\n",
    "print('Ada Boost on out of sample data')\n",
    "print('Accuracy:', accuracy_score(y_test, y_hat))\n",
    "print('ROC AUC:', roc_auc_score(y_test, y_hat))"
   ]
  },
  {
   "cell_type": "markdown",
   "metadata": {},
   "source": [
    "# Conclusion"
   ]
  },
  {
   "cell_type": "markdown",
   "metadata": {},
   "source": [
    "The best ROC_AUC on out of sample data (0.6421) was achieved by oversampling in combination with BaggingClassifier (LogisticRegression as base estimator with tuned hyperparemters of C = 0.1, penalty = 'l1')"
   ]
  }
 ],
 "metadata": {
  "kernelspec": {
   "display_name": "Python 3.9.7 ('base')",
   "language": "python",
   "name": "python3"
  },
  "language_info": {
   "codemirror_mode": {
    "name": "ipython",
    "version": 3
   },
   "file_extension": ".py",
   "mimetype": "text/x-python",
   "name": "python",
   "nbconvert_exporter": "python",
   "pygments_lexer": "ipython3",
   "version": "3.9.7"
  },
  "orig_nbformat": 4,
  "vscode": {
   "interpreter": {
    "hash": "8de6c426076a9c44f31852f94ab5aa37405a1d52ca8d542df23e7e6934183ee7"
   }
  }
 },
 "nbformat": 4,
 "nbformat_minor": 2
}
