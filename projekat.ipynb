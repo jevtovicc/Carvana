{
 "cells": [
  {
   "cell_type": "markdown",
   "metadata": {},
   "source": [
    "### Data and Preprocessing"
   ]
  },
  {
   "cell_type": "code",
   "execution_count": 255,
   "metadata": {},
   "outputs": [
    {
     "data": {
      "text/html": [
       "<div>\n",
       "<style scoped>\n",
       "    .dataframe tbody tr th:only-of-type {\n",
       "        vertical-align: middle;\n",
       "    }\n",
       "\n",
       "    .dataframe tbody tr th {\n",
       "        vertical-align: top;\n",
       "    }\n",
       "\n",
       "    .dataframe thead th {\n",
       "        text-align: right;\n",
       "    }\n",
       "</style>\n",
       "<table border=\"1\" class=\"dataframe\">\n",
       "  <thead>\n",
       "    <tr style=\"text-align: right;\">\n",
       "      <th></th>\n",
       "      <th>RefId</th>\n",
       "      <th>PurchDate</th>\n",
       "      <th>Auction</th>\n",
       "      <th>VehYear</th>\n",
       "      <th>VehicleAge</th>\n",
       "      <th>Make</th>\n",
       "      <th>Model</th>\n",
       "      <th>Trim</th>\n",
       "      <th>SubModel</th>\n",
       "      <th>Color</th>\n",
       "      <th>...</th>\n",
       "      <th>MMRCurrentRetailCleanPrice</th>\n",
       "      <th>PRIMEUNIT</th>\n",
       "      <th>AUCGUART</th>\n",
       "      <th>BYRNO</th>\n",
       "      <th>VNZIP1</th>\n",
       "      <th>VNST</th>\n",
       "      <th>VehBCost</th>\n",
       "      <th>IsOnlineSale</th>\n",
       "      <th>WarrantyCost</th>\n",
       "      <th>IsBadBuy</th>\n",
       "    </tr>\n",
       "  </thead>\n",
       "  <tbody>\n",
       "    <tr>\n",
       "      <th>0</th>\n",
       "      <td>1</td>\n",
       "      <td>1/7/2009 0:12</td>\n",
       "      <td>ADESA</td>\n",
       "      <td>2005</td>\n",
       "      <td>4</td>\n",
       "      <td>DODGE</td>\n",
       "      <td>STRATUS V6</td>\n",
       "      <td>SXT</td>\n",
       "      <td>4D SEDAN SXT FFV</td>\n",
       "      <td>MAROON</td>\n",
       "      <td>...</td>\n",
       "      <td>8702.0</td>\n",
       "      <td>NaN</td>\n",
       "      <td>NaN</td>\n",
       "      <td>19638</td>\n",
       "      <td>33619</td>\n",
       "      <td>FL</td>\n",
       "      <td>4900.0</td>\n",
       "      <td>0</td>\n",
       "      <td>1389</td>\n",
       "      <td>0</td>\n",
       "    </tr>\n",
       "    <tr>\n",
       "      <th>1</th>\n",
       "      <td>2</td>\n",
       "      <td>1/7/2009 0:12</td>\n",
       "      <td>ADESA</td>\n",
       "      <td>2004</td>\n",
       "      <td>5</td>\n",
       "      <td>DODGE</td>\n",
       "      <td>NEON</td>\n",
       "      <td>SXT</td>\n",
       "      <td>4D SEDAN</td>\n",
       "      <td>SILVER</td>\n",
       "      <td>...</td>\n",
       "      <td>5518.0</td>\n",
       "      <td>NaN</td>\n",
       "      <td>NaN</td>\n",
       "      <td>19638</td>\n",
       "      <td>33619</td>\n",
       "      <td>FL</td>\n",
       "      <td>4100.0</td>\n",
       "      <td>0</td>\n",
       "      <td>630</td>\n",
       "      <td>0</td>\n",
       "    </tr>\n",
       "    <tr>\n",
       "      <th>2</th>\n",
       "      <td>3</td>\n",
       "      <td>1/7/2009 0:12</td>\n",
       "      <td>ADESA</td>\n",
       "      <td>2005</td>\n",
       "      <td>4</td>\n",
       "      <td>FORD</td>\n",
       "      <td>FOCUS</td>\n",
       "      <td>ZX3</td>\n",
       "      <td>2D COUPE ZX3</td>\n",
       "      <td>SILVER</td>\n",
       "      <td>...</td>\n",
       "      <td>7911.0</td>\n",
       "      <td>NaN</td>\n",
       "      <td>NaN</td>\n",
       "      <td>19638</td>\n",
       "      <td>33619</td>\n",
       "      <td>FL</td>\n",
       "      <td>4000.0</td>\n",
       "      <td>0</td>\n",
       "      <td>1020</td>\n",
       "      <td>0</td>\n",
       "    </tr>\n",
       "    <tr>\n",
       "      <th>3</th>\n",
       "      <td>4</td>\n",
       "      <td>1/7/2009 0:12</td>\n",
       "      <td>ADESA</td>\n",
       "      <td>2004</td>\n",
       "      <td>5</td>\n",
       "      <td>MITSUBISHI</td>\n",
       "      <td>GALANT 4C</td>\n",
       "      <td>ES</td>\n",
       "      <td>4D SEDAN ES</td>\n",
       "      <td>WHITE</td>\n",
       "      <td>...</td>\n",
       "      <td>9451.0</td>\n",
       "      <td>NaN</td>\n",
       "      <td>NaN</td>\n",
       "      <td>19638</td>\n",
       "      <td>33619</td>\n",
       "      <td>FL</td>\n",
       "      <td>5600.0</td>\n",
       "      <td>0</td>\n",
       "      <td>594</td>\n",
       "      <td>0</td>\n",
       "    </tr>\n",
       "    <tr>\n",
       "      <th>4</th>\n",
       "      <td>5</td>\n",
       "      <td>1/21/2009 0:12</td>\n",
       "      <td>ADESA</td>\n",
       "      <td>2004</td>\n",
       "      <td>5</td>\n",
       "      <td>DODGE</td>\n",
       "      <td>1500 RAM PICKUP 2WD</td>\n",
       "      <td>ST</td>\n",
       "      <td>QUAD CAB 4.7L SLT</td>\n",
       "      <td>WHITE</td>\n",
       "      <td>...</td>\n",
       "      <td>12560.0</td>\n",
       "      <td>NaN</td>\n",
       "      <td>NaN</td>\n",
       "      <td>19638</td>\n",
       "      <td>33619</td>\n",
       "      <td>FL</td>\n",
       "      <td>8800.0</td>\n",
       "      <td>0</td>\n",
       "      <td>920</td>\n",
       "      <td>0</td>\n",
       "    </tr>\n",
       "  </tbody>\n",
       "</table>\n",
       "<p>5 rows × 34 columns</p>\n",
       "</div>"
      ],
      "text/plain": [
       "   RefId       PurchDate Auction  VehYear  VehicleAge        Make  \\\n",
       "0      1   1/7/2009 0:12   ADESA     2005           4       DODGE   \n",
       "1      2   1/7/2009 0:12   ADESA     2004           5       DODGE   \n",
       "2      3   1/7/2009 0:12   ADESA     2005           4        FORD   \n",
       "3      4   1/7/2009 0:12   ADESA     2004           5  MITSUBISHI   \n",
       "4      5  1/21/2009 0:12   ADESA     2004           5       DODGE   \n",
       "\n",
       "                 Model Trim           SubModel   Color  ...  \\\n",
       "0           STRATUS V6  SXT   4D SEDAN SXT FFV  MAROON  ...   \n",
       "1                 NEON  SXT           4D SEDAN  SILVER  ...   \n",
       "2                FOCUS  ZX3       2D COUPE ZX3  SILVER  ...   \n",
       "3            GALANT 4C   ES        4D SEDAN ES   WHITE  ...   \n",
       "4  1500 RAM PICKUP 2WD   ST  QUAD CAB 4.7L SLT   WHITE  ...   \n",
       "\n",
       "  MMRCurrentRetailCleanPrice  PRIMEUNIT AUCGUART  BYRNO VNZIP1 VNST VehBCost  \\\n",
       "0                     8702.0        NaN      NaN  19638  33619   FL   4900.0   \n",
       "1                     5518.0        NaN      NaN  19638  33619   FL   4100.0   \n",
       "2                     7911.0        NaN      NaN  19638  33619   FL   4000.0   \n",
       "3                     9451.0        NaN      NaN  19638  33619   FL   5600.0   \n",
       "4                    12560.0        NaN      NaN  19638  33619   FL   8800.0   \n",
       "\n",
       "   IsOnlineSale  WarrantyCost  IsBadBuy  \n",
       "0             0          1389         0  \n",
       "1             0           630         0  \n",
       "2             0          1020         0  \n",
       "3             0           594         0  \n",
       "4             0           920         0  \n",
       "\n",
       "[5 rows x 34 columns]"
      ]
     },
     "execution_count": 255,
     "metadata": {},
     "output_type": "execute_result"
    }
   ],
   "source": [
    "import numpy as np\n",
    "import pandas as pd\n",
    "import warnings\n",
    "warnings.filterwarnings('ignore')\n",
    "\n",
    "df = pd.read_csv('carvana.csv')\n",
    "df.head()"
   ]
  },
  {
   "cell_type": "code",
   "execution_count": 256,
   "metadata": {},
   "outputs": [
    {
     "data": {
      "text/plain": [
       "(6798, 34)"
      ]
     },
     "execution_count": 256,
     "metadata": {},
     "output_type": "execute_result"
    }
   ],
   "source": [
    "df.shape"
   ]
  },
  {
   "cell_type": "code",
   "execution_count": 257,
   "metadata": {},
   "outputs": [
    {
     "data": {
      "text/plain": [
       "RefId                                  int64\n",
       "PurchDate                             object\n",
       "Auction                               object\n",
       "VehYear                                int64\n",
       "VehicleAge                             int64\n",
       "Make                                  object\n",
       "Model                                 object\n",
       "Trim                                  object\n",
       "SubModel                              object\n",
       "Color                                 object\n",
       "Transmission                          object\n",
       "WheelTypeID                          float64\n",
       "WheelType                             object\n",
       "VehOdo                                 int64\n",
       "Nationality                           object\n",
       "Size                                  object\n",
       "TopThreeAmericanName                  object\n",
       "MMRAcquisitionAuctionAveragePrice    float64\n",
       "MMRAcquisitionAuctionCleanPrice      float64\n",
       "MMRAcquisitionRetailAveragePrice     float64\n",
       "MMRAcquisitonRetailCleanPrice        float64\n",
       "MMRCurrentAuctionAveragePrice        float64\n",
       "MMRCurrentAuctionCleanPrice          float64\n",
       "MMRCurrentRetailAveragePrice         float64\n",
       "MMRCurrentRetailCleanPrice           float64\n",
       "PRIMEUNIT                             object\n",
       "AUCGUART                              object\n",
       "BYRNO                                  int64\n",
       "VNZIP1                                 int64\n",
       "VNST                                  object\n",
       "VehBCost                             float64\n",
       "IsOnlineSale                           int64\n",
       "WarrantyCost                           int64\n",
       "IsBadBuy                               int64\n",
       "dtype: object"
      ]
     },
     "execution_count": 257,
     "metadata": {},
     "output_type": "execute_result"
    }
   ],
   "source": [
    "df.dtypes"
   ]
  },
  {
   "cell_type": "code",
   "execution_count": 258,
   "metadata": {},
   "outputs": [],
   "source": [
    "df['BYRNO'] = df['BYRNO'].astype('object')\n",
    "df['VNZIP1'] = df['VNZIP1'].astype('object')"
   ]
  },
  {
   "cell_type": "code",
   "execution_count": 259,
   "metadata": {},
   "outputs": [
    {
     "data": {
      "text/html": [
       "<div>\n",
       "<style scoped>\n",
       "    .dataframe tbody tr th:only-of-type {\n",
       "        vertical-align: middle;\n",
       "    }\n",
       "\n",
       "    .dataframe tbody tr th {\n",
       "        vertical-align: top;\n",
       "    }\n",
       "\n",
       "    .dataframe thead th {\n",
       "        text-align: right;\n",
       "    }\n",
       "</style>\n",
       "<table border=\"1\" class=\"dataframe\">\n",
       "  <thead>\n",
       "    <tr style=\"text-align: right;\">\n",
       "      <th></th>\n",
       "      <th>PurchDate</th>\n",
       "      <th>Auction</th>\n",
       "      <th>VehYear</th>\n",
       "      <th>VehicleAge</th>\n",
       "      <th>Make</th>\n",
       "      <th>Model</th>\n",
       "      <th>Trim</th>\n",
       "      <th>SubModel</th>\n",
       "      <th>Color</th>\n",
       "      <th>Transmission</th>\n",
       "      <th>...</th>\n",
       "      <th>MMRCurrentRetailCleanPrice</th>\n",
       "      <th>PRIMEUNIT</th>\n",
       "      <th>AUCGUART</th>\n",
       "      <th>BYRNO</th>\n",
       "      <th>VNZIP1</th>\n",
       "      <th>VNST</th>\n",
       "      <th>VehBCost</th>\n",
       "      <th>IsOnlineSale</th>\n",
       "      <th>WarrantyCost</th>\n",
       "      <th>IsBadBuy</th>\n",
       "    </tr>\n",
       "    <tr>\n",
       "      <th>RefId</th>\n",
       "      <th></th>\n",
       "      <th></th>\n",
       "      <th></th>\n",
       "      <th></th>\n",
       "      <th></th>\n",
       "      <th></th>\n",
       "      <th></th>\n",
       "      <th></th>\n",
       "      <th></th>\n",
       "      <th></th>\n",
       "      <th></th>\n",
       "      <th></th>\n",
       "      <th></th>\n",
       "      <th></th>\n",
       "      <th></th>\n",
       "      <th></th>\n",
       "      <th></th>\n",
       "      <th></th>\n",
       "      <th></th>\n",
       "      <th></th>\n",
       "      <th></th>\n",
       "    </tr>\n",
       "  </thead>\n",
       "  <tbody>\n",
       "    <tr>\n",
       "      <th>1</th>\n",
       "      <td>1/7/2009 0:12</td>\n",
       "      <td>ADESA</td>\n",
       "      <td>2005</td>\n",
       "      <td>4</td>\n",
       "      <td>DODGE</td>\n",
       "      <td>STRATUS V6</td>\n",
       "      <td>SXT</td>\n",
       "      <td>4D SEDAN SXT FFV</td>\n",
       "      <td>MAROON</td>\n",
       "      <td>AUTO</td>\n",
       "      <td>...</td>\n",
       "      <td>8702.0</td>\n",
       "      <td>NaN</td>\n",
       "      <td>NaN</td>\n",
       "      <td>19638</td>\n",
       "      <td>33619</td>\n",
       "      <td>FL</td>\n",
       "      <td>4900.0</td>\n",
       "      <td>0</td>\n",
       "      <td>1389</td>\n",
       "      <td>0</td>\n",
       "    </tr>\n",
       "    <tr>\n",
       "      <th>2</th>\n",
       "      <td>1/7/2009 0:12</td>\n",
       "      <td>ADESA</td>\n",
       "      <td>2004</td>\n",
       "      <td>5</td>\n",
       "      <td>DODGE</td>\n",
       "      <td>NEON</td>\n",
       "      <td>SXT</td>\n",
       "      <td>4D SEDAN</td>\n",
       "      <td>SILVER</td>\n",
       "      <td>AUTO</td>\n",
       "      <td>...</td>\n",
       "      <td>5518.0</td>\n",
       "      <td>NaN</td>\n",
       "      <td>NaN</td>\n",
       "      <td>19638</td>\n",
       "      <td>33619</td>\n",
       "      <td>FL</td>\n",
       "      <td>4100.0</td>\n",
       "      <td>0</td>\n",
       "      <td>630</td>\n",
       "      <td>0</td>\n",
       "    </tr>\n",
       "    <tr>\n",
       "      <th>3</th>\n",
       "      <td>1/7/2009 0:12</td>\n",
       "      <td>ADESA</td>\n",
       "      <td>2005</td>\n",
       "      <td>4</td>\n",
       "      <td>FORD</td>\n",
       "      <td>FOCUS</td>\n",
       "      <td>ZX3</td>\n",
       "      <td>2D COUPE ZX3</td>\n",
       "      <td>SILVER</td>\n",
       "      <td>MANUAL</td>\n",
       "      <td>...</td>\n",
       "      <td>7911.0</td>\n",
       "      <td>NaN</td>\n",
       "      <td>NaN</td>\n",
       "      <td>19638</td>\n",
       "      <td>33619</td>\n",
       "      <td>FL</td>\n",
       "      <td>4000.0</td>\n",
       "      <td>0</td>\n",
       "      <td>1020</td>\n",
       "      <td>0</td>\n",
       "    </tr>\n",
       "    <tr>\n",
       "      <th>4</th>\n",
       "      <td>1/7/2009 0:12</td>\n",
       "      <td>ADESA</td>\n",
       "      <td>2004</td>\n",
       "      <td>5</td>\n",
       "      <td>MITSUBISHI</td>\n",
       "      <td>GALANT 4C</td>\n",
       "      <td>ES</td>\n",
       "      <td>4D SEDAN ES</td>\n",
       "      <td>WHITE</td>\n",
       "      <td>AUTO</td>\n",
       "      <td>...</td>\n",
       "      <td>9451.0</td>\n",
       "      <td>NaN</td>\n",
       "      <td>NaN</td>\n",
       "      <td>19638</td>\n",
       "      <td>33619</td>\n",
       "      <td>FL</td>\n",
       "      <td>5600.0</td>\n",
       "      <td>0</td>\n",
       "      <td>594</td>\n",
       "      <td>0</td>\n",
       "    </tr>\n",
       "    <tr>\n",
       "      <th>5</th>\n",
       "      <td>1/21/2009 0:12</td>\n",
       "      <td>ADESA</td>\n",
       "      <td>2004</td>\n",
       "      <td>5</td>\n",
       "      <td>DODGE</td>\n",
       "      <td>1500 RAM PICKUP 2WD</td>\n",
       "      <td>ST</td>\n",
       "      <td>QUAD CAB 4.7L SLT</td>\n",
       "      <td>WHITE</td>\n",
       "      <td>AUTO</td>\n",
       "      <td>...</td>\n",
       "      <td>12560.0</td>\n",
       "      <td>NaN</td>\n",
       "      <td>NaN</td>\n",
       "      <td>19638</td>\n",
       "      <td>33619</td>\n",
       "      <td>FL</td>\n",
       "      <td>8800.0</td>\n",
       "      <td>0</td>\n",
       "      <td>920</td>\n",
       "      <td>0</td>\n",
       "    </tr>\n",
       "  </tbody>\n",
       "</table>\n",
       "<p>5 rows × 33 columns</p>\n",
       "</div>"
      ],
      "text/plain": [
       "            PurchDate Auction  VehYear  VehicleAge        Make  \\\n",
       "RefId                                                            \n",
       "1       1/7/2009 0:12   ADESA     2005           4       DODGE   \n",
       "2       1/7/2009 0:12   ADESA     2004           5       DODGE   \n",
       "3       1/7/2009 0:12   ADESA     2005           4        FORD   \n",
       "4       1/7/2009 0:12   ADESA     2004           5  MITSUBISHI   \n",
       "5      1/21/2009 0:12   ADESA     2004           5       DODGE   \n",
       "\n",
       "                     Model Trim           SubModel   Color Transmission  ...  \\\n",
       "RefId                                                                    ...   \n",
       "1               STRATUS V6  SXT   4D SEDAN SXT FFV  MAROON         AUTO  ...   \n",
       "2                     NEON  SXT           4D SEDAN  SILVER         AUTO  ...   \n",
       "3                    FOCUS  ZX3       2D COUPE ZX3  SILVER       MANUAL  ...   \n",
       "4                GALANT 4C   ES        4D SEDAN ES   WHITE         AUTO  ...   \n",
       "5      1500 RAM PICKUP 2WD   ST  QUAD CAB 4.7L SLT   WHITE         AUTO  ...   \n",
       "\n",
       "       MMRCurrentRetailCleanPrice PRIMEUNIT  AUCGUART  BYRNO VNZIP1 VNST  \\\n",
       "RefId                                                                      \n",
       "1                          8702.0       NaN       NaN  19638  33619   FL   \n",
       "2                          5518.0       NaN       NaN  19638  33619   FL   \n",
       "3                          7911.0       NaN       NaN  19638  33619   FL   \n",
       "4                          9451.0       NaN       NaN  19638  33619   FL   \n",
       "5                         12560.0       NaN       NaN  19638  33619   FL   \n",
       "\n",
       "       VehBCost  IsOnlineSale  WarrantyCost  IsBadBuy  \n",
       "RefId                                                  \n",
       "1        4900.0             0          1389         0  \n",
       "2        4100.0             0           630         0  \n",
       "3        4000.0             0          1020         0  \n",
       "4        5600.0             0           594         0  \n",
       "5        8800.0             0           920         0  \n",
       "\n",
       "[5 rows x 33 columns]"
      ]
     },
     "execution_count": 259,
     "metadata": {},
     "output_type": "execute_result"
    }
   ],
   "source": [
    "df = df.set_index('RefId')\n",
    "df.head()"
   ]
  },
  {
   "cell_type": "code",
   "execution_count": 260,
   "metadata": {},
   "outputs": [
    {
     "data": {
      "text/plain": [
       "NO     324\n",
       "YES     15\n",
       "Name: PRIMEUNIT, dtype: int64"
      ]
     },
     "execution_count": 260,
     "metadata": {},
     "output_type": "execute_result"
    }
   ],
   "source": [
    "df['PRIMEUNIT'].value_counts()"
   ]
  },
  {
   "cell_type": "code",
   "execution_count": 261,
   "metadata": {},
   "outputs": [
    {
     "data": {
      "text/plain": [
       "GREEN    326\n",
       "RED       13\n",
       "Name: AUCGUART, dtype: int64"
      ]
     },
     "execution_count": 261,
     "metadata": {},
     "output_type": "execute_result"
    }
   ],
   "source": [
    "df['AUCGUART'].value_counts()"
   ]
  },
  {
   "cell_type": "markdown",
   "metadata": {},
   "source": [
    "Kako promenljive AUCGUART i PRIMEUNIT imaju ogroman broj NA vrednosti, te kolone izbacujemo iz dalje analize"
   ]
  },
  {
   "cell_type": "code",
   "execution_count": 262,
   "metadata": {},
   "outputs": [
    {
     "data": {
      "text/html": [
       "<div>\n",
       "<style scoped>\n",
       "    .dataframe tbody tr th:only-of-type {\n",
       "        vertical-align: middle;\n",
       "    }\n",
       "\n",
       "    .dataframe tbody tr th {\n",
       "        vertical-align: top;\n",
       "    }\n",
       "\n",
       "    .dataframe thead th {\n",
       "        text-align: right;\n",
       "    }\n",
       "</style>\n",
       "<table border=\"1\" class=\"dataframe\">\n",
       "  <thead>\n",
       "    <tr style=\"text-align: right;\">\n",
       "      <th></th>\n",
       "      <th>PurchDate</th>\n",
       "      <th>Auction</th>\n",
       "      <th>VehYear</th>\n",
       "      <th>VehicleAge</th>\n",
       "      <th>Make</th>\n",
       "      <th>Model</th>\n",
       "      <th>Trim</th>\n",
       "      <th>SubModel</th>\n",
       "      <th>Color</th>\n",
       "      <th>Transmission</th>\n",
       "      <th>...</th>\n",
       "      <th>MMRCurrentAuctionCleanPrice</th>\n",
       "      <th>MMRCurrentRetailAveragePrice</th>\n",
       "      <th>MMRCurrentRetailCleanPrice</th>\n",
       "      <th>BYRNO</th>\n",
       "      <th>VNZIP1</th>\n",
       "      <th>VNST</th>\n",
       "      <th>VehBCost</th>\n",
       "      <th>IsOnlineSale</th>\n",
       "      <th>WarrantyCost</th>\n",
       "      <th>IsBadBuy</th>\n",
       "    </tr>\n",
       "    <tr>\n",
       "      <th>RefId</th>\n",
       "      <th></th>\n",
       "      <th></th>\n",
       "      <th></th>\n",
       "      <th></th>\n",
       "      <th></th>\n",
       "      <th></th>\n",
       "      <th></th>\n",
       "      <th></th>\n",
       "      <th></th>\n",
       "      <th></th>\n",
       "      <th></th>\n",
       "      <th></th>\n",
       "      <th></th>\n",
       "      <th></th>\n",
       "      <th></th>\n",
       "      <th></th>\n",
       "      <th></th>\n",
       "      <th></th>\n",
       "      <th></th>\n",
       "      <th></th>\n",
       "      <th></th>\n",
       "    </tr>\n",
       "  </thead>\n",
       "  <tbody>\n",
       "    <tr>\n",
       "      <th>1</th>\n",
       "      <td>1/7/2009 0:12</td>\n",
       "      <td>ADESA</td>\n",
       "      <td>2005</td>\n",
       "      <td>4</td>\n",
       "      <td>DODGE</td>\n",
       "      <td>STRATUS V6</td>\n",
       "      <td>SXT</td>\n",
       "      <td>4D SEDAN SXT FFV</td>\n",
       "      <td>MAROON</td>\n",
       "      <td>AUTO</td>\n",
       "      <td>...</td>\n",
       "      <td>5557.0</td>\n",
       "      <td>7146.0</td>\n",
       "      <td>8702.0</td>\n",
       "      <td>19638</td>\n",
       "      <td>33619</td>\n",
       "      <td>FL</td>\n",
       "      <td>4900.0</td>\n",
       "      <td>0</td>\n",
       "      <td>1389</td>\n",
       "      <td>0</td>\n",
       "    </tr>\n",
       "    <tr>\n",
       "      <th>2</th>\n",
       "      <td>1/7/2009 0:12</td>\n",
       "      <td>ADESA</td>\n",
       "      <td>2004</td>\n",
       "      <td>5</td>\n",
       "      <td>DODGE</td>\n",
       "      <td>NEON</td>\n",
       "      <td>SXT</td>\n",
       "      <td>4D SEDAN</td>\n",
       "      <td>SILVER</td>\n",
       "      <td>AUTO</td>\n",
       "      <td>...</td>\n",
       "      <td>2646.0</td>\n",
       "      <td>4375.0</td>\n",
       "      <td>5518.0</td>\n",
       "      <td>19638</td>\n",
       "      <td>33619</td>\n",
       "      <td>FL</td>\n",
       "      <td>4100.0</td>\n",
       "      <td>0</td>\n",
       "      <td>630</td>\n",
       "      <td>0</td>\n",
       "    </tr>\n",
       "    <tr>\n",
       "      <th>3</th>\n",
       "      <td>1/7/2009 0:12</td>\n",
       "      <td>ADESA</td>\n",
       "      <td>2005</td>\n",
       "      <td>4</td>\n",
       "      <td>FORD</td>\n",
       "      <td>FOCUS</td>\n",
       "      <td>ZX3</td>\n",
       "      <td>2D COUPE ZX3</td>\n",
       "      <td>SILVER</td>\n",
       "      <td>MANUAL</td>\n",
       "      <td>...</td>\n",
       "      <td>4384.0</td>\n",
       "      <td>6739.0</td>\n",
       "      <td>7911.0</td>\n",
       "      <td>19638</td>\n",
       "      <td>33619</td>\n",
       "      <td>FL</td>\n",
       "      <td>4000.0</td>\n",
       "      <td>0</td>\n",
       "      <td>1020</td>\n",
       "      <td>0</td>\n",
       "    </tr>\n",
       "    <tr>\n",
       "      <th>4</th>\n",
       "      <td>1/7/2009 0:12</td>\n",
       "      <td>ADESA</td>\n",
       "      <td>2004</td>\n",
       "      <td>5</td>\n",
       "      <td>MITSUBISHI</td>\n",
       "      <td>GALANT 4C</td>\n",
       "      <td>ES</td>\n",
       "      <td>4D SEDAN ES</td>\n",
       "      <td>WHITE</td>\n",
       "      <td>AUTO</td>\n",
       "      <td>...</td>\n",
       "      <td>5827.0</td>\n",
       "      <td>8149.0</td>\n",
       "      <td>9451.0</td>\n",
       "      <td>19638</td>\n",
       "      <td>33619</td>\n",
       "      <td>FL</td>\n",
       "      <td>5600.0</td>\n",
       "      <td>0</td>\n",
       "      <td>594</td>\n",
       "      <td>0</td>\n",
       "    </tr>\n",
       "    <tr>\n",
       "      <th>5</th>\n",
       "      <td>1/21/2009 0:12</td>\n",
       "      <td>ADESA</td>\n",
       "      <td>2004</td>\n",
       "      <td>5</td>\n",
       "      <td>DODGE</td>\n",
       "      <td>1500 RAM PICKUP 2WD</td>\n",
       "      <td>ST</td>\n",
       "      <td>QUAD CAB 4.7L SLT</td>\n",
       "      <td>WHITE</td>\n",
       "      <td>AUTO</td>\n",
       "      <td>...</td>\n",
       "      <td>8934.0</td>\n",
       "      <td>11135.0</td>\n",
       "      <td>12560.0</td>\n",
       "      <td>19638</td>\n",
       "      <td>33619</td>\n",
       "      <td>FL</td>\n",
       "      <td>8800.0</td>\n",
       "      <td>0</td>\n",
       "      <td>920</td>\n",
       "      <td>0</td>\n",
       "    </tr>\n",
       "  </tbody>\n",
       "</table>\n",
       "<p>5 rows × 31 columns</p>\n",
       "</div>"
      ],
      "text/plain": [
       "            PurchDate Auction  VehYear  VehicleAge        Make  \\\n",
       "RefId                                                            \n",
       "1       1/7/2009 0:12   ADESA     2005           4       DODGE   \n",
       "2       1/7/2009 0:12   ADESA     2004           5       DODGE   \n",
       "3       1/7/2009 0:12   ADESA     2005           4        FORD   \n",
       "4       1/7/2009 0:12   ADESA     2004           5  MITSUBISHI   \n",
       "5      1/21/2009 0:12   ADESA     2004           5       DODGE   \n",
       "\n",
       "                     Model Trim           SubModel   Color Transmission  ...  \\\n",
       "RefId                                                                    ...   \n",
       "1               STRATUS V6  SXT   4D SEDAN SXT FFV  MAROON         AUTO  ...   \n",
       "2                     NEON  SXT           4D SEDAN  SILVER         AUTO  ...   \n",
       "3                    FOCUS  ZX3       2D COUPE ZX3  SILVER       MANUAL  ...   \n",
       "4                GALANT 4C   ES        4D SEDAN ES   WHITE         AUTO  ...   \n",
       "5      1500 RAM PICKUP 2WD   ST  QUAD CAB 4.7L SLT   WHITE         AUTO  ...   \n",
       "\n",
       "       MMRCurrentAuctionCleanPrice MMRCurrentRetailAveragePrice  \\\n",
       "RefId                                                             \n",
       "1                           5557.0                       7146.0   \n",
       "2                           2646.0                       4375.0   \n",
       "3                           4384.0                       6739.0   \n",
       "4                           5827.0                       8149.0   \n",
       "5                           8934.0                      11135.0   \n",
       "\n",
       "       MMRCurrentRetailCleanPrice  BYRNO VNZIP1 VNST  VehBCost  IsOnlineSale  \\\n",
       "RefId                                                                          \n",
       "1                          8702.0  19638  33619   FL    4900.0             0   \n",
       "2                          5518.0  19638  33619   FL    4100.0             0   \n",
       "3                          7911.0  19638  33619   FL    4000.0             0   \n",
       "4                          9451.0  19638  33619   FL    5600.0             0   \n",
       "5                         12560.0  19638  33619   FL    8800.0             0   \n",
       "\n",
       "       WarrantyCost  IsBadBuy  \n",
       "RefId                          \n",
       "1              1389         0  \n",
       "2               630         0  \n",
       "3              1020         0  \n",
       "4               594         0  \n",
       "5               920         0  \n",
       "\n",
       "[5 rows x 31 columns]"
      ]
     },
     "execution_count": 262,
     "metadata": {},
     "output_type": "execute_result"
    }
   ],
   "source": [
    "df.drop(['AUCGUART', 'PRIMEUNIT'], axis = 1, inplace = True)\n",
    "df.head()"
   ]
  },
  {
   "cell_type": "markdown",
   "metadata": {},
   "source": [
    "- Kolone AUCGUART i PRIMEUNIT imaju mnogo NA vrednosti, pa su izbacene\n",
    "- Kolona WheelTypeID je suvisna (postoji kolona WheelType), pa je izbacena"
   ]
  },
  {
   "cell_type": "code",
   "execution_count": 263,
   "metadata": {},
   "outputs": [
    {
     "data": {
      "text/plain": [
       "99761    367\n",
       "18880    323\n",
       "22916    265\n",
       "3453     260\n",
       "21973    254\n",
       "        ... \n",
       "18091      2\n",
       "1041       1\n",
       "16369      1\n",
       "1141       1\n",
       "1055       1\n",
       "Name: BYRNO, Length: 61, dtype: int64"
      ]
     },
     "execution_count": 263,
     "metadata": {},
     "output_type": "execute_result"
    }
   ],
   "source": [
    "df['BYRNO'].value_counts()"
   ]
  },
  {
   "cell_type": "markdown",
   "metadata": {},
   "source": [
    "#### Popunjavanje nedostajucih vrednosti"
   ]
  },
  {
   "cell_type": "code",
   "execution_count": 264,
   "metadata": {},
   "outputs": [
    {
     "data": {
      "text/plain": [
       "PurchDate                               0\n",
       "Auction                              3815\n",
       "VehYear                                 0\n",
       "VehicleAge                              0\n",
       "Make                                    0\n",
       "Model                                   0\n",
       "Trim                                  232\n",
       "SubModel                                0\n",
       "Color                                   0\n",
       "Transmission                            0\n",
       "WheelTypeID                           283\n",
       "WheelType                             339\n",
       "VehOdo                                  0\n",
       "Nationality                             1\n",
       "Size                                    1\n",
       "TopThreeAmericanName                    1\n",
       "MMRAcquisitionAuctionAveragePrice       1\n",
       "MMRAcquisitionAuctionCleanPrice         1\n",
       "MMRAcquisitionRetailAveragePrice        1\n",
       "MMRAcquisitonRetailCleanPrice           1\n",
       "MMRCurrentAuctionAveragePrice          21\n",
       "MMRCurrentAuctionCleanPrice            21\n",
       "MMRCurrentRetailAveragePrice           21\n",
       "MMRCurrentRetailCleanPrice             21\n",
       "BYRNO                                   0\n",
       "VNZIP1                                  0\n",
       "VNST                                 5667\n",
       "VehBCost                                0\n",
       "IsOnlineSale                            0\n",
       "WarrantyCost                            0\n",
       "IsBadBuy                                0\n",
       "dtype: int64"
      ]
     },
     "execution_count": 264,
     "metadata": {},
     "output_type": "execute_result"
    }
   ],
   "source": [
    "df.isna().sum()"
   ]
  },
  {
   "cell_type": "code",
   "execution_count": 265,
   "metadata": {},
   "outputs": [
    {
     "data": {
      "text/plain": [
       "Bas    1316\n",
       "LS      921\n",
       "SE      859\n",
       "SXT     338\n",
       "LT      318\n",
       "       ... \n",
       "RT        1\n",
       "Max       1\n",
       "Ove       1\n",
       "ZTW       1\n",
       "ZX2       1\n",
       "Name: Trim, Length: 104, dtype: int64"
      ]
     },
     "execution_count": 265,
     "metadata": {},
     "output_type": "execute_result"
    }
   ],
   "source": [
    "df['Trim'].value_counts()"
   ]
  },
  {
   "cell_type": "markdown",
   "metadata": {},
   "source": [
    "Nedostajuce vrednosti kao i kategorije sa manje od 20 ponavljanja kod promenljive Trim smo zamenili kategorijom Other"
   ]
  },
  {
   "cell_type": "code",
   "execution_count": 266,
   "metadata": {},
   "outputs": [],
   "source": [
    "df['Trim'].fillna('Other', inplace = True)"
   ]
  },
  {
   "cell_type": "code",
   "execution_count": 267,
   "metadata": {},
   "outputs": [
    {
     "data": {
      "text/plain": [
       "Bas      1316\n",
       "LS        921\n",
       "SE        859\n",
       "Other     543\n",
       "SXT       338\n",
       "LT        318\n",
       "LX        225\n",
       "Tou       212\n",
       "EX        200\n",
       "GLS       138\n",
       "XLT       123\n",
       "SEL       119\n",
       "SLT       112\n",
       "Spo       106\n",
       "Lim       105\n",
       "Lar        92\n",
       "XLS        78\n",
       "ST         76\n",
       "2          74\n",
       "ES         72\n",
       "GT         68\n",
       "S          61\n",
       "i          59\n",
       "SES        59\n",
       "LE         58\n",
       "SLE        55\n",
       "XL         47\n",
       "Nor        47\n",
       "ZX4        47\n",
       "Cla        45\n",
       "GL         37\n",
       "GS         31\n",
       "150        26\n",
       "Cus        24\n",
       "STX        24\n",
       "Adv        22\n",
       "s          21\n",
       "3          20\n",
       "CX         20\n",
       "Name: Trim, dtype: int64"
      ]
     },
     "execution_count": 267,
     "metadata": {},
     "output_type": "execute_result"
    }
   ],
   "source": [
    "low_freq_trim = df['Trim'].value_counts()[df['Trim'].value_counts() < 20]\n",
    "df['Trim'] = ['Other' if x in low_freq_trim else x for x in df['Trim']]\n",
    "df['Trim'].value_counts()"
   ]
  },
  {
   "cell_type": "code",
   "execution_count": 268,
   "metadata": {},
   "outputs": [
    {
     "data": {
      "text/plain": [
       "Alloy     3376\n",
       "Covers    3083\n",
       "Name: WheelType, dtype: int64"
      ]
     },
     "execution_count": 268,
     "metadata": {},
     "output_type": "execute_result"
    }
   ],
   "source": [
    "df['WheelType'].value_counts()"
   ]
  },
  {
   "cell_type": "code",
   "execution_count": 269,
   "metadata": {},
   "outputs": [],
   "source": [
    "import matplotlib.pyplot as plt\n",
    "import seaborn as sns"
   ]
  },
  {
   "cell_type": "code",
   "execution_count": 270,
   "metadata": {},
   "outputs": [
    {
     "data": {
      "text/plain": [
       "<seaborn.axisgrid.FacetGrid at 0x7f998cad16d0>"
      ]
     },
     "execution_count": 270,
     "metadata": {},
     "output_type": "execute_result"
    },
    {
     "data": {
      "image/png": "[encoded data removed]",
      "text/plain": [
       "<Figure size 720x360 with 2 Axes>"
      ]
     },
     "metadata": {},
     "output_type": "display_data"
    }
   ],
   "source": [
    "sns.catplot(x = 'IsBadBuy', col = 'WheelType', data = df[df['WheelType'].notna()], kind = 'count')"
   ]
  },
  {
   "cell_type": "code",
   "execution_count": 271,
   "metadata": {},
   "outputs": [
    {
     "data": {
      "text/html": [
       "<div>\n",
       "<style scoped>\n",
       "    .dataframe tbody tr th:only-of-type {\n",
       "        vertical-align: middle;\n",
       "    }\n",
       "\n",
       "    .dataframe tbody tr th {\n",
       "        vertical-align: top;\n",
       "    }\n",
       "\n",
       "    .dataframe thead th {\n",
       "        text-align: right;\n",
       "    }\n",
       "</style>\n",
       "<table border=\"1\" class=\"dataframe\">\n",
       "  <thead>\n",
       "    <tr style=\"text-align: right;\">\n",
       "      <th>IsBadBuy</th>\n",
       "      <th>0</th>\n",
       "      <th>1</th>\n",
       "    </tr>\n",
       "    <tr>\n",
       "      <th>WheelType</th>\n",
       "      <th></th>\n",
       "      <th></th>\n",
       "    </tr>\n",
       "  </thead>\n",
       "  <tbody>\n",
       "    <tr>\n",
       "      <th>Alloy</th>\n",
       "      <td>0.886552</td>\n",
       "      <td>0.113448</td>\n",
       "    </tr>\n",
       "    <tr>\n",
       "      <th>Covers</th>\n",
       "      <td>0.913720</td>\n",
       "      <td>0.086280</td>\n",
       "    </tr>\n",
       "  </tbody>\n",
       "</table>\n",
       "</div>"
      ],
      "text/plain": [
       "IsBadBuy          0         1\n",
       "WheelType                    \n",
       "Alloy      0.886552  0.113448\n",
       "Covers     0.913720  0.086280"
      ]
     },
     "execution_count": 271,
     "metadata": {},
     "output_type": "execute_result"
    }
   ],
   "source": [
    "pd.crosstab(df['WheelType'], df['IsBadBuy'], normalize = 'index')"
   ]
  },
  {
   "cell_type": "markdown",
   "metadata": {},
   "source": [
    "Primenom hi kvadrat testa (R) vidimo da postoji statisticki znacajaj uticaj promenljive WheelType na izlaznu promenlivu\n",
    "pa cemo NA vrednosti popuniti tako sto cemo tamo gde je IsBadBuy == 1 upisati vrednost 'Alloy' za prom. WheelType,\n",
    "a tamo gde je IsBadBuy == 0, upisati vrednost 'Covers' za prom. WheelType"
   ]
  },
  {
   "cell_type": "code",
   "execution_count": 272,
   "metadata": {},
   "outputs": [],
   "source": [
    "df.loc[(df['IsBadBuy'] == 1) & (df['WheelType'].isna()), 'WheelType'] = 'Alloy'\n",
    "df.loc[(df['IsBadBuy'] == 0) & (df['WheelType'].isna()), 'WheelType'] = 'Covers'"
   ]
  },
  {
   "cell_type": "code",
   "execution_count": 273,
   "metadata": {},
   "outputs": [
    {
     "data": {
      "text/html": [
       "<div>\n",
       "<style scoped>\n",
       "    .dataframe tbody tr th:only-of-type {\n",
       "        vertical-align: middle;\n",
       "    }\n",
       "\n",
       "    .dataframe tbody tr th {\n",
       "        vertical-align: top;\n",
       "    }\n",
       "\n",
       "    .dataframe thead th {\n",
       "        text-align: right;\n",
       "    }\n",
       "</style>\n",
       "<table border=\"1\" class=\"dataframe\">\n",
       "  <thead>\n",
       "    <tr style=\"text-align: right;\">\n",
       "      <th>IsBadBuy</th>\n",
       "      <th>0</th>\n",
       "      <th>1</th>\n",
       "    </tr>\n",
       "    <tr>\n",
       "      <th>WheelType</th>\n",
       "      <th></th>\n",
       "      <th></th>\n",
       "    </tr>\n",
       "  </thead>\n",
       "  <tbody>\n",
       "    <tr>\n",
       "      <th>Alloy</th>\n",
       "      <td>0.833009</td>\n",
       "      <td>0.166991</td>\n",
       "    </tr>\n",
       "    <tr>\n",
       "      <th>Covers</th>\n",
       "      <td>0.917005</td>\n",
       "      <td>0.082995</td>\n",
       "    </tr>\n",
       "  </tbody>\n",
       "</table>\n",
       "</div>"
      ],
      "text/plain": [
       "IsBadBuy          0         1\n",
       "WheelType                    \n",
       "Alloy      0.833009  0.166991\n",
       "Covers     0.917005  0.082995"
      ]
     },
     "execution_count": 273,
     "metadata": {},
     "output_type": "execute_result"
    }
   ],
   "source": [
    "pd.crosstab(df['WheelType'], df['IsBadBuy'], normalize = 'index')"
   ]
  },
  {
   "cell_type": "code",
   "execution_count": 274,
   "metadata": {},
   "outputs": [
    {
     "data": {
      "text/html": [
       "<div>\n",
       "<style scoped>\n",
       "    .dataframe tbody tr th:only-of-type {\n",
       "        vertical-align: middle;\n",
       "    }\n",
       "\n",
       "    .dataframe tbody tr th {\n",
       "        vertical-align: top;\n",
       "    }\n",
       "\n",
       "    .dataframe thead th {\n",
       "        text-align: right;\n",
       "    }\n",
       "</style>\n",
       "<table border=\"1\" class=\"dataframe\">\n",
       "  <thead>\n",
       "    <tr style=\"text-align: right;\">\n",
       "      <th></th>\n",
       "      <th>PurchDate</th>\n",
       "      <th>Auction</th>\n",
       "      <th>VehYear</th>\n",
       "      <th>VehicleAge</th>\n",
       "      <th>Make</th>\n",
       "      <th>Model</th>\n",
       "      <th>Trim</th>\n",
       "      <th>SubModel</th>\n",
       "      <th>Color</th>\n",
       "      <th>Transmission</th>\n",
       "      <th>...</th>\n",
       "      <th>MMRCurrentAuctionCleanPrice</th>\n",
       "      <th>MMRCurrentRetailAveragePrice</th>\n",
       "      <th>MMRCurrentRetailCleanPrice</th>\n",
       "      <th>BYRNO</th>\n",
       "      <th>VNZIP1</th>\n",
       "      <th>VNST</th>\n",
       "      <th>VehBCost</th>\n",
       "      <th>IsOnlineSale</th>\n",
       "      <th>WarrantyCost</th>\n",
       "      <th>IsBadBuy</th>\n",
       "    </tr>\n",
       "    <tr>\n",
       "      <th>RefId</th>\n",
       "      <th></th>\n",
       "      <th></th>\n",
       "      <th></th>\n",
       "      <th></th>\n",
       "      <th></th>\n",
       "      <th></th>\n",
       "      <th></th>\n",
       "      <th></th>\n",
       "      <th></th>\n",
       "      <th></th>\n",
       "      <th></th>\n",
       "      <th></th>\n",
       "      <th></th>\n",
       "      <th></th>\n",
       "      <th></th>\n",
       "      <th></th>\n",
       "      <th></th>\n",
       "      <th></th>\n",
       "      <th></th>\n",
       "      <th></th>\n",
       "      <th></th>\n",
       "    </tr>\n",
       "  </thead>\n",
       "  <tbody>\n",
       "    <tr>\n",
       "      <th>6496</th>\n",
       "      <td>1/24/2010 0:02</td>\n",
       "      <td>ADESA</td>\n",
       "      <td>2008</td>\n",
       "      <td>2</td>\n",
       "      <td>JEEP</td>\n",
       "      <td>PATRIOT 2WD 4C</td>\n",
       "      <td>Spo</td>\n",
       "      <td>4D SUV SPORT</td>\n",
       "      <td>BLACK</td>\n",
       "      <td>AUTO</td>\n",
       "      <td>...</td>\n",
       "      <td>11695.0</td>\n",
       "      <td>14026.0</td>\n",
       "      <td>15410.0</td>\n",
       "      <td>21053</td>\n",
       "      <td>85226</td>\n",
       "      <td>NaN</td>\n",
       "      <td>9955.0</td>\n",
       "      <td>0</td>\n",
       "      <td>825</td>\n",
       "      <td>0</td>\n",
       "    </tr>\n",
       "  </tbody>\n",
       "</table>\n",
       "<p>1 rows × 31 columns</p>\n",
       "</div>"
      ],
      "text/plain": [
       "            PurchDate Auction  VehYear  VehicleAge  Make           Model Trim  \\\n",
       "RefId                                                                           \n",
       "6496   1/24/2010 0:02   ADESA     2008           2  JEEP  PATRIOT 2WD 4C  Spo   \n",
       "\n",
       "           SubModel  Color Transmission  ...  MMRCurrentAuctionCleanPrice  \\\n",
       "RefId                                    ...                                \n",
       "6496   4D SUV SPORT  BLACK         AUTO  ...                      11695.0   \n",
       "\n",
       "      MMRCurrentRetailAveragePrice  MMRCurrentRetailCleanPrice  BYRNO VNZIP1  \\\n",
       "RefId                                                                          \n",
       "6496                       14026.0                     15410.0  21053  85226   \n",
       "\n",
       "      VNST  VehBCost  IsOnlineSale  WarrantyCost  IsBadBuy  \n",
       "RefId                                                       \n",
       "6496   NaN    9955.0             0           825         0  \n",
       "\n",
       "[1 rows x 31 columns]"
      ]
     },
     "execution_count": 274,
     "metadata": {},
     "output_type": "execute_result"
    }
   ],
   "source": [
    "df.loc[df['Nationality'].isna(), :]"
   ]
  },
  {
   "cell_type": "code",
   "execution_count": 275,
   "metadata": {},
   "outputs": [
    {
     "data": {
      "text/html": [
       "<div>\n",
       "<style scoped>\n",
       "    .dataframe tbody tr th:only-of-type {\n",
       "        vertical-align: middle;\n",
       "    }\n",
       "\n",
       "    .dataframe tbody tr th {\n",
       "        vertical-align: top;\n",
       "    }\n",
       "\n",
       "    .dataframe thead th {\n",
       "        text-align: right;\n",
       "    }\n",
       "</style>\n",
       "<table border=\"1\" class=\"dataframe\">\n",
       "  <thead>\n",
       "    <tr style=\"text-align: right;\">\n",
       "      <th></th>\n",
       "      <th>PurchDate</th>\n",
       "      <th>Auction</th>\n",
       "      <th>VehYear</th>\n",
       "      <th>VehicleAge</th>\n",
       "      <th>Make</th>\n",
       "      <th>Model</th>\n",
       "      <th>Trim</th>\n",
       "      <th>SubModel</th>\n",
       "      <th>Color</th>\n",
       "      <th>Transmission</th>\n",
       "      <th>...</th>\n",
       "      <th>MMRCurrentAuctionCleanPrice</th>\n",
       "      <th>MMRCurrentRetailAveragePrice</th>\n",
       "      <th>MMRCurrentRetailCleanPrice</th>\n",
       "      <th>BYRNO</th>\n",
       "      <th>VNZIP1</th>\n",
       "      <th>VNST</th>\n",
       "      <th>VehBCost</th>\n",
       "      <th>IsOnlineSale</th>\n",
       "      <th>WarrantyCost</th>\n",
       "      <th>IsBadBuy</th>\n",
       "    </tr>\n",
       "    <tr>\n",
       "      <th>RefId</th>\n",
       "      <th></th>\n",
       "      <th></th>\n",
       "      <th></th>\n",
       "      <th></th>\n",
       "      <th></th>\n",
       "      <th></th>\n",
       "      <th></th>\n",
       "      <th></th>\n",
       "      <th></th>\n",
       "      <th></th>\n",
       "      <th></th>\n",
       "      <th></th>\n",
       "      <th></th>\n",
       "      <th></th>\n",
       "      <th></th>\n",
       "      <th></th>\n",
       "      <th></th>\n",
       "      <th></th>\n",
       "      <th></th>\n",
       "      <th></th>\n",
       "      <th></th>\n",
       "    </tr>\n",
       "  </thead>\n",
       "  <tbody>\n",
       "    <tr>\n",
       "      <th>6496</th>\n",
       "      <td>1/24/2010 0:02</td>\n",
       "      <td>ADESA</td>\n",
       "      <td>2008</td>\n",
       "      <td>2</td>\n",
       "      <td>JEEP</td>\n",
       "      <td>PATRIOT 2WD 4C</td>\n",
       "      <td>Spo</td>\n",
       "      <td>4D SUV SPORT</td>\n",
       "      <td>BLACK</td>\n",
       "      <td>AUTO</td>\n",
       "      <td>...</td>\n",
       "      <td>11695.0</td>\n",
       "      <td>14026.0</td>\n",
       "      <td>15410.0</td>\n",
       "      <td>21053</td>\n",
       "      <td>85226</td>\n",
       "      <td>NaN</td>\n",
       "      <td>9955.0</td>\n",
       "      <td>0</td>\n",
       "      <td>825</td>\n",
       "      <td>0</td>\n",
       "    </tr>\n",
       "  </tbody>\n",
       "</table>\n",
       "<p>1 rows × 31 columns</p>\n",
       "</div>"
      ],
      "text/plain": [
       "            PurchDate Auction  VehYear  VehicleAge  Make           Model Trim  \\\n",
       "RefId                                                                           \n",
       "6496   1/24/2010 0:02   ADESA     2008           2  JEEP  PATRIOT 2WD 4C  Spo   \n",
       "\n",
       "           SubModel  Color Transmission  ...  MMRCurrentAuctionCleanPrice  \\\n",
       "RefId                                    ...                                \n",
       "6496   4D SUV SPORT  BLACK         AUTO  ...                      11695.0   \n",
       "\n",
       "      MMRCurrentRetailAveragePrice  MMRCurrentRetailCleanPrice  BYRNO VNZIP1  \\\n",
       "RefId                                                                          \n",
       "6496                       14026.0                     15410.0  21053  85226   \n",
       "\n",
       "      VNST  VehBCost  IsOnlineSale  WarrantyCost  IsBadBuy  \n",
       "RefId                                                       \n",
       "6496   NaN    9955.0             0           825         0  \n",
       "\n",
       "[1 rows x 31 columns]"
      ]
     },
     "execution_count": 275,
     "metadata": {},
     "output_type": "execute_result"
    }
   ],
   "source": [
    "df.loc[df['Size'].isna(), :]"
   ]
  },
  {
   "cell_type": "code",
   "execution_count": 276,
   "metadata": {},
   "outputs": [
    {
     "data": {
      "text/html": [
       "<div>\n",
       "<style scoped>\n",
       "    .dataframe tbody tr th:only-of-type {\n",
       "        vertical-align: middle;\n",
       "    }\n",
       "\n",
       "    .dataframe tbody tr th {\n",
       "        vertical-align: top;\n",
       "    }\n",
       "\n",
       "    .dataframe thead th {\n",
       "        text-align: right;\n",
       "    }\n",
       "</style>\n",
       "<table border=\"1\" class=\"dataframe\">\n",
       "  <thead>\n",
       "    <tr style=\"text-align: right;\">\n",
       "      <th></th>\n",
       "      <th>PurchDate</th>\n",
       "      <th>Auction</th>\n",
       "      <th>VehYear</th>\n",
       "      <th>VehicleAge</th>\n",
       "      <th>Make</th>\n",
       "      <th>Model</th>\n",
       "      <th>Trim</th>\n",
       "      <th>SubModel</th>\n",
       "      <th>Color</th>\n",
       "      <th>Transmission</th>\n",
       "      <th>...</th>\n",
       "      <th>MMRCurrentAuctionCleanPrice</th>\n",
       "      <th>MMRCurrentRetailAveragePrice</th>\n",
       "      <th>MMRCurrentRetailCleanPrice</th>\n",
       "      <th>BYRNO</th>\n",
       "      <th>VNZIP1</th>\n",
       "      <th>VNST</th>\n",
       "      <th>VehBCost</th>\n",
       "      <th>IsOnlineSale</th>\n",
       "      <th>WarrantyCost</th>\n",
       "      <th>IsBadBuy</th>\n",
       "    </tr>\n",
       "    <tr>\n",
       "      <th>RefId</th>\n",
       "      <th></th>\n",
       "      <th></th>\n",
       "      <th></th>\n",
       "      <th></th>\n",
       "      <th></th>\n",
       "      <th></th>\n",
       "      <th></th>\n",
       "      <th></th>\n",
       "      <th></th>\n",
       "      <th></th>\n",
       "      <th></th>\n",
       "      <th></th>\n",
       "      <th></th>\n",
       "      <th></th>\n",
       "      <th></th>\n",
       "      <th></th>\n",
       "      <th></th>\n",
       "      <th></th>\n",
       "      <th></th>\n",
       "      <th></th>\n",
       "      <th></th>\n",
       "    </tr>\n",
       "  </thead>\n",
       "  <tbody>\n",
       "    <tr>\n",
       "      <th>6496</th>\n",
       "      <td>1/24/2010 0:02</td>\n",
       "      <td>ADESA</td>\n",
       "      <td>2008</td>\n",
       "      <td>2</td>\n",
       "      <td>JEEP</td>\n",
       "      <td>PATRIOT 2WD 4C</td>\n",
       "      <td>Spo</td>\n",
       "      <td>4D SUV SPORT</td>\n",
       "      <td>BLACK</td>\n",
       "      <td>AUTO</td>\n",
       "      <td>...</td>\n",
       "      <td>11695.0</td>\n",
       "      <td>14026.0</td>\n",
       "      <td>15410.0</td>\n",
       "      <td>21053</td>\n",
       "      <td>85226</td>\n",
       "      <td>NaN</td>\n",
       "      <td>9955.0</td>\n",
       "      <td>0</td>\n",
       "      <td>825</td>\n",
       "      <td>0</td>\n",
       "    </tr>\n",
       "  </tbody>\n",
       "</table>\n",
       "<p>1 rows × 31 columns</p>\n",
       "</div>"
      ],
      "text/plain": [
       "            PurchDate Auction  VehYear  VehicleAge  Make           Model Trim  \\\n",
       "RefId                                                                           \n",
       "6496   1/24/2010 0:02   ADESA     2008           2  JEEP  PATRIOT 2WD 4C  Spo   \n",
       "\n",
       "           SubModel  Color Transmission  ...  MMRCurrentAuctionCleanPrice  \\\n",
       "RefId                                    ...                                \n",
       "6496   4D SUV SPORT  BLACK         AUTO  ...                      11695.0   \n",
       "\n",
       "      MMRCurrentRetailAveragePrice  MMRCurrentRetailCleanPrice  BYRNO VNZIP1  \\\n",
       "RefId                                                                          \n",
       "6496                       14026.0                     15410.0  21053  85226   \n",
       "\n",
       "      VNST  VehBCost  IsOnlineSale  WarrantyCost  IsBadBuy  \n",
       "RefId                                                       \n",
       "6496   NaN    9955.0             0           825         0  \n",
       "\n",
       "[1 rows x 31 columns]"
      ]
     },
     "execution_count": 276,
     "metadata": {},
     "output_type": "execute_result"
    }
   ],
   "source": [
    "df.loc[df['TopThreeAmericanName'].isna(), :]"
   ]
  },
  {
   "cell_type": "markdown",
   "metadata": {},
   "source": [
    "Kako za isti automobil nedostaju vrednosti promenljivih Nationality, Size i TopThreeAmericanName, uklonicemo taj red"
   ]
  },
  {
   "cell_type": "code",
   "execution_count": 277,
   "metadata": {},
   "outputs": [
    {
     "data": {
      "text/plain": [
       "PurchDate                               0\n",
       "Auction                              3815\n",
       "VehYear                                 0\n",
       "VehicleAge                              0\n",
       "Make                                    0\n",
       "Model                                   0\n",
       "Trim                                    0\n",
       "SubModel                                0\n",
       "Color                                   0\n",
       "Transmission                            0\n",
       "WheelTypeID                           283\n",
       "WheelType                               0\n",
       "VehOdo                                  0\n",
       "Nationality                             0\n",
       "Size                                    0\n",
       "TopThreeAmericanName                    0\n",
       "MMRAcquisitionAuctionAveragePrice       1\n",
       "MMRAcquisitionAuctionCleanPrice         1\n",
       "MMRAcquisitionRetailAveragePrice        1\n",
       "MMRAcquisitonRetailCleanPrice           1\n",
       "MMRCurrentAuctionAveragePrice          21\n",
       "MMRCurrentAuctionCleanPrice            21\n",
       "MMRCurrentRetailAveragePrice           21\n",
       "MMRCurrentRetailCleanPrice             21\n",
       "BYRNO                                   0\n",
       "VNZIP1                                  0\n",
       "VNST                                 5666\n",
       "VehBCost                                0\n",
       "IsOnlineSale                            0\n",
       "WarrantyCost                            0\n",
       "IsBadBuy                                0\n",
       "dtype: int64"
      ]
     },
     "execution_count": 277,
     "metadata": {},
     "output_type": "execute_result"
    }
   ],
   "source": [
    "df = df.loc[~df['Nationality'].isna(), :]\n",
    "df.isna().sum()"
   ]
  },
  {
   "cell_type": "code",
   "execution_count": 278,
   "metadata": {},
   "outputs": [
    {
     "data": {
      "text/html": [
       "<div>\n",
       "<style scoped>\n",
       "    .dataframe tbody tr th:only-of-type {\n",
       "        vertical-align: middle;\n",
       "    }\n",
       "\n",
       "    .dataframe tbody tr th {\n",
       "        vertical-align: top;\n",
       "    }\n",
       "\n",
       "    .dataframe thead th {\n",
       "        text-align: right;\n",
       "    }\n",
       "</style>\n",
       "<table border=\"1\" class=\"dataframe\">\n",
       "  <thead>\n",
       "    <tr style=\"text-align: right;\">\n",
       "      <th></th>\n",
       "      <th>PurchDate</th>\n",
       "      <th>Auction</th>\n",
       "      <th>VehYear</th>\n",
       "      <th>VehicleAge</th>\n",
       "      <th>Make</th>\n",
       "      <th>Model</th>\n",
       "      <th>Trim</th>\n",
       "      <th>SubModel</th>\n",
       "      <th>Color</th>\n",
       "      <th>Transmission</th>\n",
       "      <th>...</th>\n",
       "      <th>MMRCurrentAuctionCleanPrice</th>\n",
       "      <th>MMRCurrentRetailAveragePrice</th>\n",
       "      <th>MMRCurrentRetailCleanPrice</th>\n",
       "      <th>BYRNO</th>\n",
       "      <th>VNZIP1</th>\n",
       "      <th>VNST</th>\n",
       "      <th>VehBCost</th>\n",
       "      <th>IsOnlineSale</th>\n",
       "      <th>WarrantyCost</th>\n",
       "      <th>IsBadBuy</th>\n",
       "    </tr>\n",
       "    <tr>\n",
       "      <th>RefId</th>\n",
       "      <th></th>\n",
       "      <th></th>\n",
       "      <th></th>\n",
       "      <th></th>\n",
       "      <th></th>\n",
       "      <th></th>\n",
       "      <th></th>\n",
       "      <th></th>\n",
       "      <th></th>\n",
       "      <th></th>\n",
       "      <th></th>\n",
       "      <th></th>\n",
       "      <th></th>\n",
       "      <th></th>\n",
       "      <th></th>\n",
       "      <th></th>\n",
       "      <th></th>\n",
       "      <th></th>\n",
       "      <th></th>\n",
       "      <th></th>\n",
       "      <th></th>\n",
       "    </tr>\n",
       "  </thead>\n",
       "  <tbody>\n",
       "    <tr>\n",
       "      <th>530</th>\n",
       "      <td>1/13/2010 0:07</td>\n",
       "      <td>NaN</td>\n",
       "      <td>2004</td>\n",
       "      <td>6</td>\n",
       "      <td>NISSAN</td>\n",
       "      <td>TITAN PICKUP 2WD V8</td>\n",
       "      <td>LE</td>\n",
       "      <td>EXT CAB 5.6L</td>\n",
       "      <td>WHITE</td>\n",
       "      <td>AUTO</td>\n",
       "      <td>...</td>\n",
       "      <td>NaN</td>\n",
       "      <td>NaN</td>\n",
       "      <td>NaN</td>\n",
       "      <td>835</td>\n",
       "      <td>85040</td>\n",
       "      <td>NaN</td>\n",
       "      <td>10440.0</td>\n",
       "      <td>0</td>\n",
       "      <td>1272</td>\n",
       "      <td>0</td>\n",
       "    </tr>\n",
       "  </tbody>\n",
       "</table>\n",
       "<p>1 rows × 31 columns</p>\n",
       "</div>"
      ],
      "text/plain": [
       "            PurchDate Auction  VehYear  VehicleAge    Make  \\\n",
       "RefId                                                        \n",
       "530    1/13/2010 0:07     NaN     2004           6  NISSAN   \n",
       "\n",
       "                     Model Trim      SubModel  Color Transmission  ...  \\\n",
       "RefId                                                              ...   \n",
       "530    TITAN PICKUP 2WD V8   LE  EXT CAB 5.6L  WHITE         AUTO  ...   \n",
       "\n",
       "       MMRCurrentAuctionCleanPrice MMRCurrentRetailAveragePrice  \\\n",
       "RefId                                                             \n",
       "530                            NaN                          NaN   \n",
       "\n",
       "       MMRCurrentRetailCleanPrice BYRNO VNZIP1 VNST  VehBCost  IsOnlineSale  \\\n",
       "RefId                                                                         \n",
       "530                           NaN   835  85040  NaN   10440.0             0   \n",
       "\n",
       "       WarrantyCost  IsBadBuy  \n",
       "RefId                          \n",
       "530            1272         0  \n",
       "\n",
       "[1 rows x 31 columns]"
      ]
     },
     "execution_count": 278,
     "metadata": {},
     "output_type": "execute_result"
    }
   ],
   "source": [
    "df.loc[df['MMRAcquisitionAuctionAveragePrice'].isna(), :]"
   ]
  },
  {
   "cell_type": "markdown",
   "metadata": {},
   "source": [
    "Kako za isti automobil nedostaju vrednosti promenljivih MMRAcquisitionAuctionAveragePrice, MMRAcquisitionAuctionCleanPrice, MMRAcquisitionRetailAveragePrice i MMRAcquisitonRetailCleanPrice, uklonicemo taj red"
   ]
  },
  {
   "cell_type": "code",
   "execution_count": 279,
   "metadata": {},
   "outputs": [
    {
     "data": {
      "text/plain": [
       "PurchDate                               0\n",
       "Auction                              3814\n",
       "VehYear                                 0\n",
       "VehicleAge                              0\n",
       "Make                                    0\n",
       "Model                                   0\n",
       "Trim                                    0\n",
       "SubModel                                0\n",
       "Color                                   0\n",
       "Transmission                            0\n",
       "WheelTypeID                           283\n",
       "WheelType                               0\n",
       "VehOdo                                  0\n",
       "Nationality                             0\n",
       "Size                                    0\n",
       "TopThreeAmericanName                    0\n",
       "MMRAcquisitionAuctionAveragePrice       0\n",
       "MMRAcquisitionAuctionCleanPrice         0\n",
       "MMRAcquisitionRetailAveragePrice        0\n",
       "MMRAcquisitonRetailCleanPrice           0\n",
       "MMRCurrentAuctionAveragePrice          20\n",
       "MMRCurrentAuctionCleanPrice            20\n",
       "MMRCurrentRetailAveragePrice           20\n",
       "MMRCurrentRetailCleanPrice             20\n",
       "BYRNO                                   0\n",
       "VNZIP1                                  0\n",
       "VNST                                 5665\n",
       "VehBCost                                0\n",
       "IsOnlineSale                            0\n",
       "WarrantyCost                            0\n",
       "IsBadBuy                                0\n",
       "dtype: int64"
      ]
     },
     "execution_count": 279,
     "metadata": {},
     "output_type": "execute_result"
    }
   ],
   "source": [
    "df = df.loc[~df['MMRAcquisitionAuctionAveragePrice'].isna(), :]\n",
    "df.isna().sum()"
   ]
  },
  {
   "cell_type": "code",
   "execution_count": 280,
   "metadata": {},
   "outputs": [
    {
     "data": {
      "text/html": [
       "<div>\n",
       "<style scoped>\n",
       "    .dataframe tbody tr th:only-of-type {\n",
       "        vertical-align: middle;\n",
       "    }\n",
       "\n",
       "    .dataframe tbody tr th {\n",
       "        vertical-align: top;\n",
       "    }\n",
       "\n",
       "    .dataframe thead th {\n",
       "        text-align: right;\n",
       "    }\n",
       "</style>\n",
       "<table border=\"1\" class=\"dataframe\">\n",
       "  <thead>\n",
       "    <tr style=\"text-align: right;\">\n",
       "      <th></th>\n",
       "      <th>PurchDate</th>\n",
       "      <th>Auction</th>\n",
       "      <th>VehYear</th>\n",
       "      <th>VehicleAge</th>\n",
       "      <th>Make</th>\n",
       "      <th>Model</th>\n",
       "      <th>Trim</th>\n",
       "      <th>SubModel</th>\n",
       "      <th>Color</th>\n",
       "      <th>Transmission</th>\n",
       "      <th>...</th>\n",
       "      <th>MMRCurrentAuctionCleanPrice</th>\n",
       "      <th>MMRCurrentRetailAveragePrice</th>\n",
       "      <th>MMRCurrentRetailCleanPrice</th>\n",
       "      <th>BYRNO</th>\n",
       "      <th>VNZIP1</th>\n",
       "      <th>VNST</th>\n",
       "      <th>VehBCost</th>\n",
       "      <th>IsOnlineSale</th>\n",
       "      <th>WarrantyCost</th>\n",
       "      <th>IsBadBuy</th>\n",
       "    </tr>\n",
       "    <tr>\n",
       "      <th>RefId</th>\n",
       "      <th></th>\n",
       "      <th></th>\n",
       "      <th></th>\n",
       "      <th></th>\n",
       "      <th></th>\n",
       "      <th></th>\n",
       "      <th></th>\n",
       "      <th></th>\n",
       "      <th></th>\n",
       "      <th></th>\n",
       "      <th></th>\n",
       "      <th></th>\n",
       "      <th></th>\n",
       "      <th></th>\n",
       "      <th></th>\n",
       "      <th></th>\n",
       "      <th></th>\n",
       "      <th></th>\n",
       "      <th></th>\n",
       "      <th></th>\n",
       "      <th></th>\n",
       "    </tr>\n",
       "  </thead>\n",
       "  <tbody>\n",
       "    <tr>\n",
       "      <th>116</th>\n",
       "      <td>1/31/2009 0:03</td>\n",
       "      <td>ADESA</td>\n",
       "      <td>2005</td>\n",
       "      <td>4</td>\n",
       "      <td>CHEVROLET</td>\n",
       "      <td>MALIBU 4C 2.2L I4 MP</td>\n",
       "      <td>Bas</td>\n",
       "      <td>4D SEDAN</td>\n",
       "      <td>WHITE</td>\n",
       "      <td>AUTO</td>\n",
       "      <td>...</td>\n",
       "      <td>NaN</td>\n",
       "      <td>NaN</td>\n",
       "      <td>NaN</td>\n",
       "      <td>8655</td>\n",
       "      <td>38118</td>\n",
       "      <td>NaN</td>\n",
       "      <td>5870.0</td>\n",
       "      <td>0</td>\n",
       "      <td>1113</td>\n",
       "      <td>0</td>\n",
       "    </tr>\n",
       "    <tr>\n",
       "      <th>159</th>\n",
       "      <td>1/16/2009 0:03</td>\n",
       "      <td>ADESA</td>\n",
       "      <td>2003</td>\n",
       "      <td>6</td>\n",
       "      <td>FORD</td>\n",
       "      <td>TAURUS 3.0L V6 EFI</td>\n",
       "      <td>SES</td>\n",
       "      <td>4D SEDAN SES</td>\n",
       "      <td>GOLD</td>\n",
       "      <td>AUTO</td>\n",
       "      <td>...</td>\n",
       "      <td>NaN</td>\n",
       "      <td>NaN</td>\n",
       "      <td>NaN</td>\n",
       "      <td>19638</td>\n",
       "      <td>33619</td>\n",
       "      <td>FL</td>\n",
       "      <td>4100.0</td>\n",
       "      <td>0</td>\n",
       "      <td>1353</td>\n",
       "      <td>0</td>\n",
       "    </tr>\n",
       "    <tr>\n",
       "      <th>550</th>\n",
       "      <td>1/18/2009 0:06</td>\n",
       "      <td>NaN</td>\n",
       "      <td>2008</td>\n",
       "      <td>1</td>\n",
       "      <td>CHRYSLER</td>\n",
       "      <td>SEBRING 4C 2.4L I4 E</td>\n",
       "      <td>LX</td>\n",
       "      <td>4D SEDAN</td>\n",
       "      <td>BLUE</td>\n",
       "      <td>AUTO</td>\n",
       "      <td>...</td>\n",
       "      <td>NaN</td>\n",
       "      <td>NaN</td>\n",
       "      <td>NaN</td>\n",
       "      <td>18881</td>\n",
       "      <td>30272</td>\n",
       "      <td>NaN</td>\n",
       "      <td>8245.0</td>\n",
       "      <td>0</td>\n",
       "      <td>834</td>\n",
       "      <td>0</td>\n",
       "    </tr>\n",
       "    <tr>\n",
       "      <th>1772</th>\n",
       "      <td>1/24/2009 0:03</td>\n",
       "      <td>OTHER</td>\n",
       "      <td>2006</td>\n",
       "      <td>3</td>\n",
       "      <td>CHEVROLET</td>\n",
       "      <td>COBALT 2.2L I4 MPI</td>\n",
       "      <td>LS</td>\n",
       "      <td>4D SEDAN LS</td>\n",
       "      <td>GREEN</td>\n",
       "      <td>AUTO</td>\n",
       "      <td>...</td>\n",
       "      <td>NaN</td>\n",
       "      <td>NaN</td>\n",
       "      <td>NaN</td>\n",
       "      <td>21053</td>\n",
       "      <td>95673</td>\n",
       "      <td>NaN</td>\n",
       "      <td>5705.0</td>\n",
       "      <td>0</td>\n",
       "      <td>623</td>\n",
       "      <td>0</td>\n",
       "    </tr>\n",
       "    <tr>\n",
       "      <th>2619</th>\n",
       "      <td>1/26/2009 0:08</td>\n",
       "      <td>NaN</td>\n",
       "      <td>2008</td>\n",
       "      <td>1</td>\n",
       "      <td>CHRYSLER</td>\n",
       "      <td>SEBRING 4C 2.4L I4 E</td>\n",
       "      <td>Bas</td>\n",
       "      <td>2D CONVERTIBLE</td>\n",
       "      <td>BLUE</td>\n",
       "      <td>AUTO</td>\n",
       "      <td>...</td>\n",
       "      <td>NaN</td>\n",
       "      <td>NaN</td>\n",
       "      <td>NaN</td>\n",
       "      <td>3453</td>\n",
       "      <td>80011</td>\n",
       "      <td>NaN</td>\n",
       "      <td>9315.0</td>\n",
       "      <td>0</td>\n",
       "      <td>920</td>\n",
       "      <td>0</td>\n",
       "    </tr>\n",
       "    <tr>\n",
       "      <th>2624</th>\n",
       "      <td>1/17/2010 0:03</td>\n",
       "      <td>NaN</td>\n",
       "      <td>2008</td>\n",
       "      <td>2</td>\n",
       "      <td>JEEP</td>\n",
       "      <td>PATRIOT 2WD 4C</td>\n",
       "      <td>Spo</td>\n",
       "      <td>4D SUV</td>\n",
       "      <td>SILVER</td>\n",
       "      <td>AUTO</td>\n",
       "      <td>...</td>\n",
       "      <td>NaN</td>\n",
       "      <td>NaN</td>\n",
       "      <td>NaN</td>\n",
       "      <td>22916</td>\n",
       "      <td>80011</td>\n",
       "      <td>NaN</td>\n",
       "      <td>8905.0</td>\n",
       "      <td>0</td>\n",
       "      <td>754</td>\n",
       "      <td>0</td>\n",
       "    </tr>\n",
       "    <tr>\n",
       "      <th>2645</th>\n",
       "      <td>1/5/2009 0:08</td>\n",
       "      <td>OTHER</td>\n",
       "      <td>2008</td>\n",
       "      <td>1</td>\n",
       "      <td>CHRYSLER</td>\n",
       "      <td>SEBRING 4C 2.4L I4 E</td>\n",
       "      <td>LX</td>\n",
       "      <td>4D SEDAN</td>\n",
       "      <td>RED</td>\n",
       "      <td>AUTO</td>\n",
       "      <td>...</td>\n",
       "      <td>NaN</td>\n",
       "      <td>NaN</td>\n",
       "      <td>NaN</td>\n",
       "      <td>99761</td>\n",
       "      <td>74135</td>\n",
       "      <td>NaN</td>\n",
       "      <td>7500.0</td>\n",
       "      <td>0</td>\n",
       "      <td>920</td>\n",
       "      <td>0</td>\n",
       "    </tr>\n",
       "    <tr>\n",
       "      <th>3523</th>\n",
       "      <td>1/12/2009 0:02</td>\n",
       "      <td>NaN</td>\n",
       "      <td>2005</td>\n",
       "      <td>4</td>\n",
       "      <td>FORD</td>\n",
       "      <td>TAURUS 3.0L V6 EFI</td>\n",
       "      <td>SE</td>\n",
       "      <td>4D SEDAN SE</td>\n",
       "      <td>SILVER</td>\n",
       "      <td>AUTO</td>\n",
       "      <td>...</td>\n",
       "      <td>NaN</td>\n",
       "      <td>NaN</td>\n",
       "      <td>NaN</td>\n",
       "      <td>17212</td>\n",
       "      <td>76040</td>\n",
       "      <td>NaN</td>\n",
       "      <td>5255.0</td>\n",
       "      <td>0</td>\n",
       "      <td>983</td>\n",
       "      <td>0</td>\n",
       "    </tr>\n",
       "    <tr>\n",
       "      <th>3528</th>\n",
       "      <td>1/12/2009 0:03</td>\n",
       "      <td>NaN</td>\n",
       "      <td>2005</td>\n",
       "      <td>4</td>\n",
       "      <td>FORD</td>\n",
       "      <td>TAURUS 3.0L V6 EFI</td>\n",
       "      <td>SE</td>\n",
       "      <td>4D SEDAN SE FFV</td>\n",
       "      <td>SILVER</td>\n",
       "      <td>AUTO</td>\n",
       "      <td>...</td>\n",
       "      <td>NaN</td>\n",
       "      <td>NaN</td>\n",
       "      <td>NaN</td>\n",
       "      <td>19064</td>\n",
       "      <td>76040</td>\n",
       "      <td>NaN</td>\n",
       "      <td>4940.0</td>\n",
       "      <td>0</td>\n",
       "      <td>983</td>\n",
       "      <td>0</td>\n",
       "    </tr>\n",
       "    <tr>\n",
       "      <th>3534</th>\n",
       "      <td>1/26/2009 0:03</td>\n",
       "      <td>NaN</td>\n",
       "      <td>2005</td>\n",
       "      <td>4</td>\n",
       "      <td>CHEVROLET</td>\n",
       "      <td>IMPALA 3.4L V6 SFI</td>\n",
       "      <td>Bas</td>\n",
       "      <td>4D SEDAN</td>\n",
       "      <td>RED</td>\n",
       "      <td>AUTO</td>\n",
       "      <td>...</td>\n",
       "      <td>NaN</td>\n",
       "      <td>NaN</td>\n",
       "      <td>NaN</td>\n",
       "      <td>17212</td>\n",
       "      <td>76040</td>\n",
       "      <td>NaN</td>\n",
       "      <td>6470.0</td>\n",
       "      <td>0</td>\n",
       "      <td>2152</td>\n",
       "      <td>0</td>\n",
       "    </tr>\n",
       "    <tr>\n",
       "      <th>4716</th>\n",
       "      <td>1/25/2009 0:03</td>\n",
       "      <td>NaN</td>\n",
       "      <td>2006</td>\n",
       "      <td>3</td>\n",
       "      <td>MERCURY</td>\n",
       "      <td>MILAN 4C</td>\n",
       "      <td>Bas</td>\n",
       "      <td>4D SEDAN</td>\n",
       "      <td>SILVER</td>\n",
       "      <td>AUTO</td>\n",
       "      <td>...</td>\n",
       "      <td>NaN</td>\n",
       "      <td>NaN</td>\n",
       "      <td>NaN</td>\n",
       "      <td>22916</td>\n",
       "      <td>80011</td>\n",
       "      <td>NaN</td>\n",
       "      <td>6455.0</td>\n",
       "      <td>0</td>\n",
       "      <td>728</td>\n",
       "      <td>0</td>\n",
       "    </tr>\n",
       "    <tr>\n",
       "      <th>4718</th>\n",
       "      <td>1/25/2009 0:03</td>\n",
       "      <td>NaN</td>\n",
       "      <td>2005</td>\n",
       "      <td>4</td>\n",
       "      <td>FORD</td>\n",
       "      <td>FIVE HUNDRED 3.0L V6</td>\n",
       "      <td>SEL</td>\n",
       "      <td>4D SEDAN SEL</td>\n",
       "      <td>GREEN</td>\n",
       "      <td>AUTO</td>\n",
       "      <td>...</td>\n",
       "      <td>NaN</td>\n",
       "      <td>NaN</td>\n",
       "      <td>NaN</td>\n",
       "      <td>22916</td>\n",
       "      <td>80011</td>\n",
       "      <td>NaN</td>\n",
       "      <td>8885.0</td>\n",
       "      <td>0</td>\n",
       "      <td>1046</td>\n",
       "      <td>0</td>\n",
       "    </tr>\n",
       "    <tr>\n",
       "      <th>4910</th>\n",
       "      <td>1/29/2009 0:07</td>\n",
       "      <td>OTHER</td>\n",
       "      <td>2008</td>\n",
       "      <td>1</td>\n",
       "      <td>CHRYSLER</td>\n",
       "      <td>SEBRING 4C 2.4L I4 E</td>\n",
       "      <td>LX</td>\n",
       "      <td>4D SEDAN</td>\n",
       "      <td>NOT AVAIL</td>\n",
       "      <td>AUTO</td>\n",
       "      <td>...</td>\n",
       "      <td>NaN</td>\n",
       "      <td>NaN</td>\n",
       "      <td>NaN</td>\n",
       "      <td>99761</td>\n",
       "      <td>74135</td>\n",
       "      <td>NaN</td>\n",
       "      <td>7500.0</td>\n",
       "      <td>0</td>\n",
       "      <td>834</td>\n",
       "      <td>0</td>\n",
       "    </tr>\n",
       "    <tr>\n",
       "      <th>4913</th>\n",
       "      <td>1/29/2009 0:07</td>\n",
       "      <td>OTHER</td>\n",
       "      <td>2008</td>\n",
       "      <td>1</td>\n",
       "      <td>CHRYSLER</td>\n",
       "      <td>SEBRING 4C 2.4L I4 E</td>\n",
       "      <td>LX</td>\n",
       "      <td>4D SEDAN</td>\n",
       "      <td>BLUE</td>\n",
       "      <td>AUTO</td>\n",
       "      <td>...</td>\n",
       "      <td>NaN</td>\n",
       "      <td>NaN</td>\n",
       "      <td>NaN</td>\n",
       "      <td>99761</td>\n",
       "      <td>74135</td>\n",
       "      <td>NaN</td>\n",
       "      <td>7800.0</td>\n",
       "      <td>0</td>\n",
       "      <td>834</td>\n",
       "      <td>0</td>\n",
       "    </tr>\n",
       "    <tr>\n",
       "      <th>4914</th>\n",
       "      <td>1/4/2009 0:08</td>\n",
       "      <td>OTHER</td>\n",
       "      <td>2008</td>\n",
       "      <td>1</td>\n",
       "      <td>CHRYSLER</td>\n",
       "      <td>SEBRING 4C 2.4L I4 E</td>\n",
       "      <td>LX</td>\n",
       "      <td>4D SEDAN</td>\n",
       "      <td>SILVER</td>\n",
       "      <td>AUTO</td>\n",
       "      <td>...</td>\n",
       "      <td>NaN</td>\n",
       "      <td>NaN</td>\n",
       "      <td>NaN</td>\n",
       "      <td>99761</td>\n",
       "      <td>74135</td>\n",
       "      <td>NaN</td>\n",
       "      <td>7600.0</td>\n",
       "      <td>0</td>\n",
       "      <td>834</td>\n",
       "      <td>0</td>\n",
       "    </tr>\n",
       "    <tr>\n",
       "      <th>4917</th>\n",
       "      <td>1/4/2009 0:08</td>\n",
       "      <td>OTHER</td>\n",
       "      <td>2008</td>\n",
       "      <td>1</td>\n",
       "      <td>CHRYSLER</td>\n",
       "      <td>SEBRING 4C 2.4L I4 E</td>\n",
       "      <td>LX</td>\n",
       "      <td>4D SEDAN</td>\n",
       "      <td>GOLD</td>\n",
       "      <td>AUTO</td>\n",
       "      <td>...</td>\n",
       "      <td>NaN</td>\n",
       "      <td>NaN</td>\n",
       "      <td>NaN</td>\n",
       "      <td>99761</td>\n",
       "      <td>74135</td>\n",
       "      <td>NaN</td>\n",
       "      <td>7600.0</td>\n",
       "      <td>0</td>\n",
       "      <td>834</td>\n",
       "      <td>0</td>\n",
       "    </tr>\n",
       "    <tr>\n",
       "      <th>5302</th>\n",
       "      <td>1/25/2009 0:03</td>\n",
       "      <td>ADESA</td>\n",
       "      <td>2004</td>\n",
       "      <td>5</td>\n",
       "      <td>CHEVROLET</td>\n",
       "      <td>TAHOE 2WD 4.8L V8 SF</td>\n",
       "      <td>LS</td>\n",
       "      <td>4D SUV 4.8L LS</td>\n",
       "      <td>BEIGE</td>\n",
       "      <td>AUTO</td>\n",
       "      <td>...</td>\n",
       "      <td>NaN</td>\n",
       "      <td>NaN</td>\n",
       "      <td>NaN</td>\n",
       "      <td>8655</td>\n",
       "      <td>71119</td>\n",
       "      <td>NaN</td>\n",
       "      <td>8280.0</td>\n",
       "      <td>0</td>\n",
       "      <td>1918</td>\n",
       "      <td>0</td>\n",
       "    </tr>\n",
       "    <tr>\n",
       "      <th>5445</th>\n",
       "      <td>1/5/2009 0:02</td>\n",
       "      <td>NaN</td>\n",
       "      <td>2006</td>\n",
       "      <td>3</td>\n",
       "      <td>CHRYSLER</td>\n",
       "      <td>PACIFICA FWD 3.5L V6</td>\n",
       "      <td>Bas</td>\n",
       "      <td>4D SPORT</td>\n",
       "      <td>BLUE</td>\n",
       "      <td>AUTO</td>\n",
       "      <td>...</td>\n",
       "      <td>NaN</td>\n",
       "      <td>NaN</td>\n",
       "      <td>NaN</td>\n",
       "      <td>16926</td>\n",
       "      <td>92337</td>\n",
       "      <td>NaN</td>\n",
       "      <td>7040.0</td>\n",
       "      <td>0</td>\n",
       "      <td>1503</td>\n",
       "      <td>1</td>\n",
       "    </tr>\n",
       "    <tr>\n",
       "      <th>6678</th>\n",
       "      <td>1/26/2009 0:03</td>\n",
       "      <td>ADESA</td>\n",
       "      <td>2006</td>\n",
       "      <td>3</td>\n",
       "      <td>FORD</td>\n",
       "      <td>TAURUS 3.0L V6 EFI</td>\n",
       "      <td>SE</td>\n",
       "      <td>4D SEDAN SE</td>\n",
       "      <td>SILVER</td>\n",
       "      <td>AUTO</td>\n",
       "      <td>...</td>\n",
       "      <td>NaN</td>\n",
       "      <td>NaN</td>\n",
       "      <td>NaN</td>\n",
       "      <td>3453</td>\n",
       "      <td>80817</td>\n",
       "      <td>NaN</td>\n",
       "      <td>5190.0</td>\n",
       "      <td>0</td>\n",
       "      <td>754</td>\n",
       "      <td>0</td>\n",
       "    </tr>\n",
       "    <tr>\n",
       "      <th>6791</th>\n",
       "      <td>1/7/2009 0:10</td>\n",
       "      <td>ADESA</td>\n",
       "      <td>2007</td>\n",
       "      <td>2</td>\n",
       "      <td>JEEP</td>\n",
       "      <td>PATRIOT 2WD 4C 2.0L</td>\n",
       "      <td>Spo</td>\n",
       "      <td>4D SUV SPORT</td>\n",
       "      <td>BLUE</td>\n",
       "      <td>AUTO</td>\n",
       "      <td>...</td>\n",
       "      <td>NaN</td>\n",
       "      <td>NaN</td>\n",
       "      <td>NaN</td>\n",
       "      <td>18881</td>\n",
       "      <td>30212</td>\n",
       "      <td>NaN</td>\n",
       "      <td>7100.0</td>\n",
       "      <td>0</td>\n",
       "      <td>983</td>\n",
       "      <td>0</td>\n",
       "    </tr>\n",
       "  </tbody>\n",
       "</table>\n",
       "<p>20 rows × 31 columns</p>\n",
       "</div>"
      ],
      "text/plain": [
       "            PurchDate Auction  VehYear  VehicleAge       Make  \\\n",
       "RefId                                                           \n",
       "116    1/31/2009 0:03   ADESA     2005           4  CHEVROLET   \n",
       "159    1/16/2009 0:03   ADESA     2003           6       FORD   \n",
       "550    1/18/2009 0:06     NaN     2008           1   CHRYSLER   \n",
       "1772   1/24/2009 0:03   OTHER     2006           3  CHEVROLET   \n",
       "2619   1/26/2009 0:08     NaN     2008           1   CHRYSLER   \n",
       "2624   1/17/2010 0:03     NaN     2008           2       JEEP   \n",
       "2645    1/5/2009 0:08   OTHER     2008           1   CHRYSLER   \n",
       "3523   1/12/2009 0:02     NaN     2005           4       FORD   \n",
       "3528   1/12/2009 0:03     NaN     2005           4       FORD   \n",
       "3534   1/26/2009 0:03     NaN     2005           4  CHEVROLET   \n",
       "4716   1/25/2009 0:03     NaN     2006           3    MERCURY   \n",
       "4718   1/25/2009 0:03     NaN     2005           4       FORD   \n",
       "4910   1/29/2009 0:07   OTHER     2008           1   CHRYSLER   \n",
       "4913   1/29/2009 0:07   OTHER     2008           1   CHRYSLER   \n",
       "4914    1/4/2009 0:08   OTHER     2008           1   CHRYSLER   \n",
       "4917    1/4/2009 0:08   OTHER     2008           1   CHRYSLER   \n",
       "5302   1/25/2009 0:03   ADESA     2004           5  CHEVROLET   \n",
       "5445    1/5/2009 0:02     NaN     2006           3   CHRYSLER   \n",
       "6678   1/26/2009 0:03   ADESA     2006           3       FORD   \n",
       "6791    1/7/2009 0:10   ADESA     2007           2       JEEP   \n",
       "\n",
       "                      Model Trim         SubModel      Color Transmission  \\\n",
       "RefId                                                                       \n",
       "116    MALIBU 4C 2.2L I4 MP  Bas         4D SEDAN      WHITE         AUTO   \n",
       "159      TAURUS 3.0L V6 EFI  SES     4D SEDAN SES       GOLD         AUTO   \n",
       "550    SEBRING 4C 2.4L I4 E   LX         4D SEDAN       BLUE         AUTO   \n",
       "1772     COBALT 2.2L I4 MPI   LS      4D SEDAN LS      GREEN         AUTO   \n",
       "2619   SEBRING 4C 2.4L I4 E  Bas   2D CONVERTIBLE       BLUE         AUTO   \n",
       "2624         PATRIOT 2WD 4C  Spo           4D SUV     SILVER         AUTO   \n",
       "2645   SEBRING 4C 2.4L I4 E   LX         4D SEDAN        RED         AUTO   \n",
       "3523     TAURUS 3.0L V6 EFI   SE      4D SEDAN SE     SILVER         AUTO   \n",
       "3528     TAURUS 3.0L V6 EFI   SE  4D SEDAN SE FFV     SILVER         AUTO   \n",
       "3534     IMPALA 3.4L V6 SFI  Bas         4D SEDAN        RED         AUTO   \n",
       "4716               MILAN 4C  Bas         4D SEDAN     SILVER         AUTO   \n",
       "4718   FIVE HUNDRED 3.0L V6  SEL     4D SEDAN SEL      GREEN         AUTO   \n",
       "4910   SEBRING 4C 2.4L I4 E   LX         4D SEDAN  NOT AVAIL         AUTO   \n",
       "4913   SEBRING 4C 2.4L I4 E   LX         4D SEDAN       BLUE         AUTO   \n",
       "4914   SEBRING 4C 2.4L I4 E   LX         4D SEDAN     SILVER         AUTO   \n",
       "4917   SEBRING 4C 2.4L I4 E   LX         4D SEDAN       GOLD         AUTO   \n",
       "5302   TAHOE 2WD 4.8L V8 SF   LS   4D SUV 4.8L LS      BEIGE         AUTO   \n",
       "5445   PACIFICA FWD 3.5L V6  Bas         4D SPORT       BLUE         AUTO   \n",
       "6678     TAURUS 3.0L V6 EFI   SE      4D SEDAN SE     SILVER         AUTO   \n",
       "6791    PATRIOT 2WD 4C 2.0L  Spo     4D SUV SPORT       BLUE         AUTO   \n",
       "\n",
       "       ...  MMRCurrentAuctionCleanPrice MMRCurrentRetailAveragePrice  \\\n",
       "RefId  ...                                                             \n",
       "116    ...                          NaN                          NaN   \n",
       "159    ...                          NaN                          NaN   \n",
       "550    ...                          NaN                          NaN   \n",
       "1772   ...                          NaN                          NaN   \n",
       "2619   ...                          NaN                          NaN   \n",
       "2624   ...                          NaN                          NaN   \n",
       "2645   ...                          NaN                          NaN   \n",
       "3523   ...                          NaN                          NaN   \n",
       "3528   ...                          NaN                          NaN   \n",
       "3534   ...                          NaN                          NaN   \n",
       "4716   ...                          NaN                          NaN   \n",
       "4718   ...                          NaN                          NaN   \n",
       "4910   ...                          NaN                          NaN   \n",
       "4913   ...                          NaN                          NaN   \n",
       "4914   ...                          NaN                          NaN   \n",
       "4917   ...                          NaN                          NaN   \n",
       "5302   ...                          NaN                          NaN   \n",
       "5445   ...                          NaN                          NaN   \n",
       "6678   ...                          NaN                          NaN   \n",
       "6791   ...                          NaN                          NaN   \n",
       "\n",
       "       MMRCurrentRetailCleanPrice  BYRNO VNZIP1 VNST  VehBCost  IsOnlineSale  \\\n",
       "RefId                                                                          \n",
       "116                           NaN   8655  38118  NaN    5870.0             0   \n",
       "159                           NaN  19638  33619   FL    4100.0             0   \n",
       "550                           NaN  18881  30272  NaN    8245.0             0   \n",
       "1772                          NaN  21053  95673  NaN    5705.0             0   \n",
       "2619                          NaN   3453  80011  NaN    9315.0             0   \n",
       "2624                          NaN  22916  80011  NaN    8905.0             0   \n",
       "2645                          NaN  99761  74135  NaN    7500.0             0   \n",
       "3523                          NaN  17212  76040  NaN    5255.0             0   \n",
       "3528                          NaN  19064  76040  NaN    4940.0             0   \n",
       "3534                          NaN  17212  76040  NaN    6470.0             0   \n",
       "4716                          NaN  22916  80011  NaN    6455.0             0   \n",
       "4718                          NaN  22916  80011  NaN    8885.0             0   \n",
       "4910                          NaN  99761  74135  NaN    7500.0             0   \n",
       "4913                          NaN  99761  74135  NaN    7800.0             0   \n",
       "4914                          NaN  99761  74135  NaN    7600.0             0   \n",
       "4917                          NaN  99761  74135  NaN    7600.0             0   \n",
       "5302                          NaN   8655  71119  NaN    8280.0             0   \n",
       "5445                          NaN  16926  92337  NaN    7040.0             0   \n",
       "6678                          NaN   3453  80817  NaN    5190.0             0   \n",
       "6791                          NaN  18881  30212  NaN    7100.0             0   \n",
       "\n",
       "       WarrantyCost  IsBadBuy  \n",
       "RefId                          \n",
       "116            1113         0  \n",
       "159            1353         0  \n",
       "550             834         0  \n",
       "1772            623         0  \n",
       "2619            920         0  \n",
       "2624            754         0  \n",
       "2645            920         0  \n",
       "3523            983         0  \n",
       "3528            983         0  \n",
       "3534           2152         0  \n",
       "4716            728         0  \n",
       "4718           1046         0  \n",
       "4910            834         0  \n",
       "4913            834         0  \n",
       "4914            834         0  \n",
       "4917            834         0  \n",
       "5302           1918         0  \n",
       "5445           1503         1  \n",
       "6678            754         0  \n",
       "6791            983         0  \n",
       "\n",
       "[20 rows x 31 columns]"
      ]
     },
     "execution_count": 280,
     "metadata": {},
     "output_type": "execute_result"
    }
   ],
   "source": [
    "df.loc[df['MMRCurrentAuctionAveragePrice'].isna(), :]"
   ]
  },
  {
   "cell_type": "markdown",
   "metadata": {},
   "source": [
    "Kako za istih 20 automobila nedostaju vrednosti promenljivih: MMRCurrentAuctionAveragePrice, MMRCurrentAuctionCleanPrice, MMRCurrentRetailAveragePrice i MMRCurrentRetailCleanPrice - uklonicemo tih 20 redova"
   ]
  },
  {
   "cell_type": "code",
   "execution_count": 281,
   "metadata": {},
   "outputs": [
    {
     "data": {
      "text/plain": [
       "PurchDate                               0\n",
       "Auction                              3805\n",
       "VehYear                                 0\n",
       "VehicleAge                              0\n",
       "Make                                    0\n",
       "Model                                   0\n",
       "Trim                                    0\n",
       "SubModel                                0\n",
       "Color                                   0\n",
       "Transmission                            0\n",
       "WheelTypeID                           283\n",
       "WheelType                               0\n",
       "VehOdo                                  0\n",
       "Nationality                             0\n",
       "Size                                    0\n",
       "TopThreeAmericanName                    0\n",
       "MMRAcquisitionAuctionAveragePrice       0\n",
       "MMRAcquisitionAuctionCleanPrice         0\n",
       "MMRAcquisitionRetailAveragePrice        0\n",
       "MMRAcquisitonRetailCleanPrice           0\n",
       "MMRCurrentAuctionAveragePrice           0\n",
       "MMRCurrentAuctionCleanPrice             0\n",
       "MMRCurrentRetailAveragePrice            0\n",
       "MMRCurrentRetailCleanPrice              0\n",
       "BYRNO                                   0\n",
       "VNZIP1                                  0\n",
       "VNST                                 5646\n",
       "VehBCost                                0\n",
       "IsOnlineSale                            0\n",
       "WarrantyCost                            0\n",
       "IsBadBuy                                0\n",
       "dtype: int64"
      ]
     },
     "execution_count": 281,
     "metadata": {},
     "output_type": "execute_result"
    }
   ],
   "source": [
    "df = df.loc[~df['MMRCurrentAuctionAveragePrice'].isna(), :]\n",
    "df.isna().sum()"
   ]
  },
  {
   "cell_type": "markdown",
   "metadata": {},
   "source": [
    "- Kako kolone Auction i VNST imaju ogroman broj NA vrednosti, te kolone cemo izbaciti iz dalje analize\n",
    "- Takodje, kolona VNST je suvisna jer imamo kolonu VNZIP1 na osnovu koje mozemo za odredimo VNST"
   ]
  },
  {
   "cell_type": "code",
   "execution_count": 282,
   "metadata": {},
   "outputs": [
    {
     "data": {
      "text/plain": [
       "PurchDate                              0\n",
       "VehYear                                0\n",
       "VehicleAge                             0\n",
       "Make                                   0\n",
       "Model                                  0\n",
       "Trim                                   0\n",
       "SubModel                               0\n",
       "Color                                  0\n",
       "Transmission                           0\n",
       "WheelTypeID                          283\n",
       "WheelType                              0\n",
       "VehOdo                                 0\n",
       "Nationality                            0\n",
       "Size                                   0\n",
       "TopThreeAmericanName                   0\n",
       "MMRAcquisitionAuctionAveragePrice      0\n",
       "MMRAcquisitionAuctionCleanPrice        0\n",
       "MMRAcquisitionRetailAveragePrice       0\n",
       "MMRAcquisitonRetailCleanPrice          0\n",
       "MMRCurrentAuctionAveragePrice          0\n",
       "MMRCurrentAuctionCleanPrice            0\n",
       "MMRCurrentRetailAveragePrice           0\n",
       "MMRCurrentRetailCleanPrice             0\n",
       "BYRNO                                  0\n",
       "VNZIP1                                 0\n",
       "VehBCost                               0\n",
       "IsOnlineSale                           0\n",
       "WarrantyCost                           0\n",
       "IsBadBuy                               0\n",
       "dtype: int64"
      ]
     },
     "execution_count": 282,
     "metadata": {},
     "output_type": "execute_result"
    }
   ],
   "source": [
    "df.drop(['Auction', 'VNST'], axis = 1, inplace = True)\n",
    "df.isna().sum()"
   ]
  },
  {
   "cell_type": "markdown",
   "metadata": {},
   "source": [
    "Kolona WheelTypeID je suvisna jer imamo kolonu WheelType, pa cemo nju izbaciti"
   ]
  },
  {
   "cell_type": "code",
   "execution_count": 283,
   "metadata": {},
   "outputs": [
    {
     "data": {
      "text/plain": [
       "PurchDate                            0\n",
       "VehYear                              0\n",
       "VehicleAge                           0\n",
       "Make                                 0\n",
       "Model                                0\n",
       "Trim                                 0\n",
       "SubModel                             0\n",
       "Color                                0\n",
       "Transmission                         0\n",
       "WheelType                            0\n",
       "VehOdo                               0\n",
       "Nationality                          0\n",
       "Size                                 0\n",
       "TopThreeAmericanName                 0\n",
       "MMRAcquisitionAuctionAveragePrice    0\n",
       "MMRAcquisitionAuctionCleanPrice      0\n",
       "MMRAcquisitionRetailAveragePrice     0\n",
       "MMRAcquisitonRetailCleanPrice        0\n",
       "MMRCurrentAuctionAveragePrice        0\n",
       "MMRCurrentAuctionCleanPrice          0\n",
       "MMRCurrentRetailAveragePrice         0\n",
       "MMRCurrentRetailCleanPrice           0\n",
       "BYRNO                                0\n",
       "VNZIP1                               0\n",
       "VehBCost                             0\n",
       "IsOnlineSale                         0\n",
       "WarrantyCost                         0\n",
       "IsBadBuy                             0\n",
       "dtype: int64"
      ]
     },
     "execution_count": 283,
     "metadata": {},
     "output_type": "execute_result"
    }
   ],
   "source": [
    "df.drop('WheelTypeID', axis = 1, inplace = True)\n",
    "df.isna().sum()"
   ]
  },
  {
   "cell_type": "markdown",
   "metadata": {},
   "source": [
    "### Raspodela izlazne promenljive"
   ]
  },
  {
   "cell_type": "code",
   "execution_count": 284,
   "metadata": {},
   "outputs": [
    {
     "data": {
      "text/plain": [
       "0    0.872344\n",
       "1    0.127656\n",
       "Name: IsBadBuy, dtype: float64"
      ]
     },
     "execution_count": 284,
     "metadata": {},
     "output_type": "execute_result"
    }
   ],
   "source": [
    "df['IsBadBuy'].value_counts(normalize=True)"
   ]
  },
  {
   "cell_type": "code",
   "execution_count": 285,
   "metadata": {},
   "outputs": [
    {
     "data": {
      "text/plain": [
       "PurchDate                             object\n",
       "VehYear                                int64\n",
       "VehicleAge                             int64\n",
       "Make                                  object\n",
       "Model                                 object\n",
       "Trim                                  object\n",
       "SubModel                              object\n",
       "Color                                 object\n",
       "Transmission                          object\n",
       "WheelType                             object\n",
       "VehOdo                                 int64\n",
       "Nationality                           object\n",
       "Size                                  object\n",
       "TopThreeAmericanName                  object\n",
       "MMRAcquisitionAuctionAveragePrice    float64\n",
       "MMRAcquisitionAuctionCleanPrice      float64\n",
       "MMRAcquisitionRetailAveragePrice     float64\n",
       "MMRAcquisitonRetailCleanPrice        float64\n",
       "MMRCurrentAuctionAveragePrice        float64\n",
       "MMRCurrentAuctionCleanPrice          float64\n",
       "MMRCurrentRetailAveragePrice         float64\n",
       "MMRCurrentRetailCleanPrice           float64\n",
       "BYRNO                                 object\n",
       "VNZIP1                                object\n",
       "VehBCost                             float64\n",
       "IsOnlineSale                           int64\n",
       "WarrantyCost                           int64\n",
       "IsBadBuy                               int64\n",
       "dtype: object"
      ]
     },
     "execution_count": 285,
     "metadata": {},
     "output_type": "execute_result"
    }
   ],
   "source": [
    "df.dtypes"
   ]
  },
  {
   "cell_type": "code",
   "execution_count": 286,
   "metadata": {},
   "outputs": [
    {
     "data": {
      "text/plain": [
       "PurchDate                             object\n",
       "VehYear                                int64\n",
       "VehicleAge                             int64\n",
       "Make                                  object\n",
       "Model                                 object\n",
       "Trim                                  object\n",
       "SubModel                              object\n",
       "Color                                 object\n",
       "Transmission                          object\n",
       "WheelType                             object\n",
       "VehOdo                                 int64\n",
       "Nationality                           object\n",
       "Size                                  object\n",
       "TopThreeAmericanName                  object\n",
       "MMRAcquisitionAuctionAveragePrice    float64\n",
       "MMRAcquisitionAuctionCleanPrice      float64\n",
       "MMRAcquisitionRetailAveragePrice     float64\n",
       "MMRAcquisitonRetailCleanPrice        float64\n",
       "MMRCurrentAuctionAveragePrice        float64\n",
       "MMRCurrentAuctionCleanPrice          float64\n",
       "MMRCurrentRetailAveragePrice         float64\n",
       "MMRCurrentRetailCleanPrice           float64\n",
       "BYRNO                                 object\n",
       "VNZIP1                                object\n",
       "VehBCost                             float64\n",
       "IsOnlineSale                          object\n",
       "WarrantyCost                           int64\n",
       "IsBadBuy                              object\n",
       "dtype: object"
      ]
     },
     "execution_count": 286,
     "metadata": {},
     "output_type": "execute_result"
    }
   ],
   "source": [
    "df['VNZIP1'] = df['VNZIP1'].astype('object')\n",
    "df['IsOnlineSale'] = df['IsOnlineSale'].map({0: 'No', 1: 'Yes'})\n",
    "df['IsBadBuy'] = df['IsBadBuy'].map({0: 'No', 1: 'Yes'})\n",
    "df.dtypes"
   ]
  },
  {
   "cell_type": "code",
   "execution_count": 287,
   "metadata": {},
   "outputs": [
    {
     "data": {
      "text/html": [
       "<div>\n",
       "<style scoped>\n",
       "    .dataframe tbody tr th:only-of-type {\n",
       "        vertical-align: middle;\n",
       "    }\n",
       "\n",
       "    .dataframe tbody tr th {\n",
       "        vertical-align: top;\n",
       "    }\n",
       "\n",
       "    .dataframe thead th {\n",
       "        text-align: right;\n",
       "    }\n",
       "</style>\n",
       "<table border=\"1\" class=\"dataframe\">\n",
       "  <thead>\n",
       "    <tr style=\"text-align: right;\">\n",
       "      <th></th>\n",
       "      <th>VehYear</th>\n",
       "      <th>VehicleAge</th>\n",
       "      <th>Make</th>\n",
       "      <th>Model</th>\n",
       "      <th>Trim</th>\n",
       "      <th>SubModel</th>\n",
       "      <th>Color</th>\n",
       "      <th>Transmission</th>\n",
       "      <th>WheelType</th>\n",
       "      <th>VehOdo</th>\n",
       "      <th>...</th>\n",
       "      <th>MMRAcquisitonRetailCleanPrice</th>\n",
       "      <th>MMRCurrentAuctionAveragePrice</th>\n",
       "      <th>MMRCurrentAuctionCleanPrice</th>\n",
       "      <th>MMRCurrentRetailAveragePrice</th>\n",
       "      <th>MMRCurrentRetailCleanPrice</th>\n",
       "      <th>VNZIP1</th>\n",
       "      <th>VehBCost</th>\n",
       "      <th>IsOnlineSale</th>\n",
       "      <th>WarrantyCost</th>\n",
       "      <th>IsBadBuy</th>\n",
       "    </tr>\n",
       "    <tr>\n",
       "      <th>RefId</th>\n",
       "      <th></th>\n",
       "      <th></th>\n",
       "      <th></th>\n",
       "      <th></th>\n",
       "      <th></th>\n",
       "      <th></th>\n",
       "      <th></th>\n",
       "      <th></th>\n",
       "      <th></th>\n",
       "      <th></th>\n",
       "      <th></th>\n",
       "      <th></th>\n",
       "      <th></th>\n",
       "      <th></th>\n",
       "      <th></th>\n",
       "      <th></th>\n",
       "      <th></th>\n",
       "      <th></th>\n",
       "      <th></th>\n",
       "      <th></th>\n",
       "      <th></th>\n",
       "    </tr>\n",
       "  </thead>\n",
       "  <tbody>\n",
       "    <tr>\n",
       "      <th>1</th>\n",
       "      <td>2005</td>\n",
       "      <td>4</td>\n",
       "      <td>DODGE</td>\n",
       "      <td>STRATUS V6</td>\n",
       "      <td>SXT</td>\n",
       "      <td>4D SEDAN SXT FFV</td>\n",
       "      <td>MAROON</td>\n",
       "      <td>AUTO</td>\n",
       "      <td>Covers</td>\n",
       "      <td>73807</td>\n",
       "      <td>...</td>\n",
       "      <td>8457.0</td>\n",
       "      <td>4035.0</td>\n",
       "      <td>5557.0</td>\n",
       "      <td>7146.0</td>\n",
       "      <td>8702.0</td>\n",
       "      <td>33619</td>\n",
       "      <td>4900.0</td>\n",
       "      <td>No</td>\n",
       "      <td>1389</td>\n",
       "      <td>No</td>\n",
       "    </tr>\n",
       "    <tr>\n",
       "      <th>2</th>\n",
       "      <td>2004</td>\n",
       "      <td>5</td>\n",
       "      <td>DODGE</td>\n",
       "      <td>NEON</td>\n",
       "      <td>SXT</td>\n",
       "      <td>4D SEDAN</td>\n",
       "      <td>SILVER</td>\n",
       "      <td>AUTO</td>\n",
       "      <td>Alloy</td>\n",
       "      <td>65617</td>\n",
       "      <td>...</td>\n",
       "      <td>5690.0</td>\n",
       "      <td>1844.0</td>\n",
       "      <td>2646.0</td>\n",
       "      <td>4375.0</td>\n",
       "      <td>5518.0</td>\n",
       "      <td>33619</td>\n",
       "      <td>4100.0</td>\n",
       "      <td>No</td>\n",
       "      <td>630</td>\n",
       "      <td>No</td>\n",
       "    </tr>\n",
       "    <tr>\n",
       "      <th>3</th>\n",
       "      <td>2005</td>\n",
       "      <td>4</td>\n",
       "      <td>FORD</td>\n",
       "      <td>FOCUS</td>\n",
       "      <td>Other</td>\n",
       "      <td>2D COUPE ZX3</td>\n",
       "      <td>SILVER</td>\n",
       "      <td>MANUAL</td>\n",
       "      <td>Covers</td>\n",
       "      <td>69367</td>\n",
       "      <td>...</td>\n",
       "      <td>8707.0</td>\n",
       "      <td>3247.0</td>\n",
       "      <td>4384.0</td>\n",
       "      <td>6739.0</td>\n",
       "      <td>7911.0</td>\n",
       "      <td>33619</td>\n",
       "      <td>4000.0</td>\n",
       "      <td>No</td>\n",
       "      <td>1020</td>\n",
       "      <td>No</td>\n",
       "    </tr>\n",
       "    <tr>\n",
       "      <th>4</th>\n",
       "      <td>2004</td>\n",
       "      <td>5</td>\n",
       "      <td>MITSUBISHI</td>\n",
       "      <td>GALANT 4C</td>\n",
       "      <td>ES</td>\n",
       "      <td>4D SEDAN ES</td>\n",
       "      <td>WHITE</td>\n",
       "      <td>AUTO</td>\n",
       "      <td>Covers</td>\n",
       "      <td>81054</td>\n",
       "      <td>...</td>\n",
       "      <td>8577.0</td>\n",
       "      <td>4709.0</td>\n",
       "      <td>5827.0</td>\n",
       "      <td>8149.0</td>\n",
       "      <td>9451.0</td>\n",
       "      <td>33619</td>\n",
       "      <td>5600.0</td>\n",
       "      <td>No</td>\n",
       "      <td>594</td>\n",
       "      <td>No</td>\n",
       "    </tr>\n",
       "    <tr>\n",
       "      <th>5</th>\n",
       "      <td>2004</td>\n",
       "      <td>5</td>\n",
       "      <td>DODGE</td>\n",
       "      <td>1500 RAM PICKUP 2WD</td>\n",
       "      <td>ST</td>\n",
       "      <td>QUAD CAB 4.7L SLT</td>\n",
       "      <td>WHITE</td>\n",
       "      <td>AUTO</td>\n",
       "      <td>Alloy</td>\n",
       "      <td>76173</td>\n",
       "      <td>...</td>\n",
       "      <td>12443.0</td>\n",
       "      <td>7159.0</td>\n",
       "      <td>8934.0</td>\n",
       "      <td>11135.0</td>\n",
       "      <td>12560.0</td>\n",
       "      <td>33619</td>\n",
       "      <td>8800.0</td>\n",
       "      <td>No</td>\n",
       "      <td>920</td>\n",
       "      <td>No</td>\n",
       "    </tr>\n",
       "  </tbody>\n",
       "</table>\n",
       "<p>5 rows × 26 columns</p>\n",
       "</div>"
      ],
      "text/plain": [
       "       VehYear  VehicleAge        Make                Model   Trim  \\\n",
       "RefId                                                                \n",
       "1         2005           4       DODGE           STRATUS V6    SXT   \n",
       "2         2004           5       DODGE                 NEON    SXT   \n",
       "3         2005           4        FORD                FOCUS  Other   \n",
       "4         2004           5  MITSUBISHI            GALANT 4C     ES   \n",
       "5         2004           5       DODGE  1500 RAM PICKUP 2WD     ST   \n",
       "\n",
       "                SubModel   Color Transmission WheelType  VehOdo  ...  \\\n",
       "RefId                                                            ...   \n",
       "1       4D SEDAN SXT FFV  MAROON         AUTO    Covers   73807  ...   \n",
       "2               4D SEDAN  SILVER         AUTO     Alloy   65617  ...   \n",
       "3           2D COUPE ZX3  SILVER       MANUAL    Covers   69367  ...   \n",
       "4            4D SEDAN ES   WHITE         AUTO    Covers   81054  ...   \n",
       "5      QUAD CAB 4.7L SLT   WHITE         AUTO     Alloy   76173  ...   \n",
       "\n",
       "      MMRAcquisitonRetailCleanPrice MMRCurrentAuctionAveragePrice  \\\n",
       "RefId                                                               \n",
       "1                            8457.0                        4035.0   \n",
       "2                            5690.0                        1844.0   \n",
       "3                            8707.0                        3247.0   \n",
       "4                            8577.0                        4709.0   \n",
       "5                           12443.0                        7159.0   \n",
       "\n",
       "      MMRCurrentAuctionCleanPrice  MMRCurrentRetailAveragePrice  \\\n",
       "RefId                                                             \n",
       "1                          5557.0                        7146.0   \n",
       "2                          2646.0                        4375.0   \n",
       "3                          4384.0                        6739.0   \n",
       "4                          5827.0                        8149.0   \n",
       "5                          8934.0                       11135.0   \n",
       "\n",
       "       MMRCurrentRetailCleanPrice  VNZIP1  VehBCost  IsOnlineSale  \\\n",
       "RefId                                                               \n",
       "1                          8702.0   33619    4900.0            No   \n",
       "2                          5518.0   33619    4100.0            No   \n",
       "3                          7911.0   33619    4000.0            No   \n",
       "4                          9451.0   33619    5600.0            No   \n",
       "5                         12560.0   33619    8800.0            No   \n",
       "\n",
       "       WarrantyCost  IsBadBuy  \n",
       "RefId                          \n",
       "1              1389        No  \n",
       "2               630        No  \n",
       "3              1020        No  \n",
       "4               594        No  \n",
       "5               920        No  \n",
       "\n",
       "[5 rows x 26 columns]"
      ]
     },
     "execution_count": 287,
     "metadata": {},
     "output_type": "execute_result"
    }
   ],
   "source": [
    "df = df.drop(['PurchDate', 'BYRNO'], axis = 1)\n",
    "df.head()"
   ]
  },
  {
   "cell_type": "markdown",
   "metadata": {},
   "source": [
    "## Sredjivanje pogresno unetih podataka"
   ]
  },
  {
   "cell_type": "code",
   "execution_count": 288,
   "metadata": {},
   "outputs": [
    {
     "data": {
      "text/plain": [
       "69"
      ]
     },
     "execution_count": 288,
     "metadata": {},
     "output_type": "execute_result"
    }
   ],
   "source": [
    "len(df.loc[(df['MMRAcquisitionAuctionAveragePrice'] == 0) | (df['MMRAcquisitionAuctionAveragePrice'] == 1), 'MMRAcquisitionAuctionAveragePrice'])"
   ]
  },
  {
   "cell_type": "markdown",
   "metadata": {},
   "source": [
    "#### Vidimo da postoje redovi u kojima je cena 0 ili 1 dolar, sto ukazuje na gresku u podacima pa cemo te redove zameniti aritmetickom sredinom"
   ]
  },
  {
   "cell_type": "code",
   "execution_count": 289,
   "metadata": {},
   "outputs": [],
   "source": [
    "\n",
    "df.loc[(df['MMRAcquisitionAuctionAveragePrice'] == 0) | (df['MMRAcquisitionAuctionAveragePrice'] == 1), 'MMRAcquisitionAuctionAveragePrice'] = df.loc[(df['MMRAcquisitionAuctionAveragePrice'] != 0) & (df['MMRAcquisitionAuctionAveragePrice'] != 1), 'MMRAcquisitionAuctionAveragePrice'].mean()\n",
    "df.loc[(df['MMRAcquisitionAuctionCleanPrice'] == 0) | (df['MMRAcquisitionAuctionCleanPrice'] == 1), 'MMRAcquisitionAuctionCleanPrice'] = df.loc[(df['MMRAcquisitionAuctionCleanPrice'] != 0) & (df['MMRAcquisitionAuctionCleanPrice'] != 1), 'MMRAcquisitionAuctionCleanPrice'].mean()\n",
    "df.loc[(df['MMRAcquisitionRetailAveragePrice'] == 0) | (df['MMRAcquisitionRetailAveragePrice'] == 1), 'MMRAcquisitionRetailAveragePrice'] = df.loc[(df['MMRAcquisitionRetailAveragePrice'] != 0) & (df['MMRAcquisitionRetailAveragePrice'] != 1), 'MMRAcquisitionRetailAveragePrice'].mean()\n",
    "df.loc[(df['MMRAcquisitonRetailCleanPrice'] == 0) | (df['MMRAcquisitonRetailCleanPrice'] == 1), 'MMRAcquisitonRetailCleanPrice'] = df.loc[(df['MMRAcquisitonRetailCleanPrice'] != 0) & (df['MMRAcquisitonRetailCleanPrice'] != 1), 'MMRAcquisitonRetailCleanPrice'].mean()\n",
    "df.loc[(df['MMRCurrentAuctionAveragePrice'] == 0) | (df['MMRCurrentAuctionAveragePrice'] == 1), 'MMRCurrentAuctionAveragePrice'] = df.loc[(df['MMRCurrentAuctionAveragePrice'] != 0) & (df['MMRCurrentAuctionAveragePrice'] != 1), 'MMRCurrentAuctionAveragePrice'].mean()\n",
    "df.loc[(df['MMRCurrentAuctionCleanPrice'] == 0) | (df['MMRCurrentAuctionCleanPrice'] == 1), 'MMRCurrentAuctionCleanPrice'] = df.loc[(df['MMRCurrentAuctionCleanPrice'] != 0) & (df['MMRCurrentAuctionCleanPrice'] != 1), 'MMRCurrentAuctionCleanPrice'].mean()\n",
    "df.loc[(df['MMRCurrentRetailAveragePrice'] == 0) | (df['MMRCurrentRetailAveragePrice'] == 1), 'MMRCurrentRetailAveragePrice'] = df.loc[(df['MMRCurrentRetailAveragePrice'] != 0) & (df['MMRCurrentRetailAveragePrice'] != 1), 'MMRCurrentRetailAveragePrice'].mean()\n",
    "df.loc[(df['MMRCurrentRetailCleanPrice'] == 0) | (df['MMRCurrentRetailCleanPrice'] == 1), 'MMRCurrentRetailCleanPrice'] = df.loc[(df['MMRCurrentRetailCleanPrice'] != 0) & (df['MMRCurrentRetailCleanPrice'] != 1), 'MMRCurrentRetailCleanPrice'].mean()"
   ]
  },
  {
   "cell_type": "markdown",
   "metadata": {},
   "source": [
    "### Eksportovanje ociscenih podatak u CSV fajl"
   ]
  },
  {
   "cell_type": "code",
   "execution_count": 290,
   "metadata": {},
   "outputs": [],
   "source": [
    "df.to_csv('~/Desktop/Masinsko/projekat/cleaned.csv')"
   ]
  },
  {
   "cell_type": "markdown",
   "metadata": {},
   "source": [
    "# Podela podataka na trening i test skup"
   ]
  },
  {
   "cell_type": "code",
   "execution_count": 291,
   "metadata": {},
   "outputs": [],
   "source": [
    "from sklearn.tree import DecisionTreeClassifier\n",
    "from sklearn.linear_model import LogisticRegression\n",
    "from sklearn.naive_bayes import GaussianNB\n",
    "from sklearn.neighbors import KNeighborsClassifier\n",
    "from sklearn.model_selection import cross_validate, train_test_split\n",
    "\n",
    "RAND_STATE = 23\n",
    "\n",
    "X = df.iloc[:, :-1]\n",
    "y = df.iloc[:, -1]\n",
    "X = pd.get_dummies(X)\n",
    "X_train, X_test, y_train, y_test = train_test_split(X, y, test_size = 0.2, random_state = RAND_STATE, stratify=y)"
   ]
  },
  {
   "cell_type": "code",
   "execution_count": 292,
   "metadata": {},
   "outputs": [
    {
     "data": {
      "text/plain": [
       "(5420, 1364)"
      ]
     },
     "execution_count": 292,
     "metadata": {},
     "output_type": "execute_result"
    }
   ],
   "source": [
    "X_train.shape"
   ]
  },
  {
   "cell_type": "code",
   "execution_count": 293,
   "metadata": {},
   "outputs": [
    {
     "data": {
      "text/plain": [
       "(1356, 1364)"
      ]
     },
     "execution_count": 293,
     "metadata": {},
     "output_type": "execute_result"
    }
   ],
   "source": [
    "X_test.shape"
   ]
  },
  {
   "cell_type": "markdown",
   "metadata": {},
   "source": [
    "# Kreiranje prediktivnih modela sa podrazumevanim parametrima i bez selekcije atributa"
   ]
  },
  {
   "cell_type": "code",
   "execution_count": 294,
   "metadata": {},
   "outputs": [
    {
     "name": "stdout",
     "output_type": "stream",
     "text": [
      "Accuracy: 0.8723247232472324\n",
      "AUC: 0.6347052757157554\n"
     ]
    }
   ],
   "source": [
    "cv_dict_lr = cross_validate(LogisticRegression(solver='liblinear', random_state=RAND_STATE), X_train, y_train, cv = 10, scoring=['accuracy', 'roc_auc'])\n",
    "print(f'Accuracy: {cv_dict_lr[\"test_accuracy\"].mean()}')\n",
    "print(f'AUC: {cv_dict_lr[\"test_roc_auc\"].mean()}')"
   ]
  },
  {
   "cell_type": "code",
   "execution_count": 295,
   "metadata": {},
   "outputs": [
    {
     "name": "stdout",
     "output_type": "stream",
     "text": [
      "Accuracy: 0.8011070110701105\n",
      "AUC: 0.5380983260283101\n"
     ]
    }
   ],
   "source": [
    "cv_dict_dt = cross_validate(DecisionTreeClassifier(random_state=RAND_STATE), X_train, y_train, cv = 10, scoring=['accuracy', 'roc_auc'])\n",
    "print(f'Accuracy: {cv_dict_dt[\"test_accuracy\"].mean()}')\n",
    "print(f'AUC: {cv_dict_dt[\"test_roc_auc\"].mean()}')"
   ]
  },
  {
   "cell_type": "code",
   "execution_count": 296,
   "metadata": {},
   "outputs": [
    {
     "name": "stdout",
     "output_type": "stream",
     "text": [
      "Accuracy: 0.7391143911439114\n",
      "AUC: 0.6452886469040434\n"
     ]
    }
   ],
   "source": [
    "cv_dict_nb = cross_validate(GaussianNB(), X_train, y_train, cv = 10, scoring=['accuracy', 'roc_auc'])\n",
    "print(f'Accuracy: {cv_dict_nb[\"test_accuracy\"].mean()}')\n",
    "print(f'AUC: {cv_dict_nb[\"test_roc_auc\"].mean()}')"
   ]
  },
  {
   "cell_type": "code",
   "execution_count": 297,
   "metadata": {},
   "outputs": [],
   "source": [
    "from sklearn.preprocessing import StandardScaler\n",
    "\n",
    "scaler = StandardScaler()\n",
    "scaler.fit(X_train)\n",
    "X_train_standardized = pd.DataFrame(scaler.transform(X_train), columns = X_train.columns)\n",
    "X_test_standardized = pd.DataFrame(scaler.transform(X_test), columns = X_test.columns)"
   ]
  },
  {
   "cell_type": "code",
   "execution_count": 298,
   "metadata": {},
   "outputs": [
    {
     "data": {
      "text/html": [
       "<div>\n",
       "<style scoped>\n",
       "    .dataframe tbody tr th:only-of-type {\n",
       "        vertical-align: middle;\n",
       "    }\n",
       "\n",
       "    .dataframe tbody tr th {\n",
       "        vertical-align: top;\n",
       "    }\n",
       "\n",
       "    .dataframe thead th {\n",
       "        text-align: right;\n",
       "    }\n",
       "</style>\n",
       "<table border=\"1\" class=\"dataframe\">\n",
       "  <thead>\n",
       "    <tr style=\"text-align: right;\">\n",
       "      <th></th>\n",
       "      <th>VehYear</th>\n",
       "      <th>VehicleAge</th>\n",
       "      <th>VehOdo</th>\n",
       "      <th>MMRAcquisitionAuctionAveragePrice</th>\n",
       "      <th>MMRAcquisitionAuctionCleanPrice</th>\n",
       "      <th>MMRAcquisitionRetailAveragePrice</th>\n",
       "      <th>MMRAcquisitonRetailCleanPrice</th>\n",
       "      <th>MMRCurrentAuctionAveragePrice</th>\n",
       "      <th>MMRCurrentAuctionCleanPrice</th>\n",
       "      <th>MMRCurrentRetailAveragePrice</th>\n",
       "      <th>...</th>\n",
       "      <th>VNZIP1_92504</th>\n",
       "      <th>VNZIP1_92807</th>\n",
       "      <th>VNZIP1_94544</th>\n",
       "      <th>VNZIP1_95673</th>\n",
       "      <th>VNZIP1_97060</th>\n",
       "      <th>VNZIP1_97217</th>\n",
       "      <th>VNZIP1_97402</th>\n",
       "      <th>VNZIP1_98064</th>\n",
       "      <th>IsOnlineSale_No</th>\n",
       "      <th>IsOnlineSale_Yes</th>\n",
       "    </tr>\n",
       "  </thead>\n",
       "  <tbody>\n",
       "    <tr>\n",
       "      <th>0</th>\n",
       "      <td>-0.771011</td>\n",
       "      <td>0.475142</td>\n",
       "      <td>-1.901077</td>\n",
       "      <td>-1.448453</td>\n",
       "      <td>-1.464467</td>\n",
       "      <td>-1.695122</td>\n",
       "      <td>-1.721106</td>\n",
       "      <td>-1.131847</td>\n",
       "      <td>-1.329688</td>\n",
       "      <td>-1.518900</td>\n",
       "      <td>...</td>\n",
       "      <td>-0.069427</td>\n",
       "      <td>-0.118456</td>\n",
       "      <td>-0.090468</td>\n",
       "      <td>-0.161035</td>\n",
       "      <td>-0.019213</td>\n",
       "      <td>-0.047106</td>\n",
       "      <td>-0.013584</td>\n",
       "      <td>-0.047106</td>\n",
       "      <td>0.166382</td>\n",
       "      <td>-0.166382</td>\n",
       "    </tr>\n",
       "    <tr>\n",
       "      <th>1</th>\n",
       "      <td>0.960569</td>\n",
       "      <td>-1.271199</td>\n",
       "      <td>0.193701</td>\n",
       "      <td>0.607090</td>\n",
       "      <td>0.543594</td>\n",
       "      <td>0.052227</td>\n",
       "      <td>0.039540</td>\n",
       "      <td>0.612968</td>\n",
       "      <td>0.547464</td>\n",
       "      <td>-0.024125</td>\n",
       "      <td>...</td>\n",
       "      <td>-0.069427</td>\n",
       "      <td>-0.118456</td>\n",
       "      <td>-0.090468</td>\n",
       "      <td>-0.161035</td>\n",
       "      <td>-0.019213</td>\n",
       "      <td>-0.047106</td>\n",
       "      <td>-0.013584</td>\n",
       "      <td>-0.047106</td>\n",
       "      <td>0.166382</td>\n",
       "      <td>-0.166382</td>\n",
       "    </tr>\n",
       "    <tr>\n",
       "      <th>2</th>\n",
       "      <td>-2.502590</td>\n",
       "      <td>2.803598</td>\n",
       "      <td>0.444932</td>\n",
       "      <td>-1.852739</td>\n",
       "      <td>-1.909302</td>\n",
       "      <td>-1.434279</td>\n",
       "      <td>-1.593375</td>\n",
       "      <td>-1.956531</td>\n",
       "      <td>-2.079102</td>\n",
       "      <td>-1.614855</td>\n",
       "      <td>...</td>\n",
       "      <td>-0.069427</td>\n",
       "      <td>-0.118456</td>\n",
       "      <td>-0.090468</td>\n",
       "      <td>-0.161035</td>\n",
       "      <td>-0.019213</td>\n",
       "      <td>-0.047106</td>\n",
       "      <td>-0.013584</td>\n",
       "      <td>-0.047106</td>\n",
       "      <td>0.166382</td>\n",
       "      <td>-0.166382</td>\n",
       "    </tr>\n",
       "    <tr>\n",
       "      <th>3</th>\n",
       "      <td>-0.193818</td>\n",
       "      <td>-0.106971</td>\n",
       "      <td>-0.711856</td>\n",
       "      <td>0.442427</td>\n",
       "      <td>0.274019</td>\n",
       "      <td>-0.087972</td>\n",
       "      <td>-0.196701</td>\n",
       "      <td>0.314490</td>\n",
       "      <td>0.178656</td>\n",
       "      <td>-0.280116</td>\n",
       "      <td>...</td>\n",
       "      <td>-0.069427</td>\n",
       "      <td>-0.118456</td>\n",
       "      <td>-0.090468</td>\n",
       "      <td>-0.161035</td>\n",
       "      <td>-0.019213</td>\n",
       "      <td>-0.047106</td>\n",
       "      <td>-0.013584</td>\n",
       "      <td>-0.047106</td>\n",
       "      <td>0.166382</td>\n",
       "      <td>-0.166382</td>\n",
       "    </tr>\n",
       "    <tr>\n",
       "      <th>4</th>\n",
       "      <td>-0.193818</td>\n",
       "      <td>-0.106971</td>\n",
       "      <td>-0.272477</td>\n",
       "      <td>-0.882452</td>\n",
       "      <td>-0.847424</td>\n",
       "      <td>-1.213872</td>\n",
       "      <td>-1.180108</td>\n",
       "      <td>-1.115521</td>\n",
       "      <td>-1.143571</td>\n",
       "      <td>-0.690167</td>\n",
       "      <td>...</td>\n",
       "      <td>-0.069427</td>\n",
       "      <td>-0.118456</td>\n",
       "      <td>-0.090468</td>\n",
       "      <td>-0.161035</td>\n",
       "      <td>-0.019213</td>\n",
       "      <td>-0.047106</td>\n",
       "      <td>-0.013584</td>\n",
       "      <td>-0.047106</td>\n",
       "      <td>0.166382</td>\n",
       "      <td>-0.166382</td>\n",
       "    </tr>\n",
       "  </tbody>\n",
       "</table>\n",
       "<p>5 rows × 1364 columns</p>\n",
       "</div>"
      ],
      "text/plain": [
       "    VehYear  VehicleAge    VehOdo  MMRAcquisitionAuctionAveragePrice  \\\n",
       "0 -0.771011    0.475142 -1.901077                          -1.448453   \n",
       "1  0.960569   -1.271199  0.193701                           0.607090   \n",
       "2 -2.502590    2.803598  0.444932                          -1.852739   \n",
       "3 -0.193818   -0.106971 -0.711856                           0.442427   \n",
       "4 -0.193818   -0.106971 -0.272477                          -0.882452   \n",
       "\n",
       "   MMRAcquisitionAuctionCleanPrice  MMRAcquisitionRetailAveragePrice  \\\n",
       "0                        -1.464467                         -1.695122   \n",
       "1                         0.543594                          0.052227   \n",
       "2                        -1.909302                         -1.434279   \n",
       "3                         0.274019                         -0.087972   \n",
       "4                        -0.847424                         -1.213872   \n",
       "\n",
       "   MMRAcquisitonRetailCleanPrice  MMRCurrentAuctionAveragePrice  \\\n",
       "0                      -1.721106                      -1.131847   \n",
       "1                       0.039540                       0.612968   \n",
       "2                      -1.593375                      -1.956531   \n",
       "3                      -0.196701                       0.314490   \n",
       "4                      -1.180108                      -1.115521   \n",
       "\n",
       "   MMRCurrentAuctionCleanPrice  MMRCurrentRetailAveragePrice  ...  \\\n",
       "0                    -1.329688                     -1.518900  ...   \n",
       "1                     0.547464                     -0.024125  ...   \n",
       "2                    -2.079102                     -1.614855  ...   \n",
       "3                     0.178656                     -0.280116  ...   \n",
       "4                    -1.143571                     -0.690167  ...   \n",
       "\n",
       "   VNZIP1_92504  VNZIP1_92807  VNZIP1_94544  VNZIP1_95673  VNZIP1_97060  \\\n",
       "0     -0.069427     -0.118456     -0.090468     -0.161035     -0.019213   \n",
       "1     -0.069427     -0.118456     -0.090468     -0.161035     -0.019213   \n",
       "2     -0.069427     -0.118456     -0.090468     -0.161035     -0.019213   \n",
       "3     -0.069427     -0.118456     -0.090468     -0.161035     -0.019213   \n",
       "4     -0.069427     -0.118456     -0.090468     -0.161035     -0.019213   \n",
       "\n",
       "   VNZIP1_97217  VNZIP1_97402  VNZIP1_98064  IsOnlineSale_No  IsOnlineSale_Yes  \n",
       "0     -0.047106     -0.013584     -0.047106         0.166382         -0.166382  \n",
       "1     -0.047106     -0.013584     -0.047106         0.166382         -0.166382  \n",
       "2     -0.047106     -0.013584     -0.047106         0.166382         -0.166382  \n",
       "3     -0.047106     -0.013584     -0.047106         0.166382         -0.166382  \n",
       "4     -0.047106     -0.013584     -0.047106         0.166382         -0.166382  \n",
       "\n",
       "[5 rows x 1364 columns]"
      ]
     },
     "execution_count": 298,
     "metadata": {},
     "output_type": "execute_result"
    }
   ],
   "source": [
    "X_train_standardized.head()"
   ]
  },
  {
   "cell_type": "code",
   "execution_count": 299,
   "metadata": {},
   "outputs": [
    {
     "name": "stdout",
     "output_type": "stream",
     "text": [
      "Accuracy: 0.8597785977859779\n",
      "AUC: 0.5356669565881383\n"
     ]
    }
   ],
   "source": [
    "cv_dict_knn = cross_validate(KNeighborsClassifier(n_neighbors=5), X_train_standardized, y_train, cv = 10, scoring = ['accuracy', 'roc_auc'])\n",
    "print(f'Accuracy: {cv_dict_knn[\"test_accuracy\"].mean()}')\n",
    "print(f'AUC: {cv_dict_knn[\"test_roc_auc\"].mean()}')"
   ]
  },
  {
   "cell_type": "markdown",
   "metadata": {},
   "source": [
    "# Selekcija atributa"
   ]
  },
  {
   "cell_type": "markdown",
   "metadata": {},
   "source": [
    "## Ispitivanje korelacija"
   ]
  },
  {
   "cell_type": "code",
   "execution_count": 300,
   "metadata": {},
   "outputs": [
    {
     "data": {
      "text/plain": [
       "<AxesSubplot:>"
      ]
     },
     "execution_count": 300,
     "metadata": {},
     "output_type": "execute_result"
    },
    {
     "data": {
      "image/png": "[encoded data removed]",
      "text/plain": [
       "<Figure size 1080x576 with 2 Axes>"
      ]
     },
     "metadata": {},
     "output_type": "display_data"
    }
   ],
   "source": [
    "import seaborn as sns\n",
    "sns.set(rc = {'figure.figsize':(15,8)})\n",
    "sns.heatmap(df.corr(), annot = True, cmap='coolwarm')"
   ]
  },
  {
   "cell_type": "markdown",
   "metadata": {},
   "source": [
    "Kako je promenljiva VehYear gotovo savrseno korelisana sa promenljivom VegAge, izbacicemo promenljivu VehYear iz dalje analize"
   ]
  },
  {
   "cell_type": "code",
   "execution_count": 301,
   "metadata": {},
   "outputs": [],
   "source": [
    "df.drop('VehYear', axis = 1, inplace = True)"
   ]
  },
  {
   "cell_type": "code",
   "execution_count": 302,
   "metadata": {},
   "outputs": [
    {
     "data": {
      "text/plain": [
       "Index(['VehicleAge', 'Make', 'Model', 'Trim', 'SubModel', 'Color',\n",
       "       'Transmission', 'WheelType', 'VehOdo', 'Nationality', 'Size',\n",
       "       'TopThreeAmericanName', 'MMRAcquisitionAuctionAveragePrice',\n",
       "       'MMRAcquisitionAuctionCleanPrice', 'MMRAcquisitionRetailAveragePrice',\n",
       "       'MMRAcquisitonRetailCleanPrice', 'MMRCurrentAuctionAveragePrice',\n",
       "       'MMRCurrentAuctionCleanPrice', 'MMRCurrentRetailAveragePrice',\n",
       "       'MMRCurrentRetailCleanPrice', 'VNZIP1', 'VehBCost', 'IsOnlineSale',\n",
       "       'WarrantyCost', 'IsBadBuy'],\n",
       "      dtype='object')"
      ]
     },
     "execution_count": 302,
     "metadata": {},
     "output_type": "execute_result"
    }
   ],
   "source": [
    "df.columns"
   ]
  },
  {
   "cell_type": "markdown",
   "metadata": {},
   "source": [
    "Kako su sve \"MMR\" promenljive visoko korelisane sa prvom \"MMR\", ostavicemo samo tu prvu u daljoj analizi"
   ]
  },
  {
   "cell_type": "code",
   "execution_count": 303,
   "metadata": {},
   "outputs": [
    {
     "data": {
      "text/html": [
       "<div>\n",
       "<style scoped>\n",
       "    .dataframe tbody tr th:only-of-type {\n",
       "        vertical-align: middle;\n",
       "    }\n",
       "\n",
       "    .dataframe tbody tr th {\n",
       "        vertical-align: top;\n",
       "    }\n",
       "\n",
       "    .dataframe thead th {\n",
       "        text-align: right;\n",
       "    }\n",
       "</style>\n",
       "<table border=\"1\" class=\"dataframe\">\n",
       "  <thead>\n",
       "    <tr style=\"text-align: right;\">\n",
       "      <th></th>\n",
       "      <th>VehicleAge</th>\n",
       "      <th>Make</th>\n",
       "      <th>Model</th>\n",
       "      <th>Trim</th>\n",
       "      <th>SubModel</th>\n",
       "      <th>Color</th>\n",
       "      <th>Transmission</th>\n",
       "      <th>WheelType</th>\n",
       "      <th>VehOdo</th>\n",
       "      <th>Nationality</th>\n",
       "      <th>Size</th>\n",
       "      <th>TopThreeAmericanName</th>\n",
       "      <th>MMRAcquisitionAuctionAveragePrice</th>\n",
       "      <th>VNZIP1</th>\n",
       "      <th>VehBCost</th>\n",
       "      <th>IsOnlineSale</th>\n",
       "      <th>WarrantyCost</th>\n",
       "      <th>IsBadBuy</th>\n",
       "    </tr>\n",
       "    <tr>\n",
       "      <th>RefId</th>\n",
       "      <th></th>\n",
       "      <th></th>\n",
       "      <th></th>\n",
       "      <th></th>\n",
       "      <th></th>\n",
       "      <th></th>\n",
       "      <th></th>\n",
       "      <th></th>\n",
       "      <th></th>\n",
       "      <th></th>\n",
       "      <th></th>\n",
       "      <th></th>\n",
       "      <th></th>\n",
       "      <th></th>\n",
       "      <th></th>\n",
       "      <th></th>\n",
       "      <th></th>\n",
       "      <th></th>\n",
       "    </tr>\n",
       "  </thead>\n",
       "  <tbody>\n",
       "    <tr>\n",
       "      <th>1</th>\n",
       "      <td>4</td>\n",
       "      <td>DODGE</td>\n",
       "      <td>STRATUS V6</td>\n",
       "      <td>SXT</td>\n",
       "      <td>4D SEDAN SXT FFV</td>\n",
       "      <td>MAROON</td>\n",
       "      <td>AUTO</td>\n",
       "      <td>Covers</td>\n",
       "      <td>73807</td>\n",
       "      <td>AMERICAN</td>\n",
       "      <td>MEDIUM</td>\n",
       "      <td>CHRYSLER</td>\n",
       "      <td>3202.0</td>\n",
       "      <td>33619</td>\n",
       "      <td>4900.0</td>\n",
       "      <td>No</td>\n",
       "      <td>1389</td>\n",
       "      <td>No</td>\n",
       "    </tr>\n",
       "    <tr>\n",
       "      <th>2</th>\n",
       "      <td>5</td>\n",
       "      <td>DODGE</td>\n",
       "      <td>NEON</td>\n",
       "      <td>SXT</td>\n",
       "      <td>4D SEDAN</td>\n",
       "      <td>SILVER</td>\n",
       "      <td>AUTO</td>\n",
       "      <td>Alloy</td>\n",
       "      <td>65617</td>\n",
       "      <td>AMERICAN</td>\n",
       "      <td>COMPACT</td>\n",
       "      <td>CHRYSLER</td>\n",
       "      <td>1893.0</td>\n",
       "      <td>33619</td>\n",
       "      <td>4100.0</td>\n",
       "      <td>No</td>\n",
       "      <td>630</td>\n",
       "      <td>No</td>\n",
       "    </tr>\n",
       "    <tr>\n",
       "      <th>3</th>\n",
       "      <td>4</td>\n",
       "      <td>FORD</td>\n",
       "      <td>FOCUS</td>\n",
       "      <td>Other</td>\n",
       "      <td>2D COUPE ZX3</td>\n",
       "      <td>SILVER</td>\n",
       "      <td>MANUAL</td>\n",
       "      <td>Covers</td>\n",
       "      <td>69367</td>\n",
       "      <td>AMERICAN</td>\n",
       "      <td>COMPACT</td>\n",
       "      <td>FORD</td>\n",
       "      <td>3913.0</td>\n",
       "      <td>33619</td>\n",
       "      <td>4000.0</td>\n",
       "      <td>No</td>\n",
       "      <td>1020</td>\n",
       "      <td>No</td>\n",
       "    </tr>\n",
       "    <tr>\n",
       "      <th>4</th>\n",
       "      <td>5</td>\n",
       "      <td>MITSUBISHI</td>\n",
       "      <td>GALANT 4C</td>\n",
       "      <td>ES</td>\n",
       "      <td>4D SEDAN ES</td>\n",
       "      <td>WHITE</td>\n",
       "      <td>AUTO</td>\n",
       "      <td>Covers</td>\n",
       "      <td>81054</td>\n",
       "      <td>OTHER ASIAN</td>\n",
       "      <td>MEDIUM</td>\n",
       "      <td>OTHER</td>\n",
       "      <td>3901.0</td>\n",
       "      <td>33619</td>\n",
       "      <td>5600.0</td>\n",
       "      <td>No</td>\n",
       "      <td>594</td>\n",
       "      <td>No</td>\n",
       "    </tr>\n",
       "    <tr>\n",
       "      <th>5</th>\n",
       "      <td>5</td>\n",
       "      <td>DODGE</td>\n",
       "      <td>1500 RAM PICKUP 2WD</td>\n",
       "      <td>ST</td>\n",
       "      <td>QUAD CAB 4.7L SLT</td>\n",
       "      <td>WHITE</td>\n",
       "      <td>AUTO</td>\n",
       "      <td>Alloy</td>\n",
       "      <td>76173</td>\n",
       "      <td>AMERICAN</td>\n",
       "      <td>LARGE TRUCK</td>\n",
       "      <td>CHRYSLER</td>\n",
       "      <td>6407.0</td>\n",
       "      <td>33619</td>\n",
       "      <td>8800.0</td>\n",
       "      <td>No</td>\n",
       "      <td>920</td>\n",
       "      <td>No</td>\n",
       "    </tr>\n",
       "  </tbody>\n",
       "</table>\n",
       "</div>"
      ],
      "text/plain": [
       "       VehicleAge        Make                Model   Trim           SubModel  \\\n",
       "RefId                                                                          \n",
       "1               4       DODGE           STRATUS V6    SXT   4D SEDAN SXT FFV   \n",
       "2               5       DODGE                 NEON    SXT           4D SEDAN   \n",
       "3               4        FORD                FOCUS  Other       2D COUPE ZX3   \n",
       "4               5  MITSUBISHI            GALANT 4C     ES        4D SEDAN ES   \n",
       "5               5       DODGE  1500 RAM PICKUP 2WD     ST  QUAD CAB 4.7L SLT   \n",
       "\n",
       "        Color Transmission WheelType  VehOdo  Nationality         Size  \\\n",
       "RefId                                                                    \n",
       "1      MAROON         AUTO    Covers   73807     AMERICAN       MEDIUM   \n",
       "2      SILVER         AUTO     Alloy   65617     AMERICAN      COMPACT   \n",
       "3      SILVER       MANUAL    Covers   69367     AMERICAN      COMPACT   \n",
       "4       WHITE         AUTO    Covers   81054  OTHER ASIAN       MEDIUM   \n",
       "5       WHITE         AUTO     Alloy   76173     AMERICAN  LARGE TRUCK   \n",
       "\n",
       "      TopThreeAmericanName  MMRAcquisitionAuctionAveragePrice VNZIP1  \\\n",
       "RefId                                                                  \n",
       "1                 CHRYSLER                             3202.0  33619   \n",
       "2                 CHRYSLER                             1893.0  33619   \n",
       "3                     FORD                             3913.0  33619   \n",
       "4                    OTHER                             3901.0  33619   \n",
       "5                 CHRYSLER                             6407.0  33619   \n",
       "\n",
       "       VehBCost IsOnlineSale  WarrantyCost IsBadBuy  \n",
       "RefId                                                \n",
       "1        4900.0           No          1389       No  \n",
       "2        4100.0           No           630       No  \n",
       "3        4000.0           No          1020       No  \n",
       "4        5600.0           No           594       No  \n",
       "5        8800.0           No           920       No  "
      ]
     },
     "execution_count": 303,
     "metadata": {},
     "output_type": "execute_result"
    }
   ],
   "source": [
    "df = df.iloc[:, list(range(0, 13)) + list(range(20, 25))]\n",
    "df.head()"
   ]
  },
  {
   "cell_type": "code",
   "execution_count": 304,
   "metadata": {},
   "outputs": [],
   "source": [
    "X = df.iloc[:, :-1]\n",
    "y = df.iloc[:, -1]\n",
    "X = pd.get_dummies(X)\n",
    "X_train, X_test, y_train, y_test = train_test_split(X, y, test_size = 0.2, random_state = RAND_STATE, stratify=y)"
   ]
  },
  {
   "cell_type": "markdown",
   "metadata": {},
   "source": [
    "# Kreiranje prediktivnih modela sa izbacenim visoko korelisanim atributima"
   ]
  },
  {
   "cell_type": "code",
   "execution_count": 305,
   "metadata": {},
   "outputs": [
    {
     "name": "stdout",
     "output_type": "stream",
     "text": [
      "Accuracy: 0.8723247232472324\n",
      "AUC: 0.6089332492326444\n"
     ]
    }
   ],
   "source": [
    "cv_dict_lr = cross_validate(LogisticRegression(solver='liblinear', random_state=RAND_STATE), X_train, y_train, cv = 10, scoring=['accuracy', 'roc_auc'])\n",
    "print(f'Accuracy: {cv_dict_lr[\"test_accuracy\"].mean()}')\n",
    "print(f'AUC: {cv_dict_lr[\"test_roc_auc\"].mean()}')"
   ]
  },
  {
   "cell_type": "code",
   "execution_count": 306,
   "metadata": {},
   "outputs": [
    {
     "name": "stdout",
     "output_type": "stream",
     "text": [
      "Accuracy: 0.7985239852398525\n",
      "AUC: 0.5243431175871709\n"
     ]
    }
   ],
   "source": [
    "cv_dict_dt = cross_validate(DecisionTreeClassifier(random_state=RAND_STATE), X_train, y_train, cv = 10, scoring=['accuracy', 'roc_auc'])\n",
    "print(f'Accuracy: {cv_dict_dt[\"test_accuracy\"].mean()}')\n",
    "print(f'AUC: {cv_dict_dt[\"test_roc_auc\"].mean()}')"
   ]
  },
  {
   "cell_type": "code",
   "execution_count": 307,
   "metadata": {},
   "outputs": [
    {
     "name": "stdout",
     "output_type": "stream",
     "text": [
      "Accuracy: 0.8464944649446494\n",
      "AUC: 0.6673206831571085\n"
     ]
    }
   ],
   "source": [
    "cv_dict_nb = cross_validate(GaussianNB(), X_train, y_train, cv = 10, scoring=['accuracy', 'roc_auc'])\n",
    "print(f'Accuracy: {cv_dict_nb[\"test_accuracy\"].mean()}')\n",
    "print(f'AUC: {cv_dict_nb[\"test_roc_auc\"].mean()}')"
   ]
  },
  {
   "cell_type": "markdown",
   "metadata": {},
   "source": [
    "# Izbor 20 najvaznijih atributa"
   ]
  },
  {
   "cell_type": "code",
   "execution_count": 308,
   "metadata": {},
   "outputs": [
    {
     "data": {
      "text/plain": [
       "Index(['VehicleAge', 'VehOdo', 'MMRAcquisitionAuctionAveragePrice', 'VehBCost',\n",
       "       'WarrantyCost', 'Model_CENTURY V6 3.1L V6 S', 'Model_ESCAPE 2WD V6',\n",
       "       'Model_MAXIMA MFI V6 3.5L D', 'Model_WINDSTAR FWD V6 3.8L',\n",
       "       'SubModel_4D CUV 2.0L XLS', 'SubModel_4D CUV 3.0L XLS',\n",
       "       'SubModel_4D SUV 3.7L SLT', 'SubModel_4D SUV 4.7L',\n",
       "       'SubModel_PASSENGER 3.8L LX', 'WheelType_Alloy', 'WheelType_Covers',\n",
       "       'Size_LARGE', 'Size_MEDIUM SUV', 'VNZIP1_19440', 'VNZIP1_91752'],\n",
       "      dtype='object')"
      ]
     },
     "execution_count": 308,
     "metadata": {},
     "output_type": "execute_result"
    }
   ],
   "source": [
    "from sklearn.feature_selection import chi2\n",
    "from sklearn.feature_selection import SelectKBest\n",
    "\n",
    "selection = SelectKBest(k = 20, score_func = chi2)\n",
    "selection.fit(X_train, y_train)\n",
    "X_train_reduced = X_train.loc[:, selection.get_support()]\n",
    "X_train_reduced.columns"
   ]
  },
  {
   "cell_type": "code",
   "execution_count": 309,
   "metadata": {},
   "outputs": [],
   "source": [
    "X_test_reduced = X_test.loc[:, selection.get_support()]"
   ]
  },
  {
   "cell_type": "code",
   "execution_count": 310,
   "metadata": {},
   "outputs": [
    {
     "data": {
      "text/plain": [
       "(5420, 20)"
      ]
     },
     "execution_count": 310,
     "metadata": {},
     "output_type": "execute_result"
    }
   ],
   "source": [
    "X_train_reduced.shape"
   ]
  },
  {
   "cell_type": "code",
   "execution_count": 311,
   "metadata": {},
   "outputs": [
    {
     "data": {
      "text/plain": [
       "(1356, 20)"
      ]
     },
     "execution_count": 311,
     "metadata": {},
     "output_type": "execute_result"
    }
   ],
   "source": [
    "X_test_reduced.shape"
   ]
  },
  {
   "cell_type": "markdown",
   "metadata": {},
   "source": [
    "# Kreiranje prediktivnih modela sa izabranim atributima"
   ]
  },
  {
   "cell_type": "code",
   "execution_count": 312,
   "metadata": {},
   "outputs": [
    {
     "name": "stdout",
     "output_type": "stream",
     "text": [
      "Accuracy: 0.8723247232472324\n",
      "AUC: 0.6089454678883524\n"
     ]
    }
   ],
   "source": [
    "cv_dict_lr = cross_validate(LogisticRegression(solver='liblinear', random_state=RAND_STATE), X_train_reduced, y_train, cv = 10, scoring=['accuracy', 'roc_auc'])\n",
    "print(f'Accuracy: {cv_dict_lr[\"test_accuracy\"].mean()}')\n",
    "print(f'AUC: {cv_dict_lr[\"test_roc_auc\"].mean()}')"
   ]
  },
  {
   "cell_type": "code",
   "execution_count": 313,
   "metadata": {},
   "outputs": [
    {
     "name": "stdout",
     "output_type": "stream",
     "text": [
      "Accuracy: 0.7854243542435424\n",
      "AUC: 0.5347089470528444\n"
     ]
    }
   ],
   "source": [
    "cv_dict_dt = cross_validate(DecisionTreeClassifier(random_state=RAND_STATE), X_train_reduced, y_train, cv = 10, scoring=['accuracy', 'roc_auc'])\n",
    "print(f'Accuracy: {cv_dict_dt[\"test_accuracy\"].mean()}')\n",
    "print(f'AUC: {cv_dict_dt[\"test_roc_auc\"].mean()}')"
   ]
  },
  {
   "cell_type": "code",
   "execution_count": 315,
   "metadata": {},
   "outputs": [
    {
     "name": "stdout",
     "output_type": "stream",
     "text": [
      "Accuracy: 0.8549815498154982\n",
      "AUC: 0.6706780099659613\n"
     ]
    }
   ],
   "source": [
    "cv_dict_nb = cross_validate(GaussianNB(), X_train_reduced, y_train, cv = 10, scoring=['accuracy', 'roc_auc'])\n",
    "print(f'Accuracy: {cv_dict_nb[\"test_accuracy\"].mean()}')\n",
    "print(f'AUC: {cv_dict_nb[\"test_roc_auc\"].mean()}')"
   ]
  },
  {
   "cell_type": "code",
   "execution_count": 360,
   "metadata": {},
   "outputs": [
    {
     "name": "stdout",
     "output_type": "stream",
     "text": [
      "Best param:  {'C': 0.18367346938775508}\n",
      "Best score:  0.6089699799452204\n"
     ]
    }
   ],
   "source": [
    "logistic_params = {'C':np.linspace(start=0, stop=3, num=50)}\n",
    "grid = GridSearchCV(LogisticRegression(solver='liblinear', random_state = RAND_STATE), logistic_params, cv=10, scoring='roc_auc')\n",
    "grid.fit(X_train_reduced, y_train)\n",
    "\n",
    "print('Best param: ', grid.best_params_)\n",
    "print('Best score: ', grid.best_score_)"
   ]
  },
  {
   "cell_type": "code",
   "execution_count": null,
   "metadata": {},
   "outputs": [],
   "source": [
    "logistic_params = {'C':np.linspace(start=0, stop=3, num=50)}\n",
    "grid = GridSearchCV(LogisticRegression(solver='liblinear', random_state = RAND_STATE), logistic_params, cv=10, scoring='roc_auc')\n",
    "grid.fit(X_train_reduced, y_train)\n",
    "\n",
    "print('Best param: ', grid.best_params_)\n",
    "print('Best score: ', grid.best_score_)"
   ]
  },
  {
   "cell_type": "markdown",
   "metadata": {},
   "source": [
    "# Balansiranje klasa izlazne promenljive"
   ]
  },
  {
   "cell_type": "markdown",
   "metadata": {},
   "source": [
    "## Undersampling"
   ]
  },
  {
   "cell_type": "code",
   "execution_count": 316,
   "metadata": {},
   "outputs": [
    {
     "data": {
      "text/plain": [
       "No     692\n",
       "Yes    692\n",
       "Name: IsBadBuy, dtype: int64"
      ]
     },
     "execution_count": 316,
     "metadata": {},
     "output_type": "execute_result"
    }
   ],
   "source": [
    "from imblearn.under_sampling import RandomUnderSampler\n",
    "rus = RandomUnderSampler(sampling_strategy = 1, random_state = RAND_STATE)\n",
    "X_rus, y_rus = rus.fit_resample(X_train_reduced, y_train)\n",
    "y_rus.value_counts()"
   ]
  },
  {
   "cell_type": "code",
   "execution_count": 321,
   "metadata": {},
   "outputs": [
    {
     "name": "stdout",
     "output_type": "stream",
     "text": [
      "Accuracy: 0.6076634344698154\n",
      "AUC: 0.6582191616407117\n"
     ]
    }
   ],
   "source": [
    "cv_dict_lr = cross_validate(LogisticRegression(solver = 'liblinear', random_state=RAND_STATE), X_rus, y_rus, cv = 10, scoring=['accuracy', 'roc_auc'])\n",
    "print(f'Accuracy: {cv_dict_lr[\"test_accuracy\"].mean()}')\n",
    "print(f'AUC: {cv_dict_dt[\"test_roc_auc\"].mean()}')"
   ]
  },
  {
   "cell_type": "code",
   "execution_count": 317,
   "metadata": {},
   "outputs": [
    {
     "name": "stdout",
     "output_type": "stream",
     "text": [
      "Accuracy: 0.5579032426232927\n",
      "AUC: 0.557888198757764\n"
     ]
    }
   ],
   "source": [
    "cv_dict_dt = cross_validate(DecisionTreeClassifier(random_state=RAND_STATE), X_rus, y_rus, cv = 10, scoring=['accuracy', 'roc_auc'])\n",
    "print(f'Accuracy: {cv_dict_dt[\"test_accuracy\"].mean()}')\n",
    "print(f'AUC: {cv_dict_dt[\"test_roc_auc\"].mean()}')"
   ]
  },
  {
   "cell_type": "code",
   "execution_count": 322,
   "metadata": {},
   "outputs": [
    {
     "name": "stdout",
     "output_type": "stream",
     "text": [
      "Accuracy: 0.614169533938067\n",
      "AUC: 0.6507909502805533\n"
     ]
    }
   ],
   "source": [
    "cv_dict_nb = cross_validate(GaussianNB(), X_rus, y_rus, cv = 10, scoring=['accuracy', 'roc_auc'])\n",
    "print(f'Accuracy: {cv_dict_nb[\"test_accuracy\"].mean()}')\n",
    "print(f'AUC: {cv_dict_nb[\"test_roc_auc\"].mean()}')"
   ]
  },
  {
   "cell_type": "markdown",
   "metadata": {},
   "source": [
    "## Oversampling"
   ]
  },
  {
   "cell_type": "code",
   "execution_count": 323,
   "metadata": {},
   "outputs": [
    {
     "data": {
      "text/plain": [
       "No     4728\n",
       "Yes    4728\n",
       "Name: IsBadBuy, dtype: int64"
      ]
     },
     "execution_count": 323,
     "metadata": {},
     "output_type": "execute_result"
    }
   ],
   "source": [
    "from imblearn.over_sampling import RandomOverSampler\n",
    "\n",
    "ros = RandomOverSampler(sampling_strategy = 1, random_state = RAND_STATE)\n",
    "X_ros, y_ros = ros.fit_resample(X_train_reduced, y_train)\n",
    "y_ros.value_counts()"
   ]
  },
  {
   "cell_type": "code",
   "execution_count": 324,
   "metadata": {},
   "outputs": [
    {
     "name": "stdout",
     "output_type": "stream",
     "text": [
      "Accuracy: 0.6314525095920445\n",
      "AUC: 0.6813058347072589\n"
     ]
    }
   ],
   "source": [
    "cv_dict_lr = cross_validate(LogisticRegression(solver = 'liblinear', random_state=RAND_STATE), X_ros, y_ros, cv = 10, scoring=['accuracy', 'roc_auc'])\n",
    "print(f'Accuracy: {cv_dict_lr[\"test_accuracy\"].mean()}')\n",
    "print(f'AUC: {cv_dict_lr[\"test_roc_auc\"].mean()}')"
   ]
  },
  {
   "cell_type": "code",
   "execution_count": 325,
   "metadata": {},
   "outputs": [
    {
     "name": "stdout",
     "output_type": "stream",
     "text": [
      "Accuracy: 0.9303114198463035\n",
      "AUC: 0.9303120632816139\n"
     ]
    }
   ],
   "source": [
    "cv_dict_dt = cross_validate(DecisionTreeClassifier(random_state=RAND_STATE), X_ros, y_ros, cv = 10, scoring=['accuracy', 'roc_auc'])\n",
    "print(f'Accuracy: {cv_dict_dt[\"test_accuracy\"].mean()}')\n",
    "print(f'AUC: {cv_dict_dt[\"test_roc_auc\"].mean()}')"
   ]
  },
  {
   "cell_type": "code",
   "execution_count": 326,
   "metadata": {},
   "outputs": [
    {
     "name": "stdout",
     "output_type": "stream",
     "text": [
      "Accuracy: 0.6258457218922335\n",
      "AUC: 0.6721687731926891\n"
     ]
    }
   ],
   "source": [
    "cv_dict_nb = cross_validate(GaussianNB(), X_ros, y_ros, cv = 10, scoring=['accuracy', 'roc_auc'])\n",
    "print(f'Accuracy: {cv_dict_nb[\"test_accuracy\"].mean()}')\n",
    "print(f'AUC: {cv_dict_nb[\"test_roc_auc\"].mean()}')"
   ]
  },
  {
   "cell_type": "markdown",
   "metadata": {},
   "source": [
    "### Testiranje modela napravljenog oversamplovanjem na test skupu"
   ]
  },
  {
   "cell_type": "code",
   "execution_count": 342,
   "metadata": {},
   "outputs": [],
   "source": [
    "from sklearn.metrics import accuracy_score, confusion_matrix, roc_auc_score"
   ]
  },
  {
   "cell_type": "code",
   "execution_count": 330,
   "metadata": {},
   "outputs": [
    {
     "name": "stdout",
     "output_type": "stream",
     "text": [
      "Accuracy: 0.7750737463126843\n",
      "[[1016  167]\n",
      " [ 138   35]]\n"
     ]
    }
   ],
   "source": [
    "model = DecisionTreeClassifier(random_state=RAND_STATE)\n",
    "model.fit(X_ros, y_ros)\n",
    "y_hat = model.predict(X_test_reduced)\n",
    "print(f'Accuracy: {accuracy_score(y_test, y_hat)}')\n",
    "print(confusion_matrix(y_test, y_hat))"
   ]
  },
  {
   "cell_type": "code",
   "execution_count": 331,
   "metadata": {},
   "outputs": [
    {
     "name": "stdout",
     "output_type": "stream",
     "text": [
      "Best param:  {'max_depth': 14, 'min_samples_leaf': 50}\n",
      "Best score:  0.6982895399174469\n"
     ]
    }
   ],
   "source": [
    "from sklearn.model_selection import GridSearchCV\n",
    "\n",
    "dt_params = {'min_samples_leaf': range(50, 500, 10), 'max_depth': list(range(5, 15, 1))}\n",
    "grid = GridSearchCV(DecisionTreeClassifier(random_state=RAND_STATE), dt_params, cv=10, scoring='accuracy')\n",
    "grid.fit(X_ros, y_ros)\n",
    "\n",
    "print('Best param: ', grid.best_params_)\n",
    "print('Accuracy: ', grid.best_score_)"
   ]
  },
  {
   "cell_type": "markdown",
   "metadata": {},
   "source": [
    "## Ansambli "
   ]
  },
  {
   "cell_type": "code",
   "execution_count": 332,
   "metadata": {},
   "outputs": [],
   "source": [
    "from sklearn.ensemble import RandomForestClassifier"
   ]
  },
  {
   "cell_type": "markdown",
   "metadata": {},
   "source": [
    "### Random forest primenjen na originalne podatke (redukovane)"
   ]
  },
  {
   "cell_type": "code",
   "execution_count": 334,
   "metadata": {},
   "outputs": [
    {
     "name": "stdout",
     "output_type": "stream",
     "text": [
      "Accuracy: 0.8472324723247233\n",
      "AUC: 0.5713206910675142\n"
     ]
    }
   ],
   "source": [
    "forest = RandomForestClassifier(n_estimators=5, n_jobs=4, class_weight='balanced', random_state = RAND_STATE)\n",
    "cv_dict = cross_validate(forest, X_train_reduced, y_train, cv = 10, scoring=['accuracy', 'roc_auc'])\n",
    "print(f'Accuracy: {cv_dict[\"test_accuracy\"].mean()}')\n",
    "print(f'AUC: {cv_dict[\"test_roc_auc\"].mean()}')"
   ]
  },
  {
   "cell_type": "code",
   "execution_count": 336,
   "metadata": {},
   "outputs": [
    {
     "name": "stdout",
     "output_type": "stream",
     "text": [
      "Accuracy: 0.8688191881918819\n",
      "AUC: 0.6313116538694292\n"
     ]
    }
   ],
   "source": [
    "forest = RandomForestClassifier(n_estimators=100, n_jobs=4, class_weight='balanced', random_state = RAND_STATE)\n",
    "cv_dict = cross_validate(forest, X_train_reduced, y_train, cv = 10, scoring=['accuracy', 'roc_auc'])\n",
    "print(f'Accuracy: {cv_dict[\"test_accuracy\"].mean()}')\n",
    "print(f'AUC: {cv_dict[\"test_roc_auc\"].mean()}')"
   ]
  },
  {
   "cell_type": "markdown",
   "metadata": {},
   "source": [
    "### Random forest primenjen na undersample-ovan skup podataka"
   ]
  },
  {
   "cell_type": "code",
   "execution_count": 338,
   "metadata": {},
   "outputs": [
    {
     "name": "stdout",
     "output_type": "stream",
     "text": [
      "Accuracy: 0.5722448128453759\n",
      "AUC: 0.620743991358358\n"
     ]
    }
   ],
   "source": [
    "forest = RandomForestClassifier(n_estimators=100, n_jobs=4, class_weight='balanced', random_state = RAND_STATE)\n",
    "cv_dict = cross_validate(forest, X_rus, y_rus, cv = 10, scoring=['accuracy', 'roc_auc'])\n",
    "print(f'Accuracy: {cv_dict[\"test_accuracy\"].mean()}')\n",
    "print(f'AUC: {cv_dict[\"test_roc_auc\"].mean()}')"
   ]
  },
  {
   "cell_type": "markdown",
   "metadata": {},
   "source": [
    "### Random forest primenjen na oversample-ovan skup podataka"
   ]
  },
  {
   "cell_type": "code",
   "execution_count": 339,
   "metadata": {},
   "outputs": [
    {
     "name": "stdout",
     "output_type": "stream",
     "text": [
      "Accuracy: 0.9748308108773225\n",
      "AUC: 0.999745801348196\n"
     ]
    }
   ],
   "source": [
    "forest = RandomForestClassifier(n_estimators=100, n_jobs=4, class_weight='balanced', random_state = RAND_STATE)\n",
    "cv_dict = cross_validate(forest, X_ros, y_ros, cv = 10, scoring=['accuracy', 'roc_auc'])\n",
    "print(f'Accuracy: {cv_dict[\"test_accuracy\"].mean()}')\n",
    "print(f'AUC: {cv_dict[\"test_roc_auc\"].mean()}')"
   ]
  },
  {
   "cell_type": "code",
   "execution_count": 95,
   "metadata": {},
   "outputs": [
    {
     "name": "stdout",
     "output_type": "stream",
     "text": [
      "Best param:  {'min_samples_leaf': 1, 'min_samples_split': 2}\n",
      "Best score:  0.9729278387417922\n"
     ]
    }
   ],
   "source": [
    "# from sklearn.model_selection import GridSearchCV\n",
    "\n",
    "# rf_params = {'min_samples_leaf': range(1, 10, 1), 'min_samples_split': list(range(1, 20, 1))}\n",
    "# grid = GridSearchCV(RandomForestClassifier(n_estimators=100, n_jobs=4, class_weight='balanced', random_state = RAND_STATE), rf_params, cv=10, scoring='accuracy')\n",
    "# grid.fit(X_ros, y_ros)\n",
    "\n",
    "# print('Best param: ', grid.best_params_)\n",
    "# print('Best score: ', grid.best_score_)"
   ]
  },
  {
   "cell_type": "code",
   "execution_count": 341,
   "metadata": {},
   "outputs": [
    {
     "name": "stdout",
     "output_type": "stream",
     "text": [
      "0.8377581120943953\n",
      "[[1122   61]\n",
      " [ 159   14]]\n"
     ]
    }
   ],
   "source": [
    "forest = RandomForestClassifier(n_estimators=100, n_jobs=4, class_weight='balanced', random_state = RAND_STATE, min_samples_leaf=1, min_samples_split=2)\n",
    "forest.fit(X_ros, y_ros)\n",
    "y_hat = forest.predict(X_test_reduced)\n",
    "print(accuracy_score(y_test, y_hat))\n",
    "print(confusion_matrix(y_test, y_hat))"
   ]
  },
  {
   "cell_type": "markdown",
   "metadata": {},
   "source": [
    "### Random forest primenjen na test skupu"
   ]
  },
  {
   "cell_type": "code",
   "execution_count": 343,
   "metadata": {},
   "outputs": [
    {
     "name": "stdout",
     "output_type": "stream",
     "text": [
      "Accuracy: 0.8377581120943953\n",
      "Auc: 0.6267425327007364\n"
     ]
    }
   ],
   "source": [
    "rf_auc = roc_auc_score(y_test, forest.predict_proba(X_test_reduced)[:, 1])\n",
    "rf_acc = accuracy_score(y_test, forest.predict(X_test_reduced))\n",
    "print(f'Accuracy: {rf_acc}')\n",
    "print(f'Auc: {rf_auc}')"
   ]
  },
  {
   "cell_type": "markdown",
   "metadata": {},
   "source": [
    "# Bagging"
   ]
  },
  {
   "cell_type": "markdown",
   "metadata": {},
   "source": [
    "### Bagging na oversample-ovanom skupu, sa random forestom kao base_estimatorom"
   ]
  },
  {
   "cell_type": "code",
   "execution_count": 344,
   "metadata": {},
   "outputs": [
    {
     "name": "stdout",
     "output_type": "stream",
     "text": [
      "Accuracy: 0.9499796413749904\n",
      "Auc: 0.9987222084511899\n"
     ]
    }
   ],
   "source": [
    "from sklearn.ensemble import BaggingClassifier\n",
    "\n",
    "model_bagging = BaggingClassifier(base_estimator=forest, n_estimators=10)\n",
    "cv_dict = cross_validate(model_bagging, X_ros, y_ros, cv=10, scoring=['accuracy', 'roc_auc'])\n",
    "print(f\"Accuracy: {cv_dict['test_accuracy'].mean()}\")\n",
    "print(f\"Auc: {cv_dict['test_roc_auc'].mean()}\")"
   ]
  },
  {
   "cell_type": "markdown",
   "metadata": {},
   "source": [
    "### Bagging primenjen na test skupu"
   ]
  },
  {
   "cell_type": "code",
   "execution_count": 345,
   "metadata": {},
   "outputs": [
    {
     "name": "stdout",
     "output_type": "stream",
     "text": [
      "Accuracy 0.799410029498525\n",
      "AUC:  0.6379294338387268\n",
      "[[1056  127]\n",
      " [ 145   28]]\n"
     ]
    }
   ],
   "source": [
    "model_bagging.fit(X_ros, y_ros)\n",
    "y_hat = model_bagging.predict(X_test_reduced)\n",
    "print(f'Accuracy {accuracy_score(y_test, y_hat)}')\n",
    "rf_bagging_auc = roc_auc_score(y_test, model_bagging.predict_proba(X_test_reduced)[:, 1])\n",
    "print('AUC: ', rf_bagging_auc)\n",
    "print(confusion_matrix(y_test, y_hat))"
   ]
  },
  {
   "cell_type": "markdown",
   "metadata": {},
   "source": [
    "## Logisticka regresija (vaznost atributa)"
   ]
  },
  {
   "cell_type": "code",
   "execution_count": 346,
   "metadata": {},
   "outputs": [
    {
     "data": {
      "text/plain": [
       "array([[ 1.90339650e-06, -2.18306841e-06, -5.38340678e-05,\n",
       "        -2.39097207e-04,  9.35397748e-05,  2.78663846e-08,\n",
       "         6.62569007e-08,  2.64746110e-08,  3.48756372e-08,\n",
       "         2.26694297e-08,  4.48243298e-08,  2.65759880e-08,\n",
       "         1.11457213e-07,  3.50250646e-08,  1.69247197e-06,\n",
       "        -2.00625460e-06, -4.14345413e-07,  7.11353209e-07,\n",
       "         9.55321359e-08,  2.23341708e-07]])"
      ]
     },
     "execution_count": 346,
     "metadata": {},
     "output_type": "execute_result"
    }
   ],
   "source": [
    "model_lr = LogisticRegression(solver='liblinear')\n",
    "model_lr.fit(X_train_reduced, y_train)\n",
    "model_lr.coef_"
   ]
  },
  {
   "cell_type": "code",
   "execution_count": 347,
   "metadata": {},
   "outputs": [
    {
     "data": {
      "text/plain": [
       "<AxesSubplot:ylabel='att'>"
      ]
     },
     "execution_count": 347,
     "metadata": {},
     "output_type": "execute_result"
    },
    {
     "data": {
      "image/png": "[encoded data removed]",
      "text/plain": [
       "<Figure size 720x720 with 1 Axes>"
      ]
     },
     "metadata": {},
     "output_type": "display_data"
    }
   ],
   "source": [
    "coefs = pd.DataFrame({'att':X_train_reduced.columns, 'coef':model_lr.coef_[0]}).sort_values(by='coef',ascending=True)\n",
    "coefs.plot.barh(x='att',y='coef',figsize=(10, 10))"
   ]
  },
  {
   "cell_type": "markdown",
   "metadata": {},
   "source": [
    "## AdaBoost"
   ]
  },
  {
   "cell_type": "code",
   "execution_count": 349,
   "metadata": {},
   "outputs": [
    {
     "data": {
      "text/plain": [
       "0.9746197299685673"
      ]
     },
     "execution_count": 349,
     "metadata": {},
     "output_type": "execute_result"
    }
   ],
   "source": [
    "from sklearn.ensemble import AdaBoostClassifier\n",
    "\n",
    "model_boost = AdaBoostClassifier(base_estimator=forest, n_estimators=10, learning_rate=0.2, random_state = RAND_STATE)\n",
    "cross_validate(model_boost, X_ros, y_ros, cv = 10, scoring='accuracy')['test_score'].mean()"
   ]
  },
  {
   "cell_type": "markdown",
   "metadata": {},
   "source": [
    "### AdaBoost primenjen na test podacima"
   ]
  },
  {
   "cell_type": "code",
   "execution_count": 350,
   "metadata": {},
   "outputs": [
    {
     "name": "stdout",
     "output_type": "stream",
     "text": [
      "Accuracy 0.8362831858407079\n",
      "AUC:  0.6223840632466688\n",
      "[[1118   65]\n",
      " [ 157   16]]\n"
     ]
    }
   ],
   "source": [
    "model_boost.fit(X_ros, y_ros)\n",
    "y_hat = model_boost.predict(X_test_reduced)\n",
    "rf_ada_boost_auc = roc_auc_score(y_test, model_boost.predict_proba(X_test_reduced)[:, 1])\n",
    "print(f'Accuracy {accuracy_score(y_test, y_hat)}')\n",
    "print('AUC: ', rf_ada_boost_auc)\n",
    "print(confusion_matrix(y_test, y_hat))"
   ]
  },
  {
   "cell_type": "markdown",
   "metadata": {},
   "source": [
    "## Poredjenje dobijenih rezultata"
   ]
  },
  {
   "cell_type": "code",
   "execution_count": 351,
   "metadata": {},
   "outputs": [],
   "source": [
    "from sklearn.metrics import precision_score, recall_score, f1_score\n",
    "\n",
    "def compute_eval_metrics(y, y_hat, pos_label):\n",
    "    return {'Accuracy': accuracy_score(y, y_hat), 'Precision': precision_score(y, y_hat, pos_label = pos_label), 'Recall': recall_score(y, y_hat, pos_label = pos_label), 'F1': f1_score(y, y_hat, pos_label=pos_label)}"
   ]
  },
  {
   "cell_type": "markdown",
   "metadata": {},
   "source": [
    "### Metrike za IsBadBuy == 'Yes'"
   ]
  },
  {
   "cell_type": "code",
   "execution_count": 352,
   "metadata": {},
   "outputs": [
    {
     "data": {
      "text/html": [
       "<div>\n",
       "<style scoped>\n",
       "    .dataframe tbody tr th:only-of-type {\n",
       "        vertical-align: middle;\n",
       "    }\n",
       "\n",
       "    .dataframe tbody tr th {\n",
       "        vertical-align: top;\n",
       "    }\n",
       "\n",
       "    .dataframe thead th {\n",
       "        text-align: right;\n",
       "    }\n",
       "</style>\n",
       "<table border=\"1\" class=\"dataframe\">\n",
       "  <thead>\n",
       "    <tr style=\"text-align: right;\">\n",
       "      <th></th>\n",
       "      <th>Accuracy</th>\n",
       "      <th>Precision</th>\n",
       "      <th>Recall</th>\n",
       "      <th>F1</th>\n",
       "    </tr>\n",
       "  </thead>\n",
       "  <tbody>\n",
       "    <tr>\n",
       "      <th>Random forest</th>\n",
       "      <td>0.837758</td>\n",
       "      <td>0.186667</td>\n",
       "      <td>0.080925</td>\n",
       "      <td>0.112903</td>\n",
       "    </tr>\n",
       "    <tr>\n",
       "      <th>Random forest with Bagging</th>\n",
       "      <td>0.799410</td>\n",
       "      <td>0.180645</td>\n",
       "      <td>0.161850</td>\n",
       "      <td>0.170732</td>\n",
       "    </tr>\n",
       "    <tr>\n",
       "      <th>Random forest with AdaBoost</th>\n",
       "      <td>0.836283</td>\n",
       "      <td>0.197531</td>\n",
       "      <td>0.092486</td>\n",
       "      <td>0.125984</td>\n",
       "    </tr>\n",
       "  </tbody>\n",
       "</table>\n",
       "</div>"
      ],
      "text/plain": [
       "                             Accuracy  Precision    Recall        F1\n",
       "Random forest                0.837758   0.186667  0.080925  0.112903\n",
       "Random forest with Bagging   0.799410   0.180645  0.161850  0.170732\n",
       "Random forest with AdaBoost  0.836283   0.197531  0.092486  0.125984"
      ]
     },
     "execution_count": 352,
     "metadata": {},
     "output_type": "execute_result"
    }
   ],
   "source": [
    "rf_df = pd.DataFrame({metric: [score] for metric, score in compute_eval_metrics(y_test, forest.predict(X_test_reduced), 'Yes').items()}, index=['Random forest'])\n",
    "bagging_df = pd.DataFrame({metric: [score] for metric, score in compute_eval_metrics(y_test, model_bagging.predict(X_test_reduced), 'Yes').items()}, index=['Random forest with Bagging'])\n",
    "ada_boost_df = pd.DataFrame({metric: [score] for metric, score in compute_eval_metrics(y_test, model_boost.predict(X_test_reduced), 'Yes').items()}, index=['Random forest with AdaBoost'])\n",
    "pd.concat([rf_df, bagging_df, ada_boost_df])"
   ]
  },
  {
   "cell_type": "markdown",
   "metadata": {},
   "source": [
    "### Metrike za IsBadBuy == 'No'"
   ]
  },
  {
   "cell_type": "code",
   "execution_count": 353,
   "metadata": {},
   "outputs": [
    {
     "data": {
      "text/html": [
       "<div>\n",
       "<style scoped>\n",
       "    .dataframe tbody tr th:only-of-type {\n",
       "        vertical-align: middle;\n",
       "    }\n",
       "\n",
       "    .dataframe tbody tr th {\n",
       "        vertical-align: top;\n",
       "    }\n",
       "\n",
       "    .dataframe thead th {\n",
       "        text-align: right;\n",
       "    }\n",
       "</style>\n",
       "<table border=\"1\" class=\"dataframe\">\n",
       "  <thead>\n",
       "    <tr style=\"text-align: right;\">\n",
       "      <th></th>\n",
       "      <th>Accuracy</th>\n",
       "      <th>Precision</th>\n",
       "      <th>Recall</th>\n",
       "      <th>F1</th>\n",
       "    </tr>\n",
       "  </thead>\n",
       "  <tbody>\n",
       "    <tr>\n",
       "      <th>Random forest</th>\n",
       "      <td>0.837758</td>\n",
       "      <td>0.875878</td>\n",
       "      <td>0.948436</td>\n",
       "      <td>0.910714</td>\n",
       "    </tr>\n",
       "    <tr>\n",
       "      <th>Random forest with Bagging</th>\n",
       "      <td>0.799410</td>\n",
       "      <td>0.879267</td>\n",
       "      <td>0.892646</td>\n",
       "      <td>0.885906</td>\n",
       "    </tr>\n",
       "    <tr>\n",
       "      <th>Random forest with AdaBoost</th>\n",
       "      <td>0.836283</td>\n",
       "      <td>0.876863</td>\n",
       "      <td>0.945055</td>\n",
       "      <td>0.909683</td>\n",
       "    </tr>\n",
       "  </tbody>\n",
       "</table>\n",
       "</div>"
      ],
      "text/plain": [
       "                             Accuracy  Precision    Recall        F1\n",
       "Random forest                0.837758   0.875878  0.948436  0.910714\n",
       "Random forest with Bagging   0.799410   0.879267  0.892646  0.885906\n",
       "Random forest with AdaBoost  0.836283   0.876863  0.945055  0.909683"
      ]
     },
     "execution_count": 353,
     "metadata": {},
     "output_type": "execute_result"
    }
   ],
   "source": [
    "\n",
    "rf_df = pd.DataFrame({metric: [score] for metric, score in compute_eval_metrics(y_test, forest.predict(X_test_reduced), 'No').items()}, index=['Random forest'])\n",
    "bagging_df = pd.DataFrame({metric: [score] for metric, score in compute_eval_metrics(y_test, model_bagging.predict(X_test_reduced), 'No').items()}, index=['Random forest with Bagging'])\n",
    "ada_boost_df = pd.DataFrame({metric: [score] for metric, score in compute_eval_metrics(y_test, model_boost.predict(X_test_reduced), 'No').items()}, index=['Random forest with AdaBoost'])\n",
    "pd.concat([rf_df, bagging_df, ada_boost_df])"
   ]
  },
  {
   "cell_type": "markdown",
   "metadata": {},
   "source": [
    "## ROC AUC"
   ]
  },
  {
   "cell_type": "code",
   "execution_count": 354,
   "metadata": {},
   "outputs": [
    {
     "data": {
      "image/png": "[encoded data removed]",
      "text/plain": [
       "<Figure size 1080x576 with 1 Axes>"
      ]
     },
     "metadata": {},
     "output_type": "display_data"
    }
   ],
   "source": [
    "from sklearn.metrics import roc_curve\n",
    "\n",
    "ns_probs = [0 for _ in range(len(y_test))]\n",
    "ns_fpr, ns_tpr, _ = roc_curve(y_test.map({'No': 0, 'Yes': 1}), ns_probs)\n",
    "rf_fpr, rf_tpr, _ = roc_curve(y_test.map({'No': 0, 'Yes': 1}), forest.predict_proba(X_test_reduced)[:, 1])\n",
    "rf_bagging_fpr, rf_bagging_tpr, _ = roc_curve(y_test.map({'No': 0, 'Yes': 1}), model_bagging.predict_proba(X_test_reduced)[:, 1])\n",
    "rf_ada_boost_fpr, rf_ada_boost_tpr, _ = roc_curve(y_test.map({'No': 0, 'Yes': 1}), model_boost.predict_proba(X_test_reduced)[:, 1])\n",
    "\n",
    "# plot the roc curve for the model\n",
    "plt.plot(ns_fpr, ns_tpr, linestyle='--', label='Diagonal')\n",
    "plt.plot(rf_fpr, rf_tpr, marker='.', label=f'Random Forest, AUC = {rf_auc}')\n",
    "plt.plot(rf_bagging_fpr, rf_bagging_tpr, marker='.', label=f'Random Forest with Bagging, AUC = {rf_bagging_auc}')\n",
    "plt.plot(rf_ada_boost_fpr, rf_ada_boost_tpr, marker='.', label=f'Random Forest with AdaBoost, AUC = {rf_ada_boost_auc}')\n",
    "\n",
    "# axis labels\n",
    "plt.xlabel('False Positive Rate')\n",
    "plt.ylabel('True Positive Rate')\n",
    "# show the legend\n",
    "plt.legend()\n",
    "# show the plot\n",
    "plt.show()"
   ]
  },
  {
   "cell_type": "markdown",
   "metadata": {},
   "source": [
    "## Threshold"
   ]
  },
  {
   "cell_type": "code",
   "execution_count": 355,
   "metadata": {},
   "outputs": [
    {
     "name": "stdout",
     "output_type": "stream",
     "text": [
      "0.7205014749262537\n",
      "0.6267425327007364\n"
     ]
    }
   ],
   "source": [
    "verovatnoce = forest.predict_proba(X_test_reduced)\n",
    "granica = 0.7\n",
    "predvidjanja = np.array(['No' if x > granica else 'Yes' for x in verovatnoce[:, 0]])\n",
    "print(accuracy_score(y_test, predvidjanja))\n",
    "print(roc_auc_score(y_test, verovatnoce[:, 1]))"
   ]
  },
  {
   "cell_type": "code",
   "execution_count": 356,
   "metadata": {},
   "outputs": [
    {
     "data": {
      "text/plain": [
       "array([[922, 261],\n",
       "       [118,  55]])"
      ]
     },
     "execution_count": 356,
     "metadata": {},
     "output_type": "execute_result"
    }
   ],
   "source": [
    "confusion_matrix(y_test, predvidjanja)"
   ]
  }
 ],
 "metadata": {
  "interpreter": {
   "hash": "8de6c426076a9c44f31852f94ab5aa37405a1d52ca8d542df23e7e6934183ee7"
  },
  "kernelspec": {
   "display_name": "Python 3.9.7 ('base')",
   "language": "python",
   "name": "python3"
  },
  "language_info": {
   "codemirror_mode": {
    "name": "ipython",
    "version": 3
   },
   "file_extension": ".py",
   "mimetype": "text/x-python",
   "name": "python",
   "nbconvert_exporter": "python",
   "pygments_lexer": "ipython3",
   "version": "3.9.7"
  },
  "orig_nbformat": 4
 },
 "nbformat": 4,
 "nbformat_minor": 2
}
